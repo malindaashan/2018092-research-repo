{
  "cells": [
    {
      "cell_type": "code",
      "execution_count": 1,
      "id": "af398bc8",
      "metadata": {
        "id": "af398bc8"
      },
      "outputs": [],
      "source": [
        "import pandas as pd\n",
        "import unicodedata\n",
        "import re\n",
        "import nltk"
      ]
    },
    {
      "cell_type": "code",
      "source": [
        "from google.colab import drive\n",
        "import pandas as pd\n",
        "import numpy as np\n",
        "from sklearn import linear_model\n",
        "from sklearn import datasets\n",
        "from sklearn import preprocessing\n",
        "from sklearn.preprocessing import StandardScaler\n",
        "import nltk\n",
        "\n",
        "# Loading data via google drive\n",
        "drive.mount('/content/drive')"
      ],
      "metadata": {
        "colab": {
          "base_uri": "https://localhost:8080/"
        },
        "id": "gk7lSOqtgOZi",
        "outputId": "c308871b-eb7f-401b-b523-abd46ee9f167"
      },
      "id": "gk7lSOqtgOZi",
      "execution_count": 2,
      "outputs": [
        {
          "output_type": "stream",
          "name": "stdout",
          "text": [
            "Mounted at /content/drive\n"
          ]
        }
      ]
    },
    {
      "cell_type": "code",
      "execution_count": 3,
      "id": "a30f85cc",
      "metadata": {
        "colab": {
          "base_uri": "https://localhost:8080/",
          "height": 424
        },
        "id": "a30f85cc",
        "outputId": "267200e2-9d64-435b-bec9-a80c120bf9a0"
      },
      "outputs": [
        {
          "output_type": "execute_result",
          "data": {
            "text/plain": [
              "    song_id                     song_name                           Artist  \\\n",
              "0      C 01      Kaulu Piyan Path Wahanna                    Kasun Kalhara   \n",
              "1      C 02    Ruk Aththana Mala Mudune\\n                     Nanda Malini   \n",
              "2      C 03               Samanala Mudune  H R Jothipala and Latha Walpola   \n",
              "3      C 04               Niwan Dutu Himi                Victor Rathnayaka   \n",
              "4      C 05  Suwanda Danee Danee Danenawa            Rookantha Gunathilake   \n",
              "..      ...                           ...                              ...   \n",
              "157    S 48               Dangakaaree Man              Indrani Wijebandara   \n",
              "158    S 49               Edaa Wage Adath             Somathilaka Jayamaha   \n",
              "159    S 50        Paluwa Dewanath Karala                  Gunadasa Kapuge   \n",
              "160    S 51             Pawena Nil Walawe                  W. D. Amaradeva   \n",
              "161    S 52                  Andara Yaye            Karunarathna Divulgane   \n",
              "\n",
              "                                                Lyrics  Type  \n",
              "0    කවුළු පියන්පත් වහන්න සඳළුතලාවේ\\r\\nඔබ දුරයි නෙත...  Calm  \n",
              "1    රුක් අත්තන මල මුදුනේ\\r\\n\\r\\nබඹරු නටන හැන්දෑවේ…...  Calm  \n",
              "2    \\r\\nසමනළ මුදුනේ සිරිපද සිඹ සිඹ\\r\\nඋදා ඉරක් පාය...  Calm  \n",
              "3    නිවන් දුටු හිමි රැවන් පිළිරැව\\r\\nපමණි මට අද ශේ...  Calm  \n",
              "4    සුවඳ දැනී දැනී දැනෙනවා...\\r\\nඋදා හිරු එළියේ......  Calm  \n",
              "..                                                 ...   ...  \n",
              "157  දඟකාරී මං මද්දුම දෝණි\\nඔබට අකීකරු නෑ අම්මේ\\nදඟ...   Sad  \n",
              "158  එදා වාගේ අදත් පොද වැස්ස වැටෙනවා\\r\\nමල් පිපුණු ...   Sad  \n",
              "159  පාළුව දෙවනත් කරලා\\r\\nනාඩන් උලලේනෝ\\r\\nකාටත් නපු...   Sad  \n",
              "160  පාවෙනා නිල් වලාවේ\\r\\nනදී තලාවේ\\r\\nරිදී ජලාසේ\\r...   Sad  \n",
              "161  අන්දර යායේ වැව්තාවුල්ලේ\\r\\nසක්මන් කරනා අප්පච්ච...   Sad  \n",
              "\n",
              "[162 rows x 5 columns]"
            ],
            "text/html": [
              "\n",
              "  <div id=\"df-7809e43f-0064-41ba-b981-dcfbc761d0fb\" class=\"colab-df-container\">\n",
              "    <div>\n",
              "<style scoped>\n",
              "    .dataframe tbody tr th:only-of-type {\n",
              "        vertical-align: middle;\n",
              "    }\n",
              "\n",
              "    .dataframe tbody tr th {\n",
              "        vertical-align: top;\n",
              "    }\n",
              "\n",
              "    .dataframe thead th {\n",
              "        text-align: right;\n",
              "    }\n",
              "</style>\n",
              "<table border=\"1\" class=\"dataframe\">\n",
              "  <thead>\n",
              "    <tr style=\"text-align: right;\">\n",
              "      <th></th>\n",
              "      <th>song_id</th>\n",
              "      <th>song_name</th>\n",
              "      <th>Artist</th>\n",
              "      <th>Lyrics</th>\n",
              "      <th>Type</th>\n",
              "    </tr>\n",
              "  </thead>\n",
              "  <tbody>\n",
              "    <tr>\n",
              "      <th>0</th>\n",
              "      <td>C 01</td>\n",
              "      <td>Kaulu Piyan Path Wahanna</td>\n",
              "      <td>Kasun Kalhara</td>\n",
              "      <td>කවුළු පියන්පත් වහන්න සඳළුතලාවේ\\r\\nඔබ දුරයි නෙත...</td>\n",
              "      <td>Calm</td>\n",
              "    </tr>\n",
              "    <tr>\n",
              "      <th>1</th>\n",
              "      <td>C 02</td>\n",
              "      <td>Ruk Aththana Mala Mudune\\n</td>\n",
              "      <td>Nanda Malini</td>\n",
              "      <td>රුක් අත්තන මල මුදුනේ\\r\\n\\r\\nබඹරු නටන හැන්දෑවේ…...</td>\n",
              "      <td>Calm</td>\n",
              "    </tr>\n",
              "    <tr>\n",
              "      <th>2</th>\n",
              "      <td>C 03</td>\n",
              "      <td>Samanala Mudune</td>\n",
              "      <td>H R Jothipala and Latha Walpola</td>\n",
              "      <td>\\r\\nසමනළ මුදුනේ සිරිපද සිඹ සිඹ\\r\\nඋදා ඉරක් පාය...</td>\n",
              "      <td>Calm</td>\n",
              "    </tr>\n",
              "    <tr>\n",
              "      <th>3</th>\n",
              "      <td>C 04</td>\n",
              "      <td>Niwan Dutu Himi</td>\n",
              "      <td>Victor Rathnayaka</td>\n",
              "      <td>නිවන් දුටු හිමි රැවන් පිළිරැව\\r\\nපමණි මට අද ශේ...</td>\n",
              "      <td>Calm</td>\n",
              "    </tr>\n",
              "    <tr>\n",
              "      <th>4</th>\n",
              "      <td>C 05</td>\n",
              "      <td>Suwanda Danee Danee Danenawa</td>\n",
              "      <td>Rookantha Gunathilake</td>\n",
              "      <td>සුවඳ දැනී දැනී දැනෙනවා...\\r\\nඋදා හිරු එළියේ......</td>\n",
              "      <td>Calm</td>\n",
              "    </tr>\n",
              "    <tr>\n",
              "      <th>...</th>\n",
              "      <td>...</td>\n",
              "      <td>...</td>\n",
              "      <td>...</td>\n",
              "      <td>...</td>\n",
              "      <td>...</td>\n",
              "    </tr>\n",
              "    <tr>\n",
              "      <th>157</th>\n",
              "      <td>S 48</td>\n",
              "      <td>Dangakaaree Man</td>\n",
              "      <td>Indrani Wijebandara</td>\n",
              "      <td>දඟකාරී මං මද්දුම දෝණි\\nඔබට අකීකරු නෑ අම්මේ\\nදඟ...</td>\n",
              "      <td>Sad</td>\n",
              "    </tr>\n",
              "    <tr>\n",
              "      <th>158</th>\n",
              "      <td>S 49</td>\n",
              "      <td>Edaa Wage Adath</td>\n",
              "      <td>Somathilaka Jayamaha</td>\n",
              "      <td>එදා වාගේ අදත් පොද වැස්ස වැටෙනවා\\r\\nමල් පිපුණු ...</td>\n",
              "      <td>Sad</td>\n",
              "    </tr>\n",
              "    <tr>\n",
              "      <th>159</th>\n",
              "      <td>S 50</td>\n",
              "      <td>Paluwa Dewanath Karala</td>\n",
              "      <td>Gunadasa Kapuge</td>\n",
              "      <td>පාළුව දෙවනත් කරලා\\r\\nනාඩන් උලලේනෝ\\r\\nකාටත් නපු...</td>\n",
              "      <td>Sad</td>\n",
              "    </tr>\n",
              "    <tr>\n",
              "      <th>160</th>\n",
              "      <td>S 51</td>\n",
              "      <td>Pawena Nil Walawe</td>\n",
              "      <td>W. D. Amaradeva</td>\n",
              "      <td>පාවෙනා නිල් වලාවේ\\r\\nනදී තලාවේ\\r\\nරිදී ජලාසේ\\r...</td>\n",
              "      <td>Sad</td>\n",
              "    </tr>\n",
              "    <tr>\n",
              "      <th>161</th>\n",
              "      <td>S 52</td>\n",
              "      <td>Andara Yaye</td>\n",
              "      <td>Karunarathna Divulgane</td>\n",
              "      <td>අන්දර යායේ වැව්තාවුල්ලේ\\r\\nසක්මන් කරනා අප්පච්ච...</td>\n",
              "      <td>Sad</td>\n",
              "    </tr>\n",
              "  </tbody>\n",
              "</table>\n",
              "<p>162 rows × 5 columns</p>\n",
              "</div>\n",
              "    <div class=\"colab-df-buttons\">\n",
              "\n",
              "  <div class=\"colab-df-container\">\n",
              "    <button class=\"colab-df-convert\" onclick=\"convertToInteractive('df-7809e43f-0064-41ba-b981-dcfbc761d0fb')\"\n",
              "            title=\"Convert this dataframe to an interactive table.\"\n",
              "            style=\"display:none;\">\n",
              "\n",
              "  <svg xmlns=\"http://www.w3.org/2000/svg\" height=\"24px\" viewBox=\"0 -960 960 960\">\n",
              "    <path d=\"M120-120v-720h720v720H120Zm60-500h600v-160H180v160Zm220 220h160v-160H400v160Zm0 220h160v-160H400v160ZM180-400h160v-160H180v160Zm440 0h160v-160H620v160ZM180-180h160v-160H180v160Zm440 0h160v-160H620v160Z\"/>\n",
              "  </svg>\n",
              "    </button>\n",
              "\n",
              "  <style>\n",
              "    .colab-df-container {\n",
              "      display:flex;\n",
              "      gap: 12px;\n",
              "    }\n",
              "\n",
              "    .colab-df-convert {\n",
              "      background-color: #E8F0FE;\n",
              "      border: none;\n",
              "      border-radius: 50%;\n",
              "      cursor: pointer;\n",
              "      display: none;\n",
              "      fill: #1967D2;\n",
              "      height: 32px;\n",
              "      padding: 0 0 0 0;\n",
              "      width: 32px;\n",
              "    }\n",
              "\n",
              "    .colab-df-convert:hover {\n",
              "      background-color: #E2EBFA;\n",
              "      box-shadow: 0px 1px 2px rgba(60, 64, 67, 0.3), 0px 1px 3px 1px rgba(60, 64, 67, 0.15);\n",
              "      fill: #174EA6;\n",
              "    }\n",
              "\n",
              "    .colab-df-buttons div {\n",
              "      margin-bottom: 4px;\n",
              "    }\n",
              "\n",
              "    [theme=dark] .colab-df-convert {\n",
              "      background-color: #3B4455;\n",
              "      fill: #D2E3FC;\n",
              "    }\n",
              "\n",
              "    [theme=dark] .colab-df-convert:hover {\n",
              "      background-color: #434B5C;\n",
              "      box-shadow: 0px 1px 3px 1px rgba(0, 0, 0, 0.15);\n",
              "      filter: drop-shadow(0px 1px 2px rgba(0, 0, 0, 0.3));\n",
              "      fill: #FFFFFF;\n",
              "    }\n",
              "  </style>\n",
              "\n",
              "    <script>\n",
              "      const buttonEl =\n",
              "        document.querySelector('#df-7809e43f-0064-41ba-b981-dcfbc761d0fb button.colab-df-convert');\n",
              "      buttonEl.style.display =\n",
              "        google.colab.kernel.accessAllowed ? 'block' : 'none';\n",
              "\n",
              "      async function convertToInteractive(key) {\n",
              "        const element = document.querySelector('#df-7809e43f-0064-41ba-b981-dcfbc761d0fb');\n",
              "        const dataTable =\n",
              "          await google.colab.kernel.invokeFunction('convertToInteractive',\n",
              "                                                    [key], {});\n",
              "        if (!dataTable) return;\n",
              "\n",
              "        const docLinkHtml = 'Like what you see? Visit the ' +\n",
              "          '<a target=\"_blank\" href=https://colab.research.google.com/notebooks/data_table.ipynb>data table notebook</a>'\n",
              "          + ' to learn more about interactive tables.';\n",
              "        element.innerHTML = '';\n",
              "        dataTable['output_type'] = 'display_data';\n",
              "        await google.colab.output.renderOutput(dataTable, element);\n",
              "        const docLink = document.createElement('div');\n",
              "        docLink.innerHTML = docLinkHtml;\n",
              "        element.appendChild(docLink);\n",
              "      }\n",
              "    </script>\n",
              "  </div>\n",
              "\n",
              "\n",
              "<div id=\"df-90639ae3-3968-4eac-a810-cc625070fbf3\">\n",
              "  <button class=\"colab-df-quickchart\" onclick=\"quickchart('df-90639ae3-3968-4eac-a810-cc625070fbf3')\"\n",
              "            title=\"Suggest charts\"\n",
              "            style=\"display:none;\">\n",
              "\n",
              "<svg xmlns=\"http://www.w3.org/2000/svg\" height=\"24px\"viewBox=\"0 0 24 24\"\n",
              "     width=\"24px\">\n",
              "    <g>\n",
              "        <path d=\"M19 3H5c-1.1 0-2 .9-2 2v14c0 1.1.9 2 2 2h14c1.1 0 2-.9 2-2V5c0-1.1-.9-2-2-2zM9 17H7v-7h2v7zm4 0h-2V7h2v10zm4 0h-2v-4h2v4z\"/>\n",
              "    </g>\n",
              "</svg>\n",
              "  </button>\n",
              "\n",
              "<style>\n",
              "  .colab-df-quickchart {\n",
              "      --bg-color: #E8F0FE;\n",
              "      --fill-color: #1967D2;\n",
              "      --hover-bg-color: #E2EBFA;\n",
              "      --hover-fill-color: #174EA6;\n",
              "      --disabled-fill-color: #AAA;\n",
              "      --disabled-bg-color: #DDD;\n",
              "  }\n",
              "\n",
              "  [theme=dark] .colab-df-quickchart {\n",
              "      --bg-color: #3B4455;\n",
              "      --fill-color: #D2E3FC;\n",
              "      --hover-bg-color: #434B5C;\n",
              "      --hover-fill-color: #FFFFFF;\n",
              "      --disabled-bg-color: #3B4455;\n",
              "      --disabled-fill-color: #666;\n",
              "  }\n",
              "\n",
              "  .colab-df-quickchart {\n",
              "    background-color: var(--bg-color);\n",
              "    border: none;\n",
              "    border-radius: 50%;\n",
              "    cursor: pointer;\n",
              "    display: none;\n",
              "    fill: var(--fill-color);\n",
              "    height: 32px;\n",
              "    padding: 0;\n",
              "    width: 32px;\n",
              "  }\n",
              "\n",
              "  .colab-df-quickchart:hover {\n",
              "    background-color: var(--hover-bg-color);\n",
              "    box-shadow: 0 1px 2px rgba(60, 64, 67, 0.3), 0 1px 3px 1px rgba(60, 64, 67, 0.15);\n",
              "    fill: var(--button-hover-fill-color);\n",
              "  }\n",
              "\n",
              "  .colab-df-quickchart-complete:disabled,\n",
              "  .colab-df-quickchart-complete:disabled:hover {\n",
              "    background-color: var(--disabled-bg-color);\n",
              "    fill: var(--disabled-fill-color);\n",
              "    box-shadow: none;\n",
              "  }\n",
              "\n",
              "  .colab-df-spinner {\n",
              "    border: 2px solid var(--fill-color);\n",
              "    border-color: transparent;\n",
              "    border-bottom-color: var(--fill-color);\n",
              "    animation:\n",
              "      spin 1s steps(1) infinite;\n",
              "  }\n",
              "\n",
              "  @keyframes spin {\n",
              "    0% {\n",
              "      border-color: transparent;\n",
              "      border-bottom-color: var(--fill-color);\n",
              "      border-left-color: var(--fill-color);\n",
              "    }\n",
              "    20% {\n",
              "      border-color: transparent;\n",
              "      border-left-color: var(--fill-color);\n",
              "      border-top-color: var(--fill-color);\n",
              "    }\n",
              "    30% {\n",
              "      border-color: transparent;\n",
              "      border-left-color: var(--fill-color);\n",
              "      border-top-color: var(--fill-color);\n",
              "      border-right-color: var(--fill-color);\n",
              "    }\n",
              "    40% {\n",
              "      border-color: transparent;\n",
              "      border-right-color: var(--fill-color);\n",
              "      border-top-color: var(--fill-color);\n",
              "    }\n",
              "    60% {\n",
              "      border-color: transparent;\n",
              "      border-right-color: var(--fill-color);\n",
              "    }\n",
              "    80% {\n",
              "      border-color: transparent;\n",
              "      border-right-color: var(--fill-color);\n",
              "      border-bottom-color: var(--fill-color);\n",
              "    }\n",
              "    90% {\n",
              "      border-color: transparent;\n",
              "      border-bottom-color: var(--fill-color);\n",
              "    }\n",
              "  }\n",
              "</style>\n",
              "\n",
              "  <script>\n",
              "    async function quickchart(key) {\n",
              "      const quickchartButtonEl =\n",
              "        document.querySelector('#' + key + ' button');\n",
              "      quickchartButtonEl.disabled = true;  // To prevent multiple clicks.\n",
              "      quickchartButtonEl.classList.add('colab-df-spinner');\n",
              "      try {\n",
              "        const charts = await google.colab.kernel.invokeFunction(\n",
              "            'suggestCharts', [key], {});\n",
              "      } catch (error) {\n",
              "        console.error('Error during call to suggestCharts:', error);\n",
              "      }\n",
              "      quickchartButtonEl.classList.remove('colab-df-spinner');\n",
              "      quickchartButtonEl.classList.add('colab-df-quickchart-complete');\n",
              "    }\n",
              "    (() => {\n",
              "      let quickchartButtonEl =\n",
              "        document.querySelector('#df-90639ae3-3968-4eac-a810-cc625070fbf3 button');\n",
              "      quickchartButtonEl.style.display =\n",
              "        google.colab.kernel.accessAllowed ? 'block' : 'none';\n",
              "    })();\n",
              "  </script>\n",
              "</div>\n",
              "\n",
              "  <div id=\"id_faca1108-5ebb-4b09-8841-41740ae4b057\">\n",
              "    <style>\n",
              "      .colab-df-generate {\n",
              "        background-color: #E8F0FE;\n",
              "        border: none;\n",
              "        border-radius: 50%;\n",
              "        cursor: pointer;\n",
              "        display: none;\n",
              "        fill: #1967D2;\n",
              "        height: 32px;\n",
              "        padding: 0 0 0 0;\n",
              "        width: 32px;\n",
              "      }\n",
              "\n",
              "      .colab-df-generate:hover {\n",
              "        background-color: #E2EBFA;\n",
              "        box-shadow: 0px 1px 2px rgba(60, 64, 67, 0.3), 0px 1px 3px 1px rgba(60, 64, 67, 0.15);\n",
              "        fill: #174EA6;\n",
              "      }\n",
              "\n",
              "      [theme=dark] .colab-df-generate {\n",
              "        background-color: #3B4455;\n",
              "        fill: #D2E3FC;\n",
              "      }\n",
              "\n",
              "      [theme=dark] .colab-df-generate:hover {\n",
              "        background-color: #434B5C;\n",
              "        box-shadow: 0px 1px 3px 1px rgba(0, 0, 0, 0.15);\n",
              "        filter: drop-shadow(0px 1px 2px rgba(0, 0, 0, 0.3));\n",
              "        fill: #FFFFFF;\n",
              "      }\n",
              "    </style>\n",
              "    <button class=\"colab-df-generate\" onclick=\"generateWithVariable('data_df')\"\n",
              "            title=\"Generate code using this dataframe.\"\n",
              "            style=\"display:none;\">\n",
              "\n",
              "  <svg xmlns=\"http://www.w3.org/2000/svg\" height=\"24px\"viewBox=\"0 0 24 24\"\n",
              "       width=\"24px\">\n",
              "    <path d=\"M7,19H8.4L18.45,9,17,7.55,7,17.6ZM5,21V16.75L18.45,3.32a2,2,0,0,1,2.83,0l1.4,1.43a1.91,1.91,0,0,1,.58,1.4,1.91,1.91,0,0,1-.58,1.4L9.25,21ZM18.45,9,17,7.55Zm-12,3A5.31,5.31,0,0,0,4.9,8.1,5.31,5.31,0,0,0,1,6.5,5.31,5.31,0,0,0,4.9,4.9,5.31,5.31,0,0,0,6.5,1,5.31,5.31,0,0,0,8.1,4.9,5.31,5.31,0,0,0,12,6.5,5.46,5.46,0,0,0,6.5,12Z\"/>\n",
              "  </svg>\n",
              "    </button>\n",
              "    <script>\n",
              "      (() => {\n",
              "      const buttonEl =\n",
              "        document.querySelector('#id_faca1108-5ebb-4b09-8841-41740ae4b057 button.colab-df-generate');\n",
              "      buttonEl.style.display =\n",
              "        google.colab.kernel.accessAllowed ? 'block' : 'none';\n",
              "\n",
              "      buttonEl.onclick = () => {\n",
              "        google.colab.notebook.generateWithVariable('data_df');\n",
              "      }\n",
              "      })();\n",
              "    </script>\n",
              "  </div>\n",
              "\n",
              "    </div>\n",
              "  </div>\n"
            ]
          },
          "metadata": {},
          "execution_count": 3
        }
      ],
      "source": [
        "data_df = pd.read_csv(r\"/content/drive/My Drive/data/dataset-metadata-with-lyrics.csv\")\n",
        "data_df = pd.DataFrame(data_df)\n",
        "data_df"
      ]
    },
    {
      "cell_type": "code",
      "execution_count": 4,
      "id": "b1a792a1",
      "metadata": {
        "id": "b1a792a1"
      },
      "outputs": [],
      "source": [
        "def lineBreakReplace(text):\n",
        "    return text.replace(\"\\r\\n\", \" \")"
      ]
    },
    {
      "cell_type": "code",
      "execution_count": 5,
      "id": "19aaf9de",
      "metadata": {
        "id": "19aaf9de"
      },
      "outputs": [],
      "source": [
        "data_df['Lyrics'] =data_df.apply(lambda x: lineBreakReplace(x.Lyrics), axis=1)"
      ]
    },
    {
      "cell_type": "code",
      "execution_count": 6,
      "id": "85c468d6",
      "metadata": {
        "id": "85c468d6"
      },
      "outputs": [],
      "source": [
        "def removeEscapSequences(text):\n",
        "    return \"\".join(ch for ch in text if unicodedata.category(ch)[0]!=\"C\")"
      ]
    },
    {
      "cell_type": "code",
      "execution_count": 7,
      "id": "4e767818",
      "metadata": {
        "id": "4e767818"
      },
      "outputs": [],
      "source": [
        "data_df['Lyrics'] =data_df.apply(lambda x: removeEscapSequences(x.Lyrics), axis=1)"
      ]
    },
    {
      "cell_type": "code",
      "execution_count": 8,
      "id": "ec360e61",
      "metadata": {
        "id": "ec360e61"
      },
      "outputs": [],
      "source": [
        "def remove_digits(text):\n",
        "    return ''.join([i for i in text if not i.isdigit()])"
      ]
    },
    {
      "cell_type": "code",
      "execution_count": 9,
      "id": "0ff52324",
      "metadata": {
        "id": "0ff52324"
      },
      "outputs": [],
      "source": [
        "data_df['Lyrics'] =data_df.apply(lambda x: removeEscapSequences(x.Lyrics), axis=1)"
      ]
    },
    {
      "cell_type": "code",
      "execution_count": 10,
      "id": "7c8b90f3",
      "metadata": {
        "id": "7c8b90f3"
      },
      "outputs": [],
      "source": [
        "def removeHtmlTags(text):\n",
        "    p = re.compile(r'<.*?>')\n",
        "    return p.sub('', text)"
      ]
    },
    {
      "cell_type": "code",
      "execution_count": 11,
      "id": "a19ab1f7",
      "metadata": {
        "id": "a19ab1f7"
      },
      "outputs": [],
      "source": [
        "data_df['Lyrics'] = data_df.apply(lambda x: removeHtmlTags(x.Lyrics), axis=1)"
      ]
    },
    {
      "cell_type": "code",
      "execution_count": 12,
      "id": "6f7710d2",
      "metadata": {
        "colab": {
          "base_uri": "https://localhost:8080/",
          "height": 206
        },
        "id": "6f7710d2",
        "outputId": "16258de6-df51-4a3e-f266-73a3f3ce7a6b"
      },
      "outputs": [
        {
          "output_type": "execute_result",
          "data": {
            "text/plain": [
              "  song_id                     song_name                           Artist  \\\n",
              "0    C 01      Kaulu Piyan Path Wahanna                    Kasun Kalhara   \n",
              "1    C 02    Ruk Aththana Mala Mudune\\n                     Nanda Malini   \n",
              "2    C 03               Samanala Mudune  H R Jothipala and Latha Walpola   \n",
              "3    C 04               Niwan Dutu Himi                Victor Rathnayaka   \n",
              "4    C 05  Suwanda Danee Danee Danenawa            Rookantha Gunathilake   \n",
              "\n",
              "                                              Lyrics  Type  \n",
              "0  කවුළු පියන්පත් වහන්න සඳළුතලාවේ ඔබ දුරයි නෙතට ම...  Calm  \n",
              "1  රුක් අත්තන මල මුදුනේ  බඹරු නටන හැන්දෑවේ… සැදෑ ...  Calm  \n",
              "2   සමනළ මුදුනේ සිරිපද සිඹ සිඹ උදා ඉරක් පායයි සැන...  Calm  \n",
              "3  නිවන් දුටු හිමි රැවන් පිළිරැව පමණි මට අද ශේෂ ව...  Calm  \n",
              "4  සුවඳ දැනී දැනී දැනෙනවා... උදා හිරු එළියේ... අළ...  Calm  "
            ],
            "text/html": [
              "\n",
              "  <div id=\"df-aba2d376-b386-48a3-aa1f-080508c9db8e\" class=\"colab-df-container\">\n",
              "    <div>\n",
              "<style scoped>\n",
              "    .dataframe tbody tr th:only-of-type {\n",
              "        vertical-align: middle;\n",
              "    }\n",
              "\n",
              "    .dataframe tbody tr th {\n",
              "        vertical-align: top;\n",
              "    }\n",
              "\n",
              "    .dataframe thead th {\n",
              "        text-align: right;\n",
              "    }\n",
              "</style>\n",
              "<table border=\"1\" class=\"dataframe\">\n",
              "  <thead>\n",
              "    <tr style=\"text-align: right;\">\n",
              "      <th></th>\n",
              "      <th>song_id</th>\n",
              "      <th>song_name</th>\n",
              "      <th>Artist</th>\n",
              "      <th>Lyrics</th>\n",
              "      <th>Type</th>\n",
              "    </tr>\n",
              "  </thead>\n",
              "  <tbody>\n",
              "    <tr>\n",
              "      <th>0</th>\n",
              "      <td>C 01</td>\n",
              "      <td>Kaulu Piyan Path Wahanna</td>\n",
              "      <td>Kasun Kalhara</td>\n",
              "      <td>කවුළු පියන්පත් වහන්න සඳළුතලාවේ ඔබ දුරයි නෙතට ම...</td>\n",
              "      <td>Calm</td>\n",
              "    </tr>\n",
              "    <tr>\n",
              "      <th>1</th>\n",
              "      <td>C 02</td>\n",
              "      <td>Ruk Aththana Mala Mudune\\n</td>\n",
              "      <td>Nanda Malini</td>\n",
              "      <td>රුක් අත්තන මල මුදුනේ  බඹරු නටන හැන්දෑවේ… සැදෑ ...</td>\n",
              "      <td>Calm</td>\n",
              "    </tr>\n",
              "    <tr>\n",
              "      <th>2</th>\n",
              "      <td>C 03</td>\n",
              "      <td>Samanala Mudune</td>\n",
              "      <td>H R Jothipala and Latha Walpola</td>\n",
              "      <td>සමනළ මුදුනේ සිරිපද සිඹ සිඹ උදා ඉරක් පායයි සැන...</td>\n",
              "      <td>Calm</td>\n",
              "    </tr>\n",
              "    <tr>\n",
              "      <th>3</th>\n",
              "      <td>C 04</td>\n",
              "      <td>Niwan Dutu Himi</td>\n",
              "      <td>Victor Rathnayaka</td>\n",
              "      <td>නිවන් දුටු හිමි රැවන් පිළිරැව පමණි මට අද ශේෂ ව...</td>\n",
              "      <td>Calm</td>\n",
              "    </tr>\n",
              "    <tr>\n",
              "      <th>4</th>\n",
              "      <td>C 05</td>\n",
              "      <td>Suwanda Danee Danee Danenawa</td>\n",
              "      <td>Rookantha Gunathilake</td>\n",
              "      <td>සුවඳ දැනී දැනී දැනෙනවා... උදා හිරු එළියේ... අළ...</td>\n",
              "      <td>Calm</td>\n",
              "    </tr>\n",
              "  </tbody>\n",
              "</table>\n",
              "</div>\n",
              "    <div class=\"colab-df-buttons\">\n",
              "\n",
              "  <div class=\"colab-df-container\">\n",
              "    <button class=\"colab-df-convert\" onclick=\"convertToInteractive('df-aba2d376-b386-48a3-aa1f-080508c9db8e')\"\n",
              "            title=\"Convert this dataframe to an interactive table.\"\n",
              "            style=\"display:none;\">\n",
              "\n",
              "  <svg xmlns=\"http://www.w3.org/2000/svg\" height=\"24px\" viewBox=\"0 -960 960 960\">\n",
              "    <path d=\"M120-120v-720h720v720H120Zm60-500h600v-160H180v160Zm220 220h160v-160H400v160Zm0 220h160v-160H400v160ZM180-400h160v-160H180v160Zm440 0h160v-160H620v160ZM180-180h160v-160H180v160Zm440 0h160v-160H620v160Z\"/>\n",
              "  </svg>\n",
              "    </button>\n",
              "\n",
              "  <style>\n",
              "    .colab-df-container {\n",
              "      display:flex;\n",
              "      gap: 12px;\n",
              "    }\n",
              "\n",
              "    .colab-df-convert {\n",
              "      background-color: #E8F0FE;\n",
              "      border: none;\n",
              "      border-radius: 50%;\n",
              "      cursor: pointer;\n",
              "      display: none;\n",
              "      fill: #1967D2;\n",
              "      height: 32px;\n",
              "      padding: 0 0 0 0;\n",
              "      width: 32px;\n",
              "    }\n",
              "\n",
              "    .colab-df-convert:hover {\n",
              "      background-color: #E2EBFA;\n",
              "      box-shadow: 0px 1px 2px rgba(60, 64, 67, 0.3), 0px 1px 3px 1px rgba(60, 64, 67, 0.15);\n",
              "      fill: #174EA6;\n",
              "    }\n",
              "\n",
              "    .colab-df-buttons div {\n",
              "      margin-bottom: 4px;\n",
              "    }\n",
              "\n",
              "    [theme=dark] .colab-df-convert {\n",
              "      background-color: #3B4455;\n",
              "      fill: #D2E3FC;\n",
              "    }\n",
              "\n",
              "    [theme=dark] .colab-df-convert:hover {\n",
              "      background-color: #434B5C;\n",
              "      box-shadow: 0px 1px 3px 1px rgba(0, 0, 0, 0.15);\n",
              "      filter: drop-shadow(0px 1px 2px rgba(0, 0, 0, 0.3));\n",
              "      fill: #FFFFFF;\n",
              "    }\n",
              "  </style>\n",
              "\n",
              "    <script>\n",
              "      const buttonEl =\n",
              "        document.querySelector('#df-aba2d376-b386-48a3-aa1f-080508c9db8e button.colab-df-convert');\n",
              "      buttonEl.style.display =\n",
              "        google.colab.kernel.accessAllowed ? 'block' : 'none';\n",
              "\n",
              "      async function convertToInteractive(key) {\n",
              "        const element = document.querySelector('#df-aba2d376-b386-48a3-aa1f-080508c9db8e');\n",
              "        const dataTable =\n",
              "          await google.colab.kernel.invokeFunction('convertToInteractive',\n",
              "                                                    [key], {});\n",
              "        if (!dataTable) return;\n",
              "\n",
              "        const docLinkHtml = 'Like what you see? Visit the ' +\n",
              "          '<a target=\"_blank\" href=https://colab.research.google.com/notebooks/data_table.ipynb>data table notebook</a>'\n",
              "          + ' to learn more about interactive tables.';\n",
              "        element.innerHTML = '';\n",
              "        dataTable['output_type'] = 'display_data';\n",
              "        await google.colab.output.renderOutput(dataTable, element);\n",
              "        const docLink = document.createElement('div');\n",
              "        docLink.innerHTML = docLinkHtml;\n",
              "        element.appendChild(docLink);\n",
              "      }\n",
              "    </script>\n",
              "  </div>\n",
              "\n",
              "\n",
              "<div id=\"df-bfc962ee-e963-4d8f-a9ab-4784210a9765\">\n",
              "  <button class=\"colab-df-quickchart\" onclick=\"quickchart('df-bfc962ee-e963-4d8f-a9ab-4784210a9765')\"\n",
              "            title=\"Suggest charts\"\n",
              "            style=\"display:none;\">\n",
              "\n",
              "<svg xmlns=\"http://www.w3.org/2000/svg\" height=\"24px\"viewBox=\"0 0 24 24\"\n",
              "     width=\"24px\">\n",
              "    <g>\n",
              "        <path d=\"M19 3H5c-1.1 0-2 .9-2 2v14c0 1.1.9 2 2 2h14c1.1 0 2-.9 2-2V5c0-1.1-.9-2-2-2zM9 17H7v-7h2v7zm4 0h-2V7h2v10zm4 0h-2v-4h2v4z\"/>\n",
              "    </g>\n",
              "</svg>\n",
              "  </button>\n",
              "\n",
              "<style>\n",
              "  .colab-df-quickchart {\n",
              "      --bg-color: #E8F0FE;\n",
              "      --fill-color: #1967D2;\n",
              "      --hover-bg-color: #E2EBFA;\n",
              "      --hover-fill-color: #174EA6;\n",
              "      --disabled-fill-color: #AAA;\n",
              "      --disabled-bg-color: #DDD;\n",
              "  }\n",
              "\n",
              "  [theme=dark] .colab-df-quickchart {\n",
              "      --bg-color: #3B4455;\n",
              "      --fill-color: #D2E3FC;\n",
              "      --hover-bg-color: #434B5C;\n",
              "      --hover-fill-color: #FFFFFF;\n",
              "      --disabled-bg-color: #3B4455;\n",
              "      --disabled-fill-color: #666;\n",
              "  }\n",
              "\n",
              "  .colab-df-quickchart {\n",
              "    background-color: var(--bg-color);\n",
              "    border: none;\n",
              "    border-radius: 50%;\n",
              "    cursor: pointer;\n",
              "    display: none;\n",
              "    fill: var(--fill-color);\n",
              "    height: 32px;\n",
              "    padding: 0;\n",
              "    width: 32px;\n",
              "  }\n",
              "\n",
              "  .colab-df-quickchart:hover {\n",
              "    background-color: var(--hover-bg-color);\n",
              "    box-shadow: 0 1px 2px rgba(60, 64, 67, 0.3), 0 1px 3px 1px rgba(60, 64, 67, 0.15);\n",
              "    fill: var(--button-hover-fill-color);\n",
              "  }\n",
              "\n",
              "  .colab-df-quickchart-complete:disabled,\n",
              "  .colab-df-quickchart-complete:disabled:hover {\n",
              "    background-color: var(--disabled-bg-color);\n",
              "    fill: var(--disabled-fill-color);\n",
              "    box-shadow: none;\n",
              "  }\n",
              "\n",
              "  .colab-df-spinner {\n",
              "    border: 2px solid var(--fill-color);\n",
              "    border-color: transparent;\n",
              "    border-bottom-color: var(--fill-color);\n",
              "    animation:\n",
              "      spin 1s steps(1) infinite;\n",
              "  }\n",
              "\n",
              "  @keyframes spin {\n",
              "    0% {\n",
              "      border-color: transparent;\n",
              "      border-bottom-color: var(--fill-color);\n",
              "      border-left-color: var(--fill-color);\n",
              "    }\n",
              "    20% {\n",
              "      border-color: transparent;\n",
              "      border-left-color: var(--fill-color);\n",
              "      border-top-color: var(--fill-color);\n",
              "    }\n",
              "    30% {\n",
              "      border-color: transparent;\n",
              "      border-left-color: var(--fill-color);\n",
              "      border-top-color: var(--fill-color);\n",
              "      border-right-color: var(--fill-color);\n",
              "    }\n",
              "    40% {\n",
              "      border-color: transparent;\n",
              "      border-right-color: var(--fill-color);\n",
              "      border-top-color: var(--fill-color);\n",
              "    }\n",
              "    60% {\n",
              "      border-color: transparent;\n",
              "      border-right-color: var(--fill-color);\n",
              "    }\n",
              "    80% {\n",
              "      border-color: transparent;\n",
              "      border-right-color: var(--fill-color);\n",
              "      border-bottom-color: var(--fill-color);\n",
              "    }\n",
              "    90% {\n",
              "      border-color: transparent;\n",
              "      border-bottom-color: var(--fill-color);\n",
              "    }\n",
              "  }\n",
              "</style>\n",
              "\n",
              "  <script>\n",
              "    async function quickchart(key) {\n",
              "      const quickchartButtonEl =\n",
              "        document.querySelector('#' + key + ' button');\n",
              "      quickchartButtonEl.disabled = true;  // To prevent multiple clicks.\n",
              "      quickchartButtonEl.classList.add('colab-df-spinner');\n",
              "      try {\n",
              "        const charts = await google.colab.kernel.invokeFunction(\n",
              "            'suggestCharts', [key], {});\n",
              "      } catch (error) {\n",
              "        console.error('Error during call to suggestCharts:', error);\n",
              "      }\n",
              "      quickchartButtonEl.classList.remove('colab-df-spinner');\n",
              "      quickchartButtonEl.classList.add('colab-df-quickchart-complete');\n",
              "    }\n",
              "    (() => {\n",
              "      let quickchartButtonEl =\n",
              "        document.querySelector('#df-bfc962ee-e963-4d8f-a9ab-4784210a9765 button');\n",
              "      quickchartButtonEl.style.display =\n",
              "        google.colab.kernel.accessAllowed ? 'block' : 'none';\n",
              "    })();\n",
              "  </script>\n",
              "</div>\n",
              "\n",
              "    </div>\n",
              "  </div>\n"
            ]
          },
          "metadata": {},
          "execution_count": 12
        }
      ],
      "source": [
        "data_df.head()"
      ]
    },
    {
      "cell_type": "code",
      "execution_count": 13,
      "id": "486354e0",
      "metadata": {
        "id": "486354e0"
      },
      "outputs": [],
      "source": [
        "def removeSpecialCharacters(sentence,keep_apostrophes=True):\n",
        "    sentence = sentence.strip()\n",
        "    if keep_apostrophes:\n",
        "        PATTERN = r'[?|$|&|*|%|@|(|)|~]'\n",
        "        filtered_sentence = re.sub(PATTERN, r'', sentence)\n",
        "        return filtered_sentence\n",
        "    return sentence"
      ]
    },
    {
      "cell_type": "code",
      "execution_count": 14,
      "id": "56ae41d0",
      "metadata": {
        "id": "56ae41d0"
      },
      "outputs": [],
      "source": [
        "def replace_full_stops(sentence):\n",
        "    return sentence.replace(\".\",\" \")"
      ]
    },
    {
      "cell_type": "code",
      "execution_count": 15,
      "id": "945365a5",
      "metadata": {
        "id": "945365a5"
      },
      "outputs": [],
      "source": [
        "data_df['Lyrics'] = data_df.apply(lambda x: removeSpecialCharacters(x.Lyrics), axis=1)\n",
        "data_df['Lyrics'] = data_df.apply(lambda x: replace_full_stops(x.Lyrics), axis=1)"
      ]
    },
    {
      "cell_type": "code",
      "execution_count": 16,
      "id": "40490828",
      "metadata": {
        "id": "40490828"
      },
      "outputs": [],
      "source": [
        "def remove_english_letters(sentence):\n",
        "    non_english_sentence = re.sub(r'[a-zA-Z]', '', sentence)\n",
        "    return non_english_sentence"
      ]
    },
    {
      "cell_type": "code",
      "execution_count": 17,
      "id": "59e5fe52",
      "metadata": {
        "id": "59e5fe52"
      },
      "outputs": [],
      "source": [
        "data_df['Lyrics']  = data_df['Lyrics'] .apply(lambda x: remove_english_letters(x))"
      ]
    },
    {
      "cell_type": "code",
      "execution_count": 18,
      "id": "40b69c33",
      "metadata": {
        "id": "40b69c33"
      },
      "outputs": [],
      "source": [
        "lines = list(open('/content/drive/My Drive/data/stop-words-sinhala.txt',encoding=\"utf8\"))\n",
        "sinhala_stop_words = [re.sub(\"\\n\",\"\",x) for x in lines]"
      ]
    },
    {
      "cell_type": "code",
      "execution_count": 19,
      "id": "2651903c",
      "metadata": {
        "id": "2651903c"
      },
      "outputs": [],
      "source": [
        "def tokenize_text(text):\n",
        "    tokens = nltk.word_tokenize(text)\n",
        "    tokens = [token.strip() for token in tokens]\n",
        "    return tokens"
      ]
    },
    {
      "cell_type": "code",
      "source": [
        "import nltk\n",
        "nltk.download('punkt')"
      ],
      "metadata": {
        "colab": {
          "base_uri": "https://localhost:8080/"
        },
        "id": "rZuA7ipW37yO",
        "outputId": "b459cffa-8a36-4b55-fc82-364541bb3663"
      },
      "id": "rZuA7ipW37yO",
      "execution_count": 20,
      "outputs": [
        {
          "output_type": "stream",
          "name": "stderr",
          "text": [
            "[nltk_data] Downloading package punkt to /root/nltk_data...\n",
            "[nltk_data]   Unzipping tokenizers/punkt.zip.\n"
          ]
        },
        {
          "output_type": "execute_result",
          "data": {
            "text/plain": [
              "True"
            ]
          },
          "metadata": {},
          "execution_count": 20
        }
      ]
    },
    {
      "cell_type": "code",
      "execution_count": 21,
      "id": "1cf1abf9",
      "metadata": {
        "id": "1cf1abf9"
      },
      "outputs": [],
      "source": [
        "data_df['token_list']  = data_df['Lyrics'] .apply(lambda x: tokenize_text(x))"
      ]
    },
    {
      "cell_type": "code",
      "execution_count": 22,
      "id": "5b38a21b",
      "metadata": {
        "id": "5b38a21b"
      },
      "outputs": [],
      "source": [
        "def remove_sinhala_stop_words(tokens):\n",
        "    filtered_tokens = [token for token in tokens if token not in sinhala_stop_words]\n",
        "    return filtered_tokens"
      ]
    },
    {
      "cell_type": "code",
      "execution_count": 23,
      "id": "7a6d0f65",
      "metadata": {
        "id": "7a6d0f65"
      },
      "outputs": [],
      "source": [
        "data_df['token_list_after_sw'] = data_df.apply(lambda x: remove_sinhala_stop_words(x.token_list), axis=1)"
      ]
    },
    {
      "cell_type": "code",
      "execution_count": 24,
      "id": "b3aee7d1",
      "metadata": {
        "id": "b3aee7d1"
      },
      "outputs": [],
      "source": [
        "def remove_two_letter_words(tokenized_words):\n",
        "    # Use list comprehension to filter out words with length 2\n",
        "    filtered_words = [word for word in tokenized_words if len(word) > 3]\n",
        "    return filtered_words"
      ]
    },
    {
      "cell_type": "code",
      "execution_count": 25,
      "id": "fcb0a8df",
      "metadata": {
        "id": "fcb0a8df"
      },
      "outputs": [],
      "source": [
        "data_df['token_list_after_sw'] = data_df.apply(lambda x: remove_two_letter_words(x.token_list_after_sw), axis=1)"
      ]
    },
    {
      "cell_type": "code",
      "execution_count": 26,
      "id": "8a43079e",
      "metadata": {
        "id": "8a43079e"
      },
      "outputs": [],
      "source": [
        "from nltk.tokenize.treebank import TreebankWordDetokenizer\n",
        "data_df['pre_processed_text'] = data_df.apply(lambda x: TreebankWordDetokenizer().detokenize(x.token_list_after_sw), axis=1)"
      ]
    },
    {
      "cell_type": "code",
      "source": [
        "list_of_words = ' '.join(data_df['pre_processed_text']).split()"
      ],
      "metadata": {
        "id": "dcR3zMPIHgfY"
      },
      "id": "dcR3zMPIHgfY",
      "execution_count": 27,
      "outputs": []
    },
    {
      "cell_type": "code",
      "execution_count": 28,
      "id": "9cbe3d6a",
      "metadata": {
        "id": "9cbe3d6a"
      },
      "outputs": [],
      "source": [
        "from collections import Counter\n",
        "import numpy as np\n",
        "#most_common_words = [word for word, count in Counter(list_of_words).items() if count in np.arange(50,100)]\n",
        "unique_words = [word for word, count in Counter(list_of_words).items() if count in [1,2,3]]\n",
        "all_words_to_remove = unique_words;\n",
        "def remove_most_common_unique_words(tokens):\n",
        "    filtered_tokens = [token for token in tokens if token not in all_words_to_remove]\n",
        "    return filtered_tokens"
      ]
    },
    {
      "cell_type": "code",
      "execution_count": 29,
      "id": "b7b0f7d8",
      "metadata": {
        "id": "b7b0f7d8"
      },
      "outputs": [],
      "source": [
        "data_df['token_list_after_common_words'] = data_df.apply(lambda x: remove_most_common_unique_words(x.token_list_after_sw), axis=1)"
      ]
    },
    {
      "cell_type": "code",
      "execution_count": 30,
      "id": "a9cdc18a",
      "metadata": {
        "id": "a9cdc18a"
      },
      "outputs": [],
      "source": [
        "data_df['pre_processed_text'] = data_df.apply(lambda x: TreebankWordDetokenizer().detokenize(x.token_list_after_common_words), axis=1)"
      ]
    },
    {
      "cell_type": "code",
      "execution_count": 31,
      "id": "8aba84e1",
      "metadata": {
        "id": "8aba84e1"
      },
      "outputs": [],
      "source": [
        "# list_of_words = ' '.join(data_df['pre_processed_text']).split()\n",
        "# Counter(list_of_words)"
      ]
    },
    {
      "cell_type": "code",
      "execution_count": 32,
      "id": "a02a54cf",
      "metadata": {
        "id": "a02a54cf"
      },
      "outputs": [],
      "source": [
        "data_df['word_count'] = data_df['pre_processed_text'].str.split().str.len()\n",
        "#data_df.head(40)"
      ]
    },
    {
      "cell_type": "code",
      "execution_count": 33,
      "id": "586c442f",
      "metadata": {
        "colab": {
          "base_uri": "https://localhost:8080/"
        },
        "id": "586c442f",
        "outputId": "7149f4df-60a5-40fa-ba7a-702f13ba7c1a"
      },
      "outputs": [
        {
          "output_type": "stream",
          "name": "stdout",
          "text": [
            "Total number of unique words <FreqDist with 4290 samples and 12566 outcomes>\n"
          ]
        }
      ],
      "source": [
        "def total_unique_words(words):\n",
        "    return nltk.FreqDist(words)\n",
        "\n",
        "print(\"Total number of unique words\",total_unique_words(list_of_words))"
      ]
    },
    {
      "cell_type": "code",
      "execution_count": 34,
      "id": "9e6f6592",
      "metadata": {
        "colab": {
          "base_uri": "https://localhost:8080/"
        },
        "id": "9e6f6592",
        "outputId": "e74454cf-c56b-41a5-e4d1-77512915202d"
      },
      "outputs": [
        {
          "output_type": "stream",
          "name": "stdout",
          "text": [
            "Total number of words 12566\n"
          ]
        }
      ],
      "source": [
        "def total_words(words):\n",
        "    return(len(words))\n",
        "print(\"Total number of words\",total_words(list_of_words))"
      ]
    },
    {
      "cell_type": "code",
      "execution_count": 35,
      "id": "e553b7e7",
      "metadata": {
        "id": "e553b7e7"
      },
      "outputs": [],
      "source": [
        "from sklearn.model_selection import train_test_split\n",
        "from sklearn import preprocessing\n",
        "label_encoder = preprocessing.LabelEncoder()"
      ]
    },
    {
      "cell_type": "code",
      "execution_count": 36,
      "id": "10b0f012",
      "metadata": {
        "id": "10b0f012"
      },
      "outputs": [],
      "source": [
        "#X= data_df['pre_processed_text']\n",
        "data_df[\"final_data\"] = \"__label__\"+data_df['Type'] + \" \" + data_df[\"pre_processed_text\"]\n",
        "#data_df\n",
        "#y=label_encoder.fit_transform(data_df['Type'])"
      ]
    },
    {
      "cell_type": "code",
      "execution_count": 37,
      "id": "fee0b3ef",
      "metadata": {
        "id": "fee0b3ef"
      },
      "outputs": [],
      "source": [
        "train, test = train_test_split(data_df, test_size=0.2, random_state=6)"
      ]
    },
    {
      "cell_type": "code",
      "source": [
        "train.to_csv(r\"/content/drive/My Drive/data/train.csv\",columns=['final_data'],index=False,header=False)\n"
      ],
      "metadata": {
        "id": "NblWxRAzkXpV"
      },
      "id": "NblWxRAzkXpV",
      "execution_count": 38,
      "outputs": []
    },
    {
      "cell_type": "code",
      "source": [
        "test.to_csv(r\"/content/drive/My Drive/data/test.csv\",columns=['final_data'],index=False,header=False)"
      ],
      "metadata": {
        "id": "QJgBE5Kykk2l"
      },
      "id": "QJgBE5Kykk2l",
      "execution_count": 39,
      "outputs": []
    },
    {
      "cell_type": "code",
      "source": [
        "!pip install fasttext"
      ],
      "metadata": {
        "colab": {
          "base_uri": "https://localhost:8080/"
        },
        "id": "ACi0gUx54WtP",
        "outputId": "f209e31f-55a2-448d-8920-f5db1b72096d"
      },
      "id": "ACi0gUx54WtP",
      "execution_count": 40,
      "outputs": [
        {
          "output_type": "stream",
          "name": "stdout",
          "text": [
            "Collecting fasttext\n",
            "  Downloading fasttext-0.9.2.tar.gz (68 kB)\n",
            "\u001b[?25l     \u001b[90m━━━━━━━━━━━━━━━━━━━━━━━━━━━━━━━━━━━━━━━━\u001b[0m \u001b[32m0.0/68.8 kB\u001b[0m \u001b[31m?\u001b[0m eta \u001b[36m-:--:--\u001b[0m\r\u001b[2K     \u001b[90m━━━━━━━━━━━━━━━━━━━━━━━━━━━━━━━━━━━━━━━━\u001b[0m \u001b[32m68.8/68.8 kB\u001b[0m \u001b[31m1.9 MB/s\u001b[0m eta \u001b[36m0:00:00\u001b[0m\n",
            "\u001b[?25h  Preparing metadata (setup.py) ... \u001b[?25l\u001b[?25hdone\n",
            "Collecting pybind11>=2.2 (from fasttext)\n",
            "  Using cached pybind11-2.11.1-py3-none-any.whl (227 kB)\n",
            "Requirement already satisfied: setuptools>=0.7.0 in /usr/local/lib/python3.10/dist-packages (from fasttext) (67.7.2)\n",
            "Requirement already satisfied: numpy in /usr/local/lib/python3.10/dist-packages (from fasttext) (1.23.5)\n",
            "Building wheels for collected packages: fasttext\n",
            "  Building wheel for fasttext (setup.py) ... \u001b[?25l\u001b[?25hdone\n",
            "  Created wheel for fasttext: filename=fasttext-0.9.2-cp310-cp310-linux_x86_64.whl size=4199774 sha256=9c481e0c81c36b73e106b8959e1a4f77cbc4457eb6a4a2306d91a9cc103cdd16\n",
            "  Stored in directory: /root/.cache/pip/wheels/a5/13/75/f811c84a8ab36eedbaef977a6a58a98990e8e0f1967f98f394\n",
            "Successfully built fasttext\n",
            "Installing collected packages: pybind11, fasttext\n",
            "Successfully installed fasttext-0.9.2 pybind11-2.11.1\n"
          ]
        }
      ]
    },
    {
      "cell_type": "code",
      "execution_count": 41,
      "id": "1fc70e1b",
      "metadata": {
        "id": "1fc70e1b"
      },
      "outputs": [],
      "source": [
        "import fasttext as ft"
      ]
    },
    {
      "cell_type": "code",
      "source": [
        "!wget https://dl.fbaipublicfiles.com/fasttext/vectors-wiki/wiki.si.vec"
      ],
      "metadata": {
        "colab": {
          "base_uri": "https://localhost:8080/"
        },
        "id": "dTIKoM8I3zLr",
        "outputId": "904d6608-1270-4a0c-8af2-6f153a80499c"
      },
      "id": "dTIKoM8I3zLr",
      "execution_count": 42,
      "outputs": [
        {
          "output_type": "stream",
          "name": "stdout",
          "text": [
            "--2023-11-30 07:31:41--  https://dl.fbaipublicfiles.com/fasttext/vectors-wiki/wiki.si.vec\n",
            "Resolving dl.fbaipublicfiles.com (dl.fbaipublicfiles.com)... 3.162.163.19, 3.162.163.11, 3.162.163.51, ...\n",
            "Connecting to dl.fbaipublicfiles.com (dl.fbaipublicfiles.com)|3.162.163.19|:443... connected.\n",
            "HTTP request sent, awaiting response... 200 OK\n",
            "Length: 209303120 (200M) [binary/octet-stream]\n",
            "Saving to: ‘wiki.si.vec’\n",
            "\n",
            "wiki.si.vec         100%[===================>] 199.61M   191MB/s    in 1.0s    \n",
            "\n",
            "2023-11-30 07:31:42 (191 MB/s) - ‘wiki.si.vec’ saved [209303120/209303120]\n",
            "\n"
          ]
        }
      ]
    },
    {
      "cell_type": "code",
      "source": [
        "model = ft.train_supervised(input=\"/content/drive/My Drive/data/train.csv\", lr=0.2,loss='hs', epoch=75, wordNgrams=5, dim=300, thread=2, verbose=100,pretrainedVectors=\"wiki.si.vec\")\n"
      ],
      "metadata": {
        "id": "muoStkhV2Zw3"
      },
      "id": "muoStkhV2Zw3",
      "execution_count": 43,
      "outputs": []
    },
    {
      "cell_type": "code",
      "execution_count": 44,
      "id": "e6e0bb13",
      "metadata": {
        "id": "e6e0bb13"
      },
      "outputs": [],
      "source": [
        "#classifier = ft.train_supervised(input=\"/content/drive/My Drive/data/train.csv\",dim = 30, ws = 5, lr=1.0, epoch=30, wordNgrams=4,)"
      ]
    },
    {
      "cell_type": "code",
      "source": [
        "out= model.test(r\"/content/drive/My Drive/data/test.csv\")"
      ],
      "metadata": {
        "id": "_1dOcHTAipNR"
      },
      "id": "_1dOcHTAipNR",
      "execution_count": 45,
      "outputs": []
    },
    {
      "cell_type": "code",
      "source": [
        "#numberofsamples  #precision # recall\n",
        "out"
      ],
      "metadata": {
        "id": "795_3x7aEHJm",
        "colab": {
          "base_uri": "https://localhost:8080/"
        },
        "outputId": "18e0a83f-2328-4238-efb5-3ed4d3ea7b7b"
      },
      "id": "795_3x7aEHJm",
      "execution_count": 46,
      "outputs": [
        {
          "output_type": "execute_result",
          "data": {
            "text/plain": [
              "(33, 0.48484848484848486, 0.48484848484848486)"
            ]
          },
          "metadata": {},
          "execution_count": 46
        }
      ]
    },
    {
      "cell_type": "code",
      "source": [
        "model.predict(\"දුක දන්නේ වෙන කවුද ඇස් දෙක තරම්ම මම\",k=3)"
      ],
      "metadata": {
        "colab": {
          "base_uri": "https://localhost:8080/"
        },
        "id": "eAHdGavVlni3",
        "outputId": "ba2fe26f-9e8a-4d2b-da49-65e926b999b5"
      },
      "id": "eAHdGavVlni3",
      "execution_count": 47,
      "outputs": [
        {
          "output_type": "execute_result",
          "data": {
            "text/plain": [
              "(('__label__Sad', '__label__Calm', '__label__Happy'),\n",
              " array([0.93493861, 0.03704051, 0.02806031]))"
            ]
          },
          "metadata": {},
          "execution_count": 47
        }
      ]
    },
    {
      "cell_type": "code",
      "source": [
        "#model.save_model(r\"/content/drive/My Drive/data/fast-text.bin\")\n"
      ],
      "metadata": {
        "id": "F4gtlSQL8nvB"
      },
      "id": "F4gtlSQL8nvB",
      "execution_count": 48,
      "outputs": []
    },
    {
      "cell_type": "code",
      "source": [
        "# from google.colab import files\n",
        "# files.download('fast-text.bin')"
      ],
      "metadata": {
        "id": "T5Q-cOWv-bTL"
      },
      "id": "T5Q-cOWv-bTL",
      "execution_count": 49,
      "outputs": []
    },
    {
      "cell_type": "code",
      "source": [
        "# # or any other file as usual\n",
        "# with open('example.csv', 'w') as f:\n",
        "#   f.write('your strings here')\n",
        "\n",
        "# files.download('example.csv')"
      ],
      "metadata": {
        "id": "avhjISAX7jJW"
      },
      "id": "avhjISAX7jJW",
      "execution_count": 50,
      "outputs": []
    },
    {
      "cell_type": "code",
      "source": [
        "# /content/wiki.si.vec"
      ],
      "metadata": {
        "id": "Z2DjP4y_8EjW"
      },
      "id": "Z2DjP4y_8EjW",
      "execution_count": 51,
      "outputs": []
    },
    {
      "cell_type": "code",
      "source": [
        "# ls -ltr"
      ],
      "metadata": {
        "id": "OKzt6P5d-E-f"
      },
      "id": "OKzt6P5d-E-f",
      "execution_count": 52,
      "outputs": []
    },
    {
      "cell_type": "code",
      "source": [],
      "metadata": {
        "id": "POv5XGsw-Lvy"
      },
      "id": "POv5XGsw-Lvy",
      "execution_count": 52,
      "outputs": []
    }
  ],
  "metadata": {
    "kernelspec": {
      "display_name": "Python 3 (ipykernel)",
      "language": "python",
      "name": "python3"
    },
    "language_info": {
      "codemirror_mode": {
        "name": "ipython",
        "version": 3
      },
      "file_extension": ".py",
      "mimetype": "text/x-python",
      "name": "python",
      "nbconvert_exporter": "python",
      "pygments_lexer": "ipython3",
      "version": "3.9.7"
    },
    "colab": {
      "provenance": []
    }
  },
  "nbformat": 4,
  "nbformat_minor": 5
}