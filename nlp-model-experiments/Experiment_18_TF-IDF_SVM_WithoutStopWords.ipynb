{
 "cells": [
  {
   "cell_type": "code",
   "execution_count": 1,
   "id": "af398bc8",
   "metadata": {},
   "outputs": [],
   "source": [
    "import pandas as pd\n",
    "import unicodedata\n",
    "import re\n",
    "import nltk"
   ]
  },
  {
   "cell_type": "code",
   "execution_count": 2,
   "id": "a30f85cc",
   "metadata": {},
   "outputs": [],
   "source": [
    "data_df = pd.read_csv(r\"C:\\Users\\MalindaPieris\\Documents\\MscResearch\\Sinhala-Audio-Classfication-notebooks\\notebooks\\nlp\\dataset-metadata -with-lyrics.csv\")\n",
    "data_df = pd.DataFrame(data_df)"
   ]
  },
  {
   "cell_type": "code",
   "execution_count": 3,
   "id": "b1a792a1",
   "metadata": {},
   "outputs": [],
   "source": [
    "def lineBreakReplace(text):\n",
    "    return text.replace(\"\\r\\n\", \" \")"
   ]
  },
  {
   "cell_type": "code",
   "execution_count": 4,
   "id": "19aaf9de",
   "metadata": {},
   "outputs": [],
   "source": [
    "data_df['Lyrics'] =data_df.apply(lambda x: lineBreakReplace(x.Lyrics), axis=1)"
   ]
  },
  {
   "cell_type": "code",
   "execution_count": 5,
   "id": "85c468d6",
   "metadata": {},
   "outputs": [],
   "source": [
    "def removeEscapSequences(text):\n",
    "    return \"\".join(ch for ch in text if unicodedata.category(ch)[0]!=\"C\")"
   ]
  },
  {
   "cell_type": "code",
   "execution_count": 6,
   "id": "4e767818",
   "metadata": {},
   "outputs": [],
   "source": [
    "data_df['Lyrics'] =data_df.apply(lambda x: removeEscapSequences(x.Lyrics), axis=1)"
   ]
  },
  {
   "cell_type": "code",
   "execution_count": 7,
   "id": "ec360e61",
   "metadata": {},
   "outputs": [],
   "source": [
    "def remove_digits(text):\n",
    "    return ''.join([i for i in text if not i.isdigit()])"
   ]
  },
  {
   "cell_type": "code",
   "execution_count": 8,
   "id": "0ff52324",
   "metadata": {},
   "outputs": [],
   "source": [
    "data_df['Lyrics'] =data_df.apply(lambda x: removeEscapSequences(x.Lyrics), axis=1)"
   ]
  },
  {
   "cell_type": "code",
   "execution_count": 9,
   "id": "7c8b90f3",
   "metadata": {},
   "outputs": [],
   "source": [
    "def removeHtmlTags(text):\n",
    "    p = re.compile(r'<.*?>')\n",
    "    return p.sub('', text)"
   ]
  },
  {
   "cell_type": "code",
   "execution_count": 10,
   "id": "a19ab1f7",
   "metadata": {},
   "outputs": [],
   "source": [
    "data_df['Lyrics'] = data_df.apply(lambda x: removeHtmlTags(x.Lyrics), axis=1)"
   ]
  },
  {
   "cell_type": "code",
   "execution_count": 11,
   "id": "6f7710d2",
   "metadata": {},
   "outputs": [
    {
     "data": {
      "text/html": [
       "<div>\n",
       "<style scoped>\n",
       "    .dataframe tbody tr th:only-of-type {\n",
       "        vertical-align: middle;\n",
       "    }\n",
       "\n",
       "    .dataframe tbody tr th {\n",
       "        vertical-align: top;\n",
       "    }\n",
       "\n",
       "    .dataframe thead th {\n",
       "        text-align: right;\n",
       "    }\n",
       "</style>\n",
       "<table border=\"1\" class=\"dataframe\">\n",
       "  <thead>\n",
       "    <tr style=\"text-align: right;\">\n",
       "      <th></th>\n",
       "      <th>song_id</th>\n",
       "      <th>song_name</th>\n",
       "      <th>Artist</th>\n",
       "      <th>Lyrics</th>\n",
       "      <th>Type</th>\n",
       "    </tr>\n",
       "  </thead>\n",
       "  <tbody>\n",
       "    <tr>\n",
       "      <th>0</th>\n",
       "      <td>C 01</td>\n",
       "      <td>Kaulu Piyan Path Wahanna</td>\n",
       "      <td>Kasun Kalhara</td>\n",
       "      <td>කවුළු පියන්පත් වහන්න සඳළුතලාවේ ඔබ දුරයි නෙතට ම...</td>\n",
       "      <td>Calm</td>\n",
       "    </tr>\n",
       "    <tr>\n",
       "      <th>1</th>\n",
       "      <td>C 02</td>\n",
       "      <td>Ruk Aththana Mala Mudune\\n</td>\n",
       "      <td>Nanda Malini</td>\n",
       "      <td>රුක් අත්තන මල මුදුනේ  බඹරු නටන හැන්දෑවේ… සැදෑ ...</td>\n",
       "      <td>Calm</td>\n",
       "    </tr>\n",
       "    <tr>\n",
       "      <th>2</th>\n",
       "      <td>C 03</td>\n",
       "      <td>Samanala Mudune</td>\n",
       "      <td>H R Jothipala and Latha Walpola</td>\n",
       "      <td>සමනළ මුදුනේ සිරිපද සිඹ සිඹ උදා ඉරක් පායයි සැන...</td>\n",
       "      <td>Calm</td>\n",
       "    </tr>\n",
       "    <tr>\n",
       "      <th>3</th>\n",
       "      <td>C 04</td>\n",
       "      <td>Niwan Dutu Himi</td>\n",
       "      <td>Victor Rathnayaka</td>\n",
       "      <td>නිවන් දුටු හිමි රැවන් පිළිරැව පමණි මට අද ශේෂ ව...</td>\n",
       "      <td>Calm</td>\n",
       "    </tr>\n",
       "    <tr>\n",
       "      <th>4</th>\n",
       "      <td>C 05</td>\n",
       "      <td>Suwanda Danee Danee Danenawa</td>\n",
       "      <td>Rookantha Gunathilake</td>\n",
       "      <td>සුවඳ දැනී දැනී දැනෙනවා... උදා හිරු එළියේ... අළ...</td>\n",
       "      <td>Calm</td>\n",
       "    </tr>\n",
       "  </tbody>\n",
       "</table>\n",
       "</div>"
      ],
      "text/plain": [
       "  song_id                     song_name                           Artist  \\\n",
       "0    C 01      Kaulu Piyan Path Wahanna                    Kasun Kalhara   \n",
       "1    C 02    Ruk Aththana Mala Mudune\\n                     Nanda Malini   \n",
       "2    C 03               Samanala Mudune  H R Jothipala and Latha Walpola   \n",
       "3    C 04               Niwan Dutu Himi                Victor Rathnayaka   \n",
       "4    C 05  Suwanda Danee Danee Danenawa            Rookantha Gunathilake   \n",
       "\n",
       "                                              Lyrics  Type  \n",
       "0  කවුළු පියන්පත් වහන්න සඳළුතලාවේ ඔබ දුරයි නෙතට ම...  Calm  \n",
       "1  රුක් අත්තන මල මුදුනේ  බඹරු නටන හැන්දෑවේ… සැදෑ ...  Calm  \n",
       "2   සමනළ මුදුනේ සිරිපද සිඹ සිඹ උදා ඉරක් පායයි සැන...  Calm  \n",
       "3  නිවන් දුටු හිමි රැවන් පිළිරැව පමණි මට අද ශේෂ ව...  Calm  \n",
       "4  සුවඳ දැනී දැනී දැනෙනවා... උදා හිරු එළියේ... අළ...  Calm  "
      ]
     },
     "execution_count": 11,
     "metadata": {},
     "output_type": "execute_result"
    }
   ],
   "source": [
    "data_df.head()"
   ]
  },
  {
   "cell_type": "code",
   "execution_count": 12,
   "id": "486354e0",
   "metadata": {},
   "outputs": [],
   "source": [
    "def removeSpecialCharacters(sentence,keep_apostrophes=True):\n",
    "    sentence = sentence.strip()\n",
    "    if keep_apostrophes:\n",
    "        PATTERN = r'[?|$|&|*|%|!|@|(|)|.|~]'\n",
    "        filtered_sentence = re.sub(PATTERN, r'', sentence)\n",
    "        return filtered_sentence\n",
    "    return sentence"
   ]
  },
  {
   "cell_type": "code",
   "execution_count": 13,
   "id": "56ae41d0",
   "metadata": {},
   "outputs": [],
   "source": [
    "def replace_full_stops(sentence):\n",
    "    return sentence.replace(\".\",\" \")"
   ]
  },
  {
   "cell_type": "code",
   "execution_count": 14,
   "id": "945365a5",
   "metadata": {},
   "outputs": [],
   "source": [
    "data_df['Lyrics'] = data_df.apply(lambda x: removeSpecialCharacters(x.Lyrics), axis=1)\n",
    "data_df['Lyrics'] = data_df.apply(lambda x: replace_full_stops(x.Lyrics), axis=1)"
   ]
  },
  {
   "cell_type": "code",
   "execution_count": 15,
   "id": "40490828",
   "metadata": {},
   "outputs": [],
   "source": [
    "def remove_english_letters(sentence):\n",
    "    non_english_sentence = re.sub(r'[a-zA-Z]', '', sentence)\n",
    "    return non_english_sentence"
   ]
  },
  {
   "cell_type": "code",
   "execution_count": 16,
   "id": "59e5fe52",
   "metadata": {},
   "outputs": [],
   "source": [
    "data_df['Lyrics']  = data_df['Lyrics'] .apply(lambda x: remove_english_letters(x))"
   ]
  },
  {
   "cell_type": "code",
   "execution_count": 17,
   "id": "40b69c33",
   "metadata": {},
   "outputs": [],
   "source": [
    "lines = list(open('stop-words-sinhala.txt',encoding=\"utf8\"))\n",
    "sinhala_stop_words = [re.sub(\"\\n\",\"\",x) for x in lines]"
   ]
  },
  {
   "cell_type": "code",
   "execution_count": 18,
   "id": "2651903c",
   "metadata": {},
   "outputs": [],
   "source": [
    "def tokenize_text(text):\n",
    "    tokens = nltk.word_tokenize(text)\n",
    "    tokens = [token.strip() for token in tokens]\n",
    "    return tokens"
   ]
  },
  {
   "cell_type": "code",
   "execution_count": 19,
   "id": "1cf1abf9",
   "metadata": {},
   "outputs": [],
   "source": [
    "data_df['token_list']  = data_df['Lyrics'] .apply(lambda x: tokenize_text(x))"
   ]
  },
  {
   "cell_type": "code",
   "execution_count": 20,
   "id": "5b38a21b",
   "metadata": {},
   "outputs": [],
   "source": [
    "def remove_sinhala_stop_words(tokens):\n",
    "    filtered_tokens = [token for token in tokens if token not in sinhala_stop_words]\n",
    "    return filtered_tokens"
   ]
  },
  {
   "cell_type": "code",
   "execution_count": 21,
   "id": "7a6d0f65",
   "metadata": {},
   "outputs": [],
   "source": [
    "data_df['token_list_after_sw'] = data_df.apply(lambda x: remove_sinhala_stop_words(x.token_list), axis=1)"
   ]
  },
  {
   "cell_type": "code",
   "execution_count": 22,
   "id": "8a43079e",
   "metadata": {},
   "outputs": [],
   "source": [
    "from nltk.tokenize.treebank import TreebankWordDetokenizer\n",
    "data_df['pre_processed_stop_words'] = data_df.apply(lambda x: TreebankWordDetokenizer().detokenize(x.token_list_after_sw), axis=1)"
   ]
  },
  {
   "cell_type": "code",
   "execution_count": 23,
   "id": "9cbe3d6a",
   "metadata": {},
   "outputs": [],
   "source": [
    "from collections import Counter\n",
    "list_of_words = ' '.join(data_df['pre_processed_stop_words']).split()\n",
    "unique_words = [word for word, count in Counter(list_of_words).items() if count in [1,2,3,4,5,6,7,8,9]]\n",
    "def remove_most_common_unique_words(tokens):\n",
    "    filtered_tokens = [token for token in tokens if token not in unique_words]\n",
    "    return filtered_tokens"
   ]
  },
  {
   "cell_type": "code",
   "execution_count": 24,
   "id": "b7b0f7d8",
   "metadata": {},
   "outputs": [],
   "source": [
    "data_df['token_list_after_common_words'] = data_df.apply(lambda x: remove_most_common_unique_words(x.token_list_after_sw), axis=1)"
   ]
  },
  {
   "cell_type": "code",
   "execution_count": 25,
   "id": "84ea579c",
   "metadata": {},
   "outputs": [],
   "source": [
    "data_df['pre_processed_text'] = data_df.apply(lambda x: TreebankWordDetokenizer().detokenize(x.token_list_after_common_words), axis=1)"
   ]
  },
  {
   "cell_type": "code",
   "execution_count": 26,
   "id": "38ec99fa",
   "metadata": {},
   "outputs": [
    {
     "data": {
      "text/plain": [
       "Counter({'ඔබ': 237,\n",
       "         'නෙතට': 10,\n",
       "         'මා': 256,\n",
       "         'තලාවේ': 10,\n",
       "         'මල්': 130,\n",
       "         'බලා': 31,\n",
       "         'දිය': 33,\n",
       "         'සුවඳ': 56,\n",
       "         'දුර': 11,\n",
       "         'සිනා': 44,\n",
       "         'තරු': 31,\n",
       "         'සිත': 41,\n",
       "         'ඈත': 18,\n",
       "         'මල': 18,\n",
       "         'මුදුනේ': 10,\n",
       "         'බඹරු': 10,\n",
       "         'අඳුර': 11,\n",
       "         'කර': 23,\n",
       "         'කවුරුද': 14,\n",
       "         'එන්නේ…': 10,\n",
       "         'නුවන්': 23,\n",
       "         'මුතු': 23,\n",
       "         'පිණි': 11,\n",
       "         'හිරු': 14,\n",
       "         'කියා': 30,\n",
       "         'අප': 44,\n",
       "         'පුරා': 15,\n",
       "         'සිඹ': 10,\n",
       "         'සුව': 24,\n",
       "         'දෙන': 14,\n",
       "         'දැහැමි': 10,\n",
       "         'දැයක්': 10,\n",
       "         'පිබිදෙයි': 10,\n",
       "         'සුදු': 32,\n",
       "         'රට': 11,\n",
       "         'දුටු': 15,\n",
       "         'මට': 133,\n",
       "         'අද': 35,\n",
       "         'මැනවී': 17,\n",
       "         'බුදු': 14,\n",
       "         'කරැණාවෙන්': 21,\n",
       "         'වී': 34,\n",
       "         'ඔබේ': 88,\n",
       "         'අතින්': 12,\n",
       "         'වූ': 21,\n",
       "         'මලක්': 14,\n",
       "         'හට': 17,\n",
       "         'මගේ': 147,\n",
       "         'දැනී': 10,\n",
       "         'එළියේ': 23,\n",
       "         'හිත': 16,\n",
       "         'හැඟුම්': 18,\n",
       "         'ලස්සන': 20,\n",
       "         'හෝ': 32,\n",
       "         'ඇවිදින්': 20,\n",
       "         'දිගේ': 19,\n",
       "         'ජීවිතේ': 13,\n",
       "         'සුන්දර': 10,\n",
       "         'එන': 23,\n",
       "         'පාට': 19,\n",
       "         'ආදරේ': 51,\n",
       "         'මඟ': 11,\n",
       "         'ආයේ': 10,\n",
       "         'හෙට': 12,\n",
       "         'වාගේ': 43,\n",
       "         'සඳ': 92,\n",
       "         'එබී': 11,\n",
       "         'සඳේ': 11,\n",
       "         'මගෙ': 68,\n",
       "         'සදා': 10,\n",
       "         'නොවී': 12,\n",
       "         'වෙලා': 68,\n",
       "         'දා': 29,\n",
       "         'ලොව': 30,\n",
       "         'මං': 47,\n",
       "         'මම': 46,\n",
       "         'හදවත': 25,\n",
       "         'කල්පනා': 13,\n",
       "         'හද': 50,\n",
       "         'තබා': 11,\n",
       "         'ඔයා': 11,\n",
       "         'පෙර': 20,\n",
       "         'යන්න': 29,\n",
       "         'ගියා': 23,\n",
       "         'අපි': 66,\n",
       "         'එක': 21,\n",
       "         'ලා': 18,\n",
       "         'දළු': 20,\n",
       "         'බෝ': 13,\n",
       "         'සැලෙන': 15,\n",
       "         'රහසේ': 13,\n",
       "         'පහන්': 20,\n",
       "         'ආවා': 52,\n",
       "         'පිපී': 33,\n",
       "         'විය': 18,\n",
       "         'එය': 12,\n",
       "         'ළඟ': 20,\n",
       "         'වේවා': 37,\n",
       "         'පැතුම්': 24,\n",
       "         'හමු': 10,\n",
       "         'හදින්': 12,\n",
       "         'දුක්': 36,\n",
       "         'ලොවක්': 10,\n",
       "         'අහසේ': 12,\n",
       "         'යහනේ': 10,\n",
       "         'පැන්': 11,\n",
       "         'පොදක්': 16,\n",
       "         'පෙම්': 68,\n",
       "         'සිරි': 17,\n",
       "         'දස': 19,\n",
       "         'දුක': 23,\n",
       "         'පද': 17,\n",
       "         'දම්': 12,\n",
       "         'රජ': 17,\n",
       "         'ඔබගේ': 20,\n",
       "         'මතකයි': 20,\n",
       "         'එදා': 12,\n",
       "         'යයි': 13,\n",
       "         'කියලා': 11,\n",
       "         'වගේ': 25,\n",
       "         'ගල්': 10,\n",
       "         'මිහිරි': 16,\n",
       "         'හඬ': 13,\n",
       "         'නැගෙන': 12,\n",
       "         'රස': 50,\n",
       "         'ඔබට': 24,\n",
       "         'බැදුනු': 10,\n",
       "         'ප්රේමයේ': 14,\n",
       "         'නමින්': 10,\n",
       "         'හැටි': 15,\n",
       "         'කුසුම්': 12,\n",
       "         'මතේ': 12,\n",
       "         'හමයි': 12,\n",
       "         'අතේ': 12,\n",
       "         'අතරේ': 14,\n",
       "         'වසන්තේ': 21,\n",
       "         'ගී': 31,\n",
       "         'ලද': 10,\n",
       "         'ඇස්': 12,\n",
       "         'නැත': 16,\n",
       "         'දේ': 31,\n",
       "         'යුග': 10,\n",
       "         'කඳුළු': 16,\n",
       "         'හඬනා': 11,\n",
       "         'රැයේ': 20,\n",
       "         'ආදරයේ': 19,\n",
       "         'රෑ': 41,\n",
       "         'හිම': 17,\n",
       "         'පාසැල්': 13,\n",
       "         'රුව': 12,\n",
       "         'ගමන්': 10,\n",
       "         'යමු': 16,\n",
       "         'තනි': 26,\n",
       "         'සොයා': 38,\n",
       "         'ඔබයි': 32,\n",
       "         'අපේ': 28,\n",
       "         'නුඹ': 33,\n",
       "         'මහද': 11,\n",
       "         'කියන්න': 11,\n",
       "         'එන්න': 37,\n",
       "         'ආසයි': 13,\n",
       "         'කොයි': 11,\n",
       "         'නිල්': 16,\n",
       "         'රන්': 94,\n",
       "         'නෙත්': 28,\n",
       "         'සිත්': 10,\n",
       "         'මතු': 17,\n",
       "         'අත': 12,\n",
       "         'ගෙන': 14,\n",
       "         'හිද': 10,\n",
       "         'ප්රේම': 17,\n",
       "         'කතා': 34,\n",
       "         'බිංදු': 12,\n",
       "         'රැන්දු': 12,\n",
       "         'ගොයමේ': 15,\n",
       "         'සින්දු': 21,\n",
       "         'අගේ': 13,\n",
       "         'ලන්දු': 12,\n",
       "         'සොඳුරු': 21,\n",
       "         'රුවන්': 14,\n",
       "         '//': 12,\n",
       "         'ඉන්නේ': 14,\n",
       "         'සිරියා': 11,\n",
       "         'ලඳේ': 13,\n",
       "         'ඔබෙ': 35,\n",
       "         'කඳු': 12,\n",
       "         'එකම': 10,\n",
       "         'ළමුන්': 11,\n",
       "         'නිදි': 10,\n",
       "         'අභිමන්': 10,\n",
       "         'පිරිලා': 11,\n",
       "         'එනවා': 18,\n",
       "         'හහ': 10,\n",
       "         'ලොවෙන්': 10,\n",
       "         'නීල': 18,\n",
       "         'පෑ': 10,\n",
       "         'රෑට': 15,\n",
       "         'ගීත': 24,\n",
       "         'නැති': 23,\n",
       "         'ඉර': 12,\n",
       "         'හඳ': 14,\n",
       "         'ටිකිරි': 17,\n",
       "         'මුව': 18,\n",
       "         'ලංවී': 10,\n",
       "         'අත්': 18,\n",
       "         'නංගී': 16,\n",
       "         'මල්ලී': 11,\n",
       "         'සතර': 12,\n",
       "         'පා': 14,\n",
       "         'කලා': 13,\n",
       "         'කාලය': 10,\n",
       "         'යළි': 10,\n",
       "         'සෙනෙහස': 10,\n",
       "         'කැට': 16,\n",
       "         'පිපි': 13,\n",
       "         'හැම': 10,\n",
       "         'පොඩි': 28,\n",
       "         'ප්රිය': 15,\n",
       "         'ගෑ': 11,\n",
       "         'පුංචි': 52,\n",
       "         'ආදරණීය': 14,\n",
       "         'නේරංජනා': 14,\n",
       "         'රඟ': 16,\n",
       "         'ඈ': 32,\n",
       "         'එපා': 26,\n",
       "         'තලා': 13,\n",
       "         'කිරි': 20,\n",
       "         'කැන්': 17,\n",
       "         'සද': 14,\n",
       "         'පානේ': 16,\n",
       "         'තමයි': 12,\n",
       "         '-': 10,\n",
       "         'කල': 11,\n",
       "         'වෙන්න': 13,\n",
       "         'සෙනෙහසින්': 11,\n",
       "         'සලා': 29,\n",
       "         'කැලේ': 11,\n",
       "         'හැමදාම': 11,\n",
       "         'ඔබය': 10,\n",
       "         'මාගේ': 18,\n",
       "         'මග': 15,\n",
       "         'මමයි': 17,\n",
       "         'ආදරේ,': 1,\n",
       "         'යාමේ': 12,\n",
       "         'මලේ': 16,\n",
       "         'පහන': 10,\n",
       "         'ඇය': 23,\n",
       "         'මිණි': 13,\n",
       "         'වෙලේ': 11,\n",
       "         'අර': 10,\n",
       "         'හෝහහා': 14,\n",
       "         'සිහින': 26,\n",
       "         'කෝපේ,': 1,\n",
       "         'වරෙන්': 18,\n",
       "         'අපිත්': 12,\n",
       "         'මී': 10,\n",
       "         'දෑසෙ': 10,\n",
       "         'යනවා': 31,\n",
       "         'පටලා': 11,\n",
       "         'සොඳුරී': 10,\n",
       "         'පණ': 11,\n",
       "         'බස්': 15,\n",
       "         'මත්': 14,\n",
       "         'උදාවුනා': 12,\n",
       "         'රඟන': 12,\n",
       "         'එළිය': 11,\n",
       "         'දෙපස': 10,\n",
       "         'ඉතිරේ': 10,\n",
       "         'හිනාවයි,': 4,\n",
       "         'ක්යලා': 26,\n",
       "         'රෝ': 23,\n",
       "         'යා': 11,\n",
       "         'දීපන්ගීමන': 11,\n",
       "         'කාලේ': 16,\n",
       "         'යුවලක්': 10,\n",
       "         'පොහොය': 10,\n",
       "         'බර': 14,\n",
       "         'මව්': 15,\n",
       "         'ලංකා': 30,\n",
       "         'තේජමාන': 10,\n",
       "         'ලංකා//': 10,\n",
       "         'මැද': 13,\n",
       "         'උපන්': 10,\n",
       "         'කලේ': 14,\n",
       "         'පුතේ': 17,\n",
       "         'දුවේ': 12,\n",
       "         'ඉපදුන': 10,\n",
       "         'සිරිලක්': 10,\n",
       "         'බිමේ': 12,\n",
       "         'දළදා': 15,\n",
       "         'පිරුණු': 10,\n",
       "         'වෙමි': 10,\n",
       "         'රන්වන්': 19,\n",
       "         'ගුම්': 21,\n",
       "         'දිලිසෙන': 13,\n",
       "         'මැණිකේ': 24,\n",
       "         'සැගවී': 10,\n",
       "         'ඕ': 20,\n",
       "         'පිපුණු': 10,\n",
       "         'පැතුම්,,': 1,\n",
       "         'අම්මා': 12,\n",
       "         'ඔබව': 13,\n",
       "         'දැක': 13,\n",
       "         'යැදුමට': 11,\n",
       "         'පිදුමට': 11,\n",
       "         'රුව,': 1,\n",
       "         'කවිය': 15,\n",
       "         \"බර'\": 1,\n",
       "         'අම්මේ': 14,\n",
       "         'ඔය': 17,\n",
       "         'තනියට': 12,\n",
       "         'ඉනු': 12,\n",
       "         'ඇදුම': 12,\n",
       "         'තවම': 10,\n",
       "         'ලඳුනේ': 12,\n",
       "         'කුරුටු': 10,\n",
       "         'ගෙන,': 2,\n",
       "         'පොරකා,': 2})"
      ]
     },
     "execution_count": 26,
     "metadata": {},
     "output_type": "execute_result"
    }
   ],
   "source": [
    "list_of_words = ' '.join(data_df['pre_processed_text']).split()\n",
    "Counter(list_of_words)"
   ]
  },
  {
   "cell_type": "code",
   "execution_count": 27,
   "id": "a02a54cf",
   "metadata": {},
   "outputs": [
    {
     "data": {
      "text/html": [
       "<div>\n",
       "<style scoped>\n",
       "    .dataframe tbody tr th:only-of-type {\n",
       "        vertical-align: middle;\n",
       "    }\n",
       "\n",
       "    .dataframe tbody tr th {\n",
       "        vertical-align: top;\n",
       "    }\n",
       "\n",
       "    .dataframe thead th {\n",
       "        text-align: right;\n",
       "    }\n",
       "</style>\n",
       "<table border=\"1\" class=\"dataframe\">\n",
       "  <thead>\n",
       "    <tr style=\"text-align: right;\">\n",
       "      <th></th>\n",
       "      <th>song_id</th>\n",
       "      <th>song_name</th>\n",
       "      <th>Artist</th>\n",
       "      <th>Lyrics</th>\n",
       "      <th>Type</th>\n",
       "      <th>token_list</th>\n",
       "      <th>token_list_after_sw</th>\n",
       "      <th>pre_processed_stop_words</th>\n",
       "      <th>token_list_after_common_words</th>\n",
       "      <th>pre_processed_text</th>\n",
       "      <th>word_count</th>\n",
       "    </tr>\n",
       "  </thead>\n",
       "  <tbody>\n",
       "    <tr>\n",
       "      <th>0</th>\n",
       "      <td>C 01</td>\n",
       "      <td>Kaulu Piyan Path Wahanna</td>\n",
       "      <td>Kasun Kalhara</td>\n",
       "      <td>කවුළු පියන්පත් වහන්න සඳළුතලාවේ ඔබ දුරයි නෙතට ම...</td>\n",
       "      <td>Calm</td>\n",
       "      <td>[කවුළු, පියන්පත්, වහන්න, සඳළුතලාවේ, ඔබ, දුරයි,...</td>\n",
       "      <td>[කවුළු, පියන්පත්, වහන්න, සඳළුතලාවේ, ඔබ, දුරයි,...</td>\n",
       "      <td>කවුළු පියන්පත් වහන්න සඳළුතලාවේ ඔබ දුරයි නෙතට ම...</td>\n",
       "      <td>[ඔබ, නෙතට, මා, තලාවේ, ඔබ, නෙතට, මා, තලාවේ, මල්...</td>\n",
       "      <td>ඔබ නෙතට මා තලාවේ ඔබ නෙතට මා තලාවේ මල් බලා දිය ...</td>\n",
       "      <td>30</td>\n",
       "    </tr>\n",
       "    <tr>\n",
       "      <th>1</th>\n",
       "      <td>C 02</td>\n",
       "      <td>Ruk Aththana Mala Mudune\\n</td>\n",
       "      <td>Nanda Malini</td>\n",
       "      <td>රුක් අත්තන මල මුදුනේ  බඹරු නටන හැන්දෑවේ… සැදෑ ...</td>\n",
       "      <td>Calm</td>\n",
       "      <td>[රුක්, අත්තන, මල, මුදුනේ, බඹරු, නටන, හැන්දෑවේ…...</td>\n",
       "      <td>[රුක්, අත්තන, මල, මුදුනේ, බඹරු, නටන, හැන්දෑවේ…...</td>\n",
       "      <td>රුක් අත්තන මල මුදුනේ බඹරු නටන හැන්දෑවේ… සැදෑ අ...</td>\n",
       "      <td>[මල, මුදුනේ, බඹරු, අඳුර, කර, කවුරුද, එන්නේ…, න...</td>\n",
       "      <td>මල මුදුනේ බඹරු අඳුර කර කවුරුද එන්නේ… නුවන් කවු...</td>\n",
       "      <td>46</td>\n",
       "    </tr>\n",
       "    <tr>\n",
       "      <th>2</th>\n",
       "      <td>C 03</td>\n",
       "      <td>Samanala Mudune</td>\n",
       "      <td>H R Jothipala and Latha Walpola</td>\n",
       "      <td>සමනළ මුදුනේ සිරිපද සිඹ සිඹ උදා ඉරක් පායයි සැනස...</td>\n",
       "      <td>Calm</td>\n",
       "      <td>[සමනළ, මුදුනේ, සිරිපද, සිඹ, සිඹ, උදා, ඉරක්, පා...</td>\n",
       "      <td>[සමනළ, මුදුනේ, සිරිපද, සිඹ, සිඹ, උදා, ඉරක්, පා...</td>\n",
       "      <td>සමනළ මුදුනේ සිරිපද සිඹ සිඹ උදා ඉරක් පායයි සැනස...</td>\n",
       "      <td>[මුදුනේ, සිඹ, සිඹ, සුව, දෙන, දැහැමි, දැයක්, පි...</td>\n",
       "      <td>මුදුනේ සිඹ සිඹ සුව දෙන දැහැමි දැයක් පිබිදෙයි ද...</td>\n",
       "      <td>58</td>\n",
       "    </tr>\n",
       "    <tr>\n",
       "      <th>3</th>\n",
       "      <td>C 04</td>\n",
       "      <td>Niwan Dutu Himi</td>\n",
       "      <td>Victor Rathnayaka</td>\n",
       "      <td>නිවන් දුටු හිමි රැවන් පිළිරැව පමණි මට අද ශේෂ ව...</td>\n",
       "      <td>Calm</td>\n",
       "      <td>[නිවන්, දුටු, හිමි, රැවන්, පිළිරැව, පමණි, මට, ...</td>\n",
       "      <td>[නිවන්, දුටු, හිමි, රැවන්, පිළිරැව, පමණි, මට, ...</td>\n",
       "      <td>නිවන් දුටු හිමි රැවන් පිළිරැව පමණි මට අද ශේෂ ව...</td>\n",
       "      <td>[දුටු, මට, අද, මැනවී, බුදු, කරැණාවෙන්, කරැණාවෙ...</td>\n",
       "      <td>දුටු මට අද මැනවී බුදු කරැණාවෙන් කරැණාවෙන් කරැණ...</td>\n",
       "      <td>47</td>\n",
       "    </tr>\n",
       "    <tr>\n",
       "      <th>4</th>\n",
       "      <td>C 05</td>\n",
       "      <td>Suwanda Danee Danee Danenawa</td>\n",
       "      <td>Rookantha Gunathilake</td>\n",
       "      <td>සුවඳ දැනී දැනී දැනෙනවා උදා හිරු එළියේ අළුත් ඉර...</td>\n",
       "      <td>Calm</td>\n",
       "      <td>[සුවඳ, දැනී, දැනී, දැනෙනවා, උදා, හිරු, එළියේ, ...</td>\n",
       "      <td>[සුවඳ, දැනී, දැනී, දැනෙනවා, උදා, හිරු, එළියේ, ...</td>\n",
       "      <td>සුවඳ දැනී දැනී දැනෙනවා උදා හිරු එළියේ අළුත් ඉර...</td>\n",
       "      <td>[සුවඳ, දැනී, දැනී, හිරු, එළියේ, හිත, හැඟුම්, ස...</td>\n",
       "      <td>සුවඳ දැනී දැනී හිරු එළියේ හිත හැඟුම් සුවඳ දැනී...</td>\n",
       "      <td>48</td>\n",
       "    </tr>\n",
       "  </tbody>\n",
       "</table>\n",
       "</div>"
      ],
      "text/plain": [
       "  song_id                     song_name                           Artist  \\\n",
       "0    C 01      Kaulu Piyan Path Wahanna                    Kasun Kalhara   \n",
       "1    C 02    Ruk Aththana Mala Mudune\\n                     Nanda Malini   \n",
       "2    C 03               Samanala Mudune  H R Jothipala and Latha Walpola   \n",
       "3    C 04               Niwan Dutu Himi                Victor Rathnayaka   \n",
       "4    C 05  Suwanda Danee Danee Danenawa            Rookantha Gunathilake   \n",
       "\n",
       "                                              Lyrics  Type  \\\n",
       "0  කවුළු පියන්පත් වහන්න සඳළුතලාවේ ඔබ දුරයි නෙතට ම...  Calm   \n",
       "1  රුක් අත්තන මල මුදුනේ  බඹරු නටන හැන්දෑවේ… සැදෑ ...  Calm   \n",
       "2  සමනළ මුදුනේ සිරිපද සිඹ සිඹ උදා ඉරක් පායයි සැනස...  Calm   \n",
       "3  නිවන් දුටු හිමි රැවන් පිළිරැව පමණි මට අද ශේෂ ව...  Calm   \n",
       "4  සුවඳ දැනී දැනී දැනෙනවා උදා හිරු එළියේ අළුත් ඉර...  Calm   \n",
       "\n",
       "                                          token_list  \\\n",
       "0  [කවුළු, පියන්පත්, වහන්න, සඳළුතලාවේ, ඔබ, දුරයි,...   \n",
       "1  [රුක්, අත්තන, මල, මුදුනේ, බඹරු, නටන, හැන්දෑවේ…...   \n",
       "2  [සමනළ, මුදුනේ, සිරිපද, සිඹ, සිඹ, උදා, ඉරක්, පා...   \n",
       "3  [නිවන්, දුටු, හිමි, රැවන්, පිළිරැව, පමණි, මට, ...   \n",
       "4  [සුවඳ, දැනී, දැනී, දැනෙනවා, උදා, හිරු, එළියේ, ...   \n",
       "\n",
       "                                 token_list_after_sw  \\\n",
       "0  [කවුළු, පියන්පත්, වහන්න, සඳළුතලාවේ, ඔබ, දුරයි,...   \n",
       "1  [රුක්, අත්තන, මල, මුදුනේ, බඹරු, නටන, හැන්දෑවේ…...   \n",
       "2  [සමනළ, මුදුනේ, සිරිපද, සිඹ, සිඹ, උදා, ඉරක්, පා...   \n",
       "3  [නිවන්, දුටු, හිමි, රැවන්, පිළිරැව, පමණි, මට, ...   \n",
       "4  [සුවඳ, දැනී, දැනී, දැනෙනවා, උදා, හිරු, එළියේ, ...   \n",
       "\n",
       "                            pre_processed_stop_words  \\\n",
       "0  කවුළු පියන්පත් වහන්න සඳළුතලාවේ ඔබ දුරයි නෙතට ම...   \n",
       "1  රුක් අත්තන මල මුදුනේ බඹරු නටන හැන්දෑවේ… සැදෑ අ...   \n",
       "2  සමනළ මුදුනේ සිරිපද සිඹ සිඹ උදා ඉරක් පායයි සැනස...   \n",
       "3  නිවන් දුටු හිමි රැවන් පිළිරැව පමණි මට අද ශේෂ ව...   \n",
       "4  සුවඳ දැනී දැනී දැනෙනවා උදා හිරු එළියේ අළුත් ඉර...   \n",
       "\n",
       "                       token_list_after_common_words  \\\n",
       "0  [ඔබ, නෙතට, මා, තලාවේ, ඔබ, නෙතට, මා, තලාවේ, මල්...   \n",
       "1  [මල, මුදුනේ, බඹරු, අඳුර, කර, කවුරුද, එන්නේ…, න...   \n",
       "2  [මුදුනේ, සිඹ, සිඹ, සුව, දෙන, දැහැමි, දැයක්, පි...   \n",
       "3  [දුටු, මට, අද, මැනවී, බුදු, කරැණාවෙන්, කරැණාවෙ...   \n",
       "4  [සුවඳ, දැනී, දැනී, හිරු, එළියේ, හිත, හැඟුම්, ස...   \n",
       "\n",
       "                                  pre_processed_text  word_count  \n",
       "0  ඔබ නෙතට මා තලාවේ ඔබ නෙතට මා තලාවේ මල් බලා දිය ...          30  \n",
       "1  මල මුදුනේ බඹරු අඳුර කර කවුරුද එන්නේ… නුවන් කවු...          46  \n",
       "2  මුදුනේ සිඹ සිඹ සුව දෙන දැහැමි දැයක් පිබිදෙයි ද...          58  \n",
       "3  දුටු මට අද මැනවී බුදු කරැණාවෙන් කරැණාවෙන් කරැණ...          47  \n",
       "4  සුවඳ දැනී දැනී හිරු එළියේ හිත හැඟුම් සුවඳ දැනී...          48  "
      ]
     },
     "execution_count": 27,
     "metadata": {},
     "output_type": "execute_result"
    }
   ],
   "source": [
    "data_df['word_count'] = data_df['pre_processed_text'].str.split().str.len()\n",
    "data_df.head(5)"
   ]
  },
  {
   "cell_type": "code",
   "execution_count": 28,
   "id": "586c442f",
   "metadata": {},
   "outputs": [
    {
     "name": "stdout",
     "output_type": "stream",
     "text": [
      "Total number of unique words <FreqDist with 318 samples and 6648 outcomes>\n"
     ]
    }
   ],
   "source": [
    "def total_unique_words(words):\n",
    "    return nltk.FreqDist(words)\n",
    "\n",
    "print(\"Total number of unique words\",total_unique_words(list_of_words))"
   ]
  },
  {
   "cell_type": "code",
   "execution_count": 29,
   "id": "9e6f6592",
   "metadata": {},
   "outputs": [
    {
     "name": "stdout",
     "output_type": "stream",
     "text": [
      "Total number of words 6648\n"
     ]
    }
   ],
   "source": [
    "def total_words(words):\n",
    "    return(len(words))\n",
    "print(\"Total number of words\",total_words(list_of_words))"
   ]
  },
  {
   "cell_type": "code",
   "execution_count": 30,
   "id": "e553b7e7",
   "metadata": {},
   "outputs": [],
   "source": [
    "from sklearn.model_selection import train_test_split\n",
    "from sklearn import preprocessing\n",
    "label_encoder = preprocessing.LabelEncoder()"
   ]
  },
  {
   "cell_type": "code",
   "execution_count": 31,
   "id": "10b0f012",
   "metadata": {},
   "outputs": [],
   "source": [
    "X= data_df['pre_processed_text']\n",
    "y=label_encoder.fit_transform(data_df['Type'])"
   ]
  },
  {
   "cell_type": "code",
   "execution_count": 32,
   "id": "fee0b3ef",
   "metadata": {},
   "outputs": [],
   "source": [
    "X_train, X_test, y_train, y_test = train_test_split(X,y, test_size=0.33, random_state=42)"
   ]
  },
  {
   "cell_type": "code",
   "execution_count": 33,
   "id": "de60157a",
   "metadata": {},
   "outputs": [],
   "source": [
    "from sklearn.feature_extraction.text import TfidfVectorizer,CountVectorizer\n",
    "\n",
    "countvectorizer = CountVectorizer(analyzer= 'word')\n",
    "tfidfvectorizer = TfidfVectorizer(analyzer='word')\n",
    "count_wm = countvectorizer.fit(X)\n",
    "tfidf_wm = tfidfvectorizer.fit(X)\n",
    "tfidf_tokens = tfidf_wm.transform(X)\n",
    "count_tokens = count_wm.transform(X)"
   ]
  },
  {
   "cell_type": "code",
   "execution_count": 34,
   "id": "7afea975",
   "metadata": {},
   "outputs": [],
   "source": [
    "from sklearn.model_selection import KFold, cross_val_score"
   ]
  },
  {
   "cell_type": "code",
   "execution_count": 35,
   "id": "a39937b7",
   "metadata": {},
   "outputs": [],
   "source": [
    "X_train,X_test,y_train,y_test = train_test_split(tfidf_tokens,\n",
    "                                                y,\n",
    "                                                test_size=0.33,\n",
    "                                                random_state=6)"
   ]
  },
  {
   "cell_type": "code",
   "execution_count": 36,
   "id": "a581e94b",
   "metadata": {},
   "outputs": [],
   "source": [
    "from sklearn.svm import SVC\n",
    "from sklearn.model_selection import GridSearchCV"
   ]
  },
  {
   "cell_type": "code",
   "execution_count": 37,
   "id": "6c510cfa",
   "metadata": {},
   "outputs": [
    {
     "data": {
      "text/plain": [
       "GridSearchCV(cv=5, estimator=SVC(),\n",
       "             param_grid={'C': [0.1, 1, 10, 100],\n",
       "                         'gamma': [0.01, 0.1, 1, 'scale', 'auto'],\n",
       "                         'kernel': ['linear', 'rbf', 'poly']},\n",
       "             scoring='accuracy')"
      ]
     },
     "execution_count": 37,
     "metadata": {},
     "output_type": "execute_result"
    }
   ],
   "source": [
    "svm_model = SVC()\n",
    "\n",
    "param_grid = {'C': [0.1, 1, 10, 100], 'gamma': [0.01, 0.1, 1, 'scale', 'auto'], 'kernel': ['linear', 'rbf', 'poly']}\n",
    "\n",
    "\n",
    "grid_search = GridSearchCV(estimator=svm_model, param_grid=param_grid, cv=5, scoring='accuracy')\n",
    "grid_search.fit(X_train, y_train)"
   ]
  },
  {
   "cell_type": "code",
   "execution_count": 38,
   "id": "8ae3f48d",
   "metadata": {},
   "outputs": [
    {
     "name": "stdout",
     "output_type": "stream",
     "text": [
      "Best Hyperparameters: {'C': 10, 'gamma': 0.1, 'kernel': 'rbf'}\n",
      "Test Accuracy: 44.44444444444444\n"
     ]
    }
   ],
   "source": [
    "from sklearn.metrics import accuracy_score\n",
    "# Print the best hyperparameters\n",
    "print(\"Best Hyperparameters:\", grid_search.best_params_)\n",
    "\n",
    "# Evaluate the model on the test set using the best hyperparameters\n",
    "best_model = grid_search.best_estimator_\n",
    "y_pred = best_model.predict(X_test)\n",
    "accuracy = accuracy_score(y_test, y_pred)\n",
    "print(\"Test Accuracy:\", accuracy*100)"
   ]
  }
 ],
 "metadata": {
  "kernelspec": {
   "display_name": "Python 3 (ipykernel)",
   "language": "python",
   "name": "python3"
  },
  "language_info": {
   "codemirror_mode": {
    "name": "ipython",
    "version": 3
   },
   "file_extension": ".py",
   "mimetype": "text/x-python",
   "name": "python",
   "nbconvert_exporter": "python",
   "pygments_lexer": "ipython3",
   "version": "3.9.7"
  }
 },
 "nbformat": 4,
 "nbformat_minor": 5
}
