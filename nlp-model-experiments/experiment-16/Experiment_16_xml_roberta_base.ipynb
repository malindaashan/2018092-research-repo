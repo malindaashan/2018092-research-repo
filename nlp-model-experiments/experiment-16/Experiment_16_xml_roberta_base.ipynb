{
  "cells": [
    {
      "cell_type": "code",
      "execution_count": 68,
      "metadata": {
        "id": "af398bc8"
      },
      "outputs": [],
      "source": [
        "import pandas as pd\n",
        "import unicodedata\n",
        "import re\n",
        "import nltk"
      ],
      "id": "af398bc8"
    },
    {
      "cell_type": "code",
      "execution_count": 69,
      "metadata": {
        "colab": {
          "base_uri": "https://localhost:8080/"
        },
        "id": "gk7lSOqtgOZi",
        "outputId": "d88cdfb2-914b-4379-ef61-89b134fe1efe"
      },
      "outputs": [
        {
          "output_type": "stream",
          "name": "stdout",
          "text": [
            "Drive already mounted at /content/drive; to attempt to forcibly remount, call drive.mount(\"/content/drive\", force_remount=True).\n"
          ]
        }
      ],
      "source": [
        "from google.colab import drive\n",
        "import pandas as pd\n",
        "import numpy as np\n",
        "from sklearn import linear_model\n",
        "from sklearn import datasets\n",
        "from sklearn import preprocessing\n",
        "from sklearn.preprocessing import StandardScaler\n",
        "import nltk\n",
        "\n",
        "# Loading data via google drive\n",
        "drive.mount('/content/drive')"
      ],
      "id": "gk7lSOqtgOZi"
    },
    {
      "cell_type": "code",
      "source": [
        "from huggingface_hub import notebook_login"
      ],
      "metadata": {
        "id": "_kkQjODUaEnO"
      },
      "id": "_kkQjODUaEnO",
      "execution_count": 70,
      "outputs": []
    },
    {
      "cell_type": "code",
      "source": [
        "notebook_login()"
      ],
      "metadata": {
        "colab": {
          "base_uri": "https://localhost:8080/",
          "height": 162,
          "referenced_widgets": [
            "d4adebe45fd941879ed18bb57057ece4",
            "0b3cdddab2bd45dfa35ee7ac3872a594",
            "2440059bfbea4774a5d3fa56a817ca93",
            "b910cd6d773b47b086c875a979e5418b",
            "e142de5b05d046aaaa180fa686c764c2",
            "b59811dbba9c4fb08e07cf630574ca0b",
            "9768328ad7a7485b9c2bbf275b2ab6b9",
            "40aa649d06104468a8252bac67f0e833",
            "ed6dbed6273c4134a4e094a1de23bef4",
            "b61a56fb4ebc4b1e90e4a165969f7ead",
            "80ca3732c2da4869b3c465f23416a2d7",
            "4f0a494cac7243e4b6f5a83d98b249a9",
            "e296c712d7394f98bc7bb02fb4769edb",
            "2591230ca7cc4ff59081b309c238c720",
            "4940628872304e82b23d8e87c7cfe0a2",
            "c5143ab6a8d74f259a1196403fef0de2",
            "8013b4782d73456d90a0a9c60c3a0935",
            "2b4170a5671441f5ad730908a09a4647",
            "a9e7a40c673e421ab815e0e7629d54a6",
            "c0f7cd30321a44f0ada96c5ba0742360",
            "ce90019e82e841c89c8e7d0ebf5000bd",
            "3abf333053f347fd892a7e909a1e7129",
            "03cdbf4b272048e5a0f0ddde424d4a21",
            "a1dfd2ac44c74e52900c924ea76570ed",
            "9aeb5683058a4943b2ab4ea1d64062b5",
            "ef92afbcae904884a5f669d032191a77",
            "0f9778478e20417e8c36128fecd78537",
            "0cef4ef577264c44a1aa3cc79c3a1d2c",
            "c218329b75824f47ac3fa83ca02ef680",
            "5e4aac753e4e4945b2fa9aad295548b8",
            "1d61df80544d482aa87a93fcb925a3d8",
            "486562353ffb4d04b8c22a9250af6b81"
          ]
        },
        "id": "vTOAHlFSaMUQ",
        "outputId": "fc36ee21-a3b9-46c5-f24f-c471403629eb"
      },
      "id": "vTOAHlFSaMUQ",
      "execution_count": 72,
      "outputs": [
        {
          "output_type": "display_data",
          "data": {
            "text/plain": [
              "VBox(children=(HTML(value='<center> <img\\nsrc=https://huggingface.co/front/assets/huggingface_logo-noborder.sv…"
            ],
            "application/vnd.jupyter.widget-view+json": {
              "version_major": 2,
              "version_minor": 0,
              "model_id": "d4adebe45fd941879ed18bb57057ece4"
            }
          },
          "metadata": {}
        }
      ]
    },
    {
      "cell_type": "code",
      "execution_count": 73,
      "metadata": {
        "colab": {
          "base_uri": "https://localhost:8080/",
          "height": 597
        },
        "id": "a30f85cc",
        "outputId": "00f88f0b-3854-43aa-a5e2-b1fb62a7fd7b"
      },
      "outputs": [
        {
          "output_type": "execute_result",
          "data": {
            "text/plain": [
              "    song_id                     song_name                           Artist  \\\n",
              "0      C 01      Kaulu Piyan Path Wahanna                    Kasun Kalhara   \n",
              "1      C 02    Ruk Aththana Mala Mudune\\n                     Nanda Malini   \n",
              "2      C 03               Samanala Mudune  H R Jothipala and Latha Walpola   \n",
              "3      C 04               Niwan Dutu Himi                Victor Rathnayaka   \n",
              "4      C 05  Suwanda Danee Danee Danenawa            Rookantha Gunathilake   \n",
              "..      ...                           ...                              ...   \n",
              "157    S 48               Dangakaaree Man              Indrani Wijebandara   \n",
              "158    S 49               Edaa Wage Adath             Somathilaka Jayamaha   \n",
              "159    S 50        Paluwa Dewanath Karala                  Gunadasa Kapuge   \n",
              "160    S 51             Pawena Nil Walawe                  W. D. Amaradeva   \n",
              "161    S 52                  Andara Yaye            Karunarathna Divulgane   \n",
              "\n",
              "                                                Lyrics  Type  \n",
              "0    කවුළු පියන්පත් වහන්න සඳළුතලාවේ\\r\\nඔබ දුරයි නෙත...  Calm  \n",
              "1    රුක් අත්තන මල මුදුනේ\\r\\n\\r\\nබඹරු නටන හැන්දෑවේ…...  Calm  \n",
              "2    \\r\\nසමනළ මුදුනේ සිරිපද සිඹ සිඹ\\r\\nඋදා ඉරක් පාය...  Calm  \n",
              "3    නිවන් දුටු හිමි රැවන් පිළිරැව\\r\\nපමණි මට අද ශේ...  Calm  \n",
              "4    සුවඳ දැනී දැනී දැනෙනවා...\\r\\nඋදා හිරු එළියේ......  Calm  \n",
              "..                                                 ...   ...  \n",
              "157  දඟකාරී මං මද්දුම දෝණි\\nඔබට අකීකරු නෑ අම්මේ\\nදඟ...   Sad  \n",
              "158  එදා වාගේ අදත් පොද වැස්ස වැටෙනවා\\r\\nමල් පිපුණු ...   Sad  \n",
              "159  පාළුව දෙවනත් කරලා\\r\\nනාඩන් උලලේනෝ\\r\\nකාටත් නපු...   Sad  \n",
              "160  පාවෙනා නිල් වලාවේ\\r\\nනදී තලාවේ\\r\\nරිදී ජලාසේ\\r...   Sad  \n",
              "161  අන්දර යායේ වැව්තාවුල්ලේ\\r\\nසක්මන් කරනා අප්පච්ච...   Sad  \n",
              "\n",
              "[162 rows x 5 columns]"
            ],
            "text/html": [
              "\n",
              "  <div id=\"df-81f16957-bc41-4b91-9b2c-e15857868f8a\" class=\"colab-df-container\">\n",
              "    <div>\n",
              "<style scoped>\n",
              "    .dataframe tbody tr th:only-of-type {\n",
              "        vertical-align: middle;\n",
              "    }\n",
              "\n",
              "    .dataframe tbody tr th {\n",
              "        vertical-align: top;\n",
              "    }\n",
              "\n",
              "    .dataframe thead th {\n",
              "        text-align: right;\n",
              "    }\n",
              "</style>\n",
              "<table border=\"1\" class=\"dataframe\">\n",
              "  <thead>\n",
              "    <tr style=\"text-align: right;\">\n",
              "      <th></th>\n",
              "      <th>song_id</th>\n",
              "      <th>song_name</th>\n",
              "      <th>Artist</th>\n",
              "      <th>Lyrics</th>\n",
              "      <th>Type</th>\n",
              "    </tr>\n",
              "  </thead>\n",
              "  <tbody>\n",
              "    <tr>\n",
              "      <th>0</th>\n",
              "      <td>C 01</td>\n",
              "      <td>Kaulu Piyan Path Wahanna</td>\n",
              "      <td>Kasun Kalhara</td>\n",
              "      <td>කවුළු පියන්පත් වහන්න සඳළුතලාවේ\\r\\nඔබ දුරයි නෙත...</td>\n",
              "      <td>Calm</td>\n",
              "    </tr>\n",
              "    <tr>\n",
              "      <th>1</th>\n",
              "      <td>C 02</td>\n",
              "      <td>Ruk Aththana Mala Mudune\\n</td>\n",
              "      <td>Nanda Malini</td>\n",
              "      <td>රුක් අත්තන මල මුදුනේ\\r\\n\\r\\nබඹරු නටන හැන්දෑවේ…...</td>\n",
              "      <td>Calm</td>\n",
              "    </tr>\n",
              "    <tr>\n",
              "      <th>2</th>\n",
              "      <td>C 03</td>\n",
              "      <td>Samanala Mudune</td>\n",
              "      <td>H R Jothipala and Latha Walpola</td>\n",
              "      <td>\\r\\nසමනළ මුදුනේ සිරිපද සිඹ සිඹ\\r\\nඋදා ඉරක් පාය...</td>\n",
              "      <td>Calm</td>\n",
              "    </tr>\n",
              "    <tr>\n",
              "      <th>3</th>\n",
              "      <td>C 04</td>\n",
              "      <td>Niwan Dutu Himi</td>\n",
              "      <td>Victor Rathnayaka</td>\n",
              "      <td>නිවන් දුටු හිමි රැවන් පිළිරැව\\r\\nපමණි මට අද ශේ...</td>\n",
              "      <td>Calm</td>\n",
              "    </tr>\n",
              "    <tr>\n",
              "      <th>4</th>\n",
              "      <td>C 05</td>\n",
              "      <td>Suwanda Danee Danee Danenawa</td>\n",
              "      <td>Rookantha Gunathilake</td>\n",
              "      <td>සුවඳ දැනී දැනී දැනෙනවා...\\r\\nඋදා හිරු එළියේ......</td>\n",
              "      <td>Calm</td>\n",
              "    </tr>\n",
              "    <tr>\n",
              "      <th>...</th>\n",
              "      <td>...</td>\n",
              "      <td>...</td>\n",
              "      <td>...</td>\n",
              "      <td>...</td>\n",
              "      <td>...</td>\n",
              "    </tr>\n",
              "    <tr>\n",
              "      <th>157</th>\n",
              "      <td>S 48</td>\n",
              "      <td>Dangakaaree Man</td>\n",
              "      <td>Indrani Wijebandara</td>\n",
              "      <td>දඟකාරී මං මද්දුම දෝණි\\nඔබට අකීකරු නෑ අම්මේ\\nදඟ...</td>\n",
              "      <td>Sad</td>\n",
              "    </tr>\n",
              "    <tr>\n",
              "      <th>158</th>\n",
              "      <td>S 49</td>\n",
              "      <td>Edaa Wage Adath</td>\n",
              "      <td>Somathilaka Jayamaha</td>\n",
              "      <td>එදා වාගේ අදත් පොද වැස්ස වැටෙනවා\\r\\nමල් පිපුණු ...</td>\n",
              "      <td>Sad</td>\n",
              "    </tr>\n",
              "    <tr>\n",
              "      <th>159</th>\n",
              "      <td>S 50</td>\n",
              "      <td>Paluwa Dewanath Karala</td>\n",
              "      <td>Gunadasa Kapuge</td>\n",
              "      <td>පාළුව දෙවනත් කරලා\\r\\nනාඩන් උලලේනෝ\\r\\nකාටත් නපු...</td>\n",
              "      <td>Sad</td>\n",
              "    </tr>\n",
              "    <tr>\n",
              "      <th>160</th>\n",
              "      <td>S 51</td>\n",
              "      <td>Pawena Nil Walawe</td>\n",
              "      <td>W. D. Amaradeva</td>\n",
              "      <td>පාවෙනා නිල් වලාවේ\\r\\nනදී තලාවේ\\r\\nරිදී ජලාසේ\\r...</td>\n",
              "      <td>Sad</td>\n",
              "    </tr>\n",
              "    <tr>\n",
              "      <th>161</th>\n",
              "      <td>S 52</td>\n",
              "      <td>Andara Yaye</td>\n",
              "      <td>Karunarathna Divulgane</td>\n",
              "      <td>අන්දර යායේ වැව්තාවුල්ලේ\\r\\nසක්මන් කරනා අප්පච්ච...</td>\n",
              "      <td>Sad</td>\n",
              "    </tr>\n",
              "  </tbody>\n",
              "</table>\n",
              "<p>162 rows × 5 columns</p>\n",
              "</div>\n",
              "    <div class=\"colab-df-buttons\">\n",
              "\n",
              "  <div class=\"colab-df-container\">\n",
              "    <button class=\"colab-df-convert\" onclick=\"convertToInteractive('df-81f16957-bc41-4b91-9b2c-e15857868f8a')\"\n",
              "            title=\"Convert this dataframe to an interactive table.\"\n",
              "            style=\"display:none;\">\n",
              "\n",
              "  <svg xmlns=\"http://www.w3.org/2000/svg\" height=\"24px\" viewBox=\"0 -960 960 960\">\n",
              "    <path d=\"M120-120v-720h720v720H120Zm60-500h600v-160H180v160Zm220 220h160v-160H400v160Zm0 220h160v-160H400v160ZM180-400h160v-160H180v160Zm440 0h160v-160H620v160ZM180-180h160v-160H180v160Zm440 0h160v-160H620v160Z\"/>\n",
              "  </svg>\n",
              "    </button>\n",
              "\n",
              "  <style>\n",
              "    .colab-df-container {\n",
              "      display:flex;\n",
              "      gap: 12px;\n",
              "    }\n",
              "\n",
              "    .colab-df-convert {\n",
              "      background-color: #E8F0FE;\n",
              "      border: none;\n",
              "      border-radius: 50%;\n",
              "      cursor: pointer;\n",
              "      display: none;\n",
              "      fill: #1967D2;\n",
              "      height: 32px;\n",
              "      padding: 0 0 0 0;\n",
              "      width: 32px;\n",
              "    }\n",
              "\n",
              "    .colab-df-convert:hover {\n",
              "      background-color: #E2EBFA;\n",
              "      box-shadow: 0px 1px 2px rgba(60, 64, 67, 0.3), 0px 1px 3px 1px rgba(60, 64, 67, 0.15);\n",
              "      fill: #174EA6;\n",
              "    }\n",
              "\n",
              "    .colab-df-buttons div {\n",
              "      margin-bottom: 4px;\n",
              "    }\n",
              "\n",
              "    [theme=dark] .colab-df-convert {\n",
              "      background-color: #3B4455;\n",
              "      fill: #D2E3FC;\n",
              "    }\n",
              "\n",
              "    [theme=dark] .colab-df-convert:hover {\n",
              "      background-color: #434B5C;\n",
              "      box-shadow: 0px 1px 3px 1px rgba(0, 0, 0, 0.15);\n",
              "      filter: drop-shadow(0px 1px 2px rgba(0, 0, 0, 0.3));\n",
              "      fill: #FFFFFF;\n",
              "    }\n",
              "  </style>\n",
              "\n",
              "    <script>\n",
              "      const buttonEl =\n",
              "        document.querySelector('#df-81f16957-bc41-4b91-9b2c-e15857868f8a button.colab-df-convert');\n",
              "      buttonEl.style.display =\n",
              "        google.colab.kernel.accessAllowed ? 'block' : 'none';\n",
              "\n",
              "      async function convertToInteractive(key) {\n",
              "        const element = document.querySelector('#df-81f16957-bc41-4b91-9b2c-e15857868f8a');\n",
              "        const dataTable =\n",
              "          await google.colab.kernel.invokeFunction('convertToInteractive',\n",
              "                                                    [key], {});\n",
              "        if (!dataTable) return;\n",
              "\n",
              "        const docLinkHtml = 'Like what you see? Visit the ' +\n",
              "          '<a target=\"_blank\" href=https://colab.research.google.com/notebooks/data_table.ipynb>data table notebook</a>'\n",
              "          + ' to learn more about interactive tables.';\n",
              "        element.innerHTML = '';\n",
              "        dataTable['output_type'] = 'display_data';\n",
              "        await google.colab.output.renderOutput(dataTable, element);\n",
              "        const docLink = document.createElement('div');\n",
              "        docLink.innerHTML = docLinkHtml;\n",
              "        element.appendChild(docLink);\n",
              "      }\n",
              "    </script>\n",
              "  </div>\n",
              "\n",
              "\n",
              "<div id=\"df-4679ef40-c9e1-4358-8c73-262fbbc175b5\">\n",
              "  <button class=\"colab-df-quickchart\" onclick=\"quickchart('df-4679ef40-c9e1-4358-8c73-262fbbc175b5')\"\n",
              "            title=\"Suggest charts\"\n",
              "            style=\"display:none;\">\n",
              "\n",
              "<svg xmlns=\"http://www.w3.org/2000/svg\" height=\"24px\"viewBox=\"0 0 24 24\"\n",
              "     width=\"24px\">\n",
              "    <g>\n",
              "        <path d=\"M19 3H5c-1.1 0-2 .9-2 2v14c0 1.1.9 2 2 2h14c1.1 0 2-.9 2-2V5c0-1.1-.9-2-2-2zM9 17H7v-7h2v7zm4 0h-2V7h2v10zm4 0h-2v-4h2v4z\"/>\n",
              "    </g>\n",
              "</svg>\n",
              "  </button>\n",
              "\n",
              "<style>\n",
              "  .colab-df-quickchart {\n",
              "      --bg-color: #E8F0FE;\n",
              "      --fill-color: #1967D2;\n",
              "      --hover-bg-color: #E2EBFA;\n",
              "      --hover-fill-color: #174EA6;\n",
              "      --disabled-fill-color: #AAA;\n",
              "      --disabled-bg-color: #DDD;\n",
              "  }\n",
              "\n",
              "  [theme=dark] .colab-df-quickchart {\n",
              "      --bg-color: #3B4455;\n",
              "      --fill-color: #D2E3FC;\n",
              "      --hover-bg-color: #434B5C;\n",
              "      --hover-fill-color: #FFFFFF;\n",
              "      --disabled-bg-color: #3B4455;\n",
              "      --disabled-fill-color: #666;\n",
              "  }\n",
              "\n",
              "  .colab-df-quickchart {\n",
              "    background-color: var(--bg-color);\n",
              "    border: none;\n",
              "    border-radius: 50%;\n",
              "    cursor: pointer;\n",
              "    display: none;\n",
              "    fill: var(--fill-color);\n",
              "    height: 32px;\n",
              "    padding: 0;\n",
              "    width: 32px;\n",
              "  }\n",
              "\n",
              "  .colab-df-quickchart:hover {\n",
              "    background-color: var(--hover-bg-color);\n",
              "    box-shadow: 0 1px 2px rgba(60, 64, 67, 0.3), 0 1px 3px 1px rgba(60, 64, 67, 0.15);\n",
              "    fill: var(--button-hover-fill-color);\n",
              "  }\n",
              "\n",
              "  .colab-df-quickchart-complete:disabled,\n",
              "  .colab-df-quickchart-complete:disabled:hover {\n",
              "    background-color: var(--disabled-bg-color);\n",
              "    fill: var(--disabled-fill-color);\n",
              "    box-shadow: none;\n",
              "  }\n",
              "\n",
              "  .colab-df-spinner {\n",
              "    border: 2px solid var(--fill-color);\n",
              "    border-color: transparent;\n",
              "    border-bottom-color: var(--fill-color);\n",
              "    animation:\n",
              "      spin 1s steps(1) infinite;\n",
              "  }\n",
              "\n",
              "  @keyframes spin {\n",
              "    0% {\n",
              "      border-color: transparent;\n",
              "      border-bottom-color: var(--fill-color);\n",
              "      border-left-color: var(--fill-color);\n",
              "    }\n",
              "    20% {\n",
              "      border-color: transparent;\n",
              "      border-left-color: var(--fill-color);\n",
              "      border-top-color: var(--fill-color);\n",
              "    }\n",
              "    30% {\n",
              "      border-color: transparent;\n",
              "      border-left-color: var(--fill-color);\n",
              "      border-top-color: var(--fill-color);\n",
              "      border-right-color: var(--fill-color);\n",
              "    }\n",
              "    40% {\n",
              "      border-color: transparent;\n",
              "      border-right-color: var(--fill-color);\n",
              "      border-top-color: var(--fill-color);\n",
              "    }\n",
              "    60% {\n",
              "      border-color: transparent;\n",
              "      border-right-color: var(--fill-color);\n",
              "    }\n",
              "    80% {\n",
              "      border-color: transparent;\n",
              "      border-right-color: var(--fill-color);\n",
              "      border-bottom-color: var(--fill-color);\n",
              "    }\n",
              "    90% {\n",
              "      border-color: transparent;\n",
              "      border-bottom-color: var(--fill-color);\n",
              "    }\n",
              "  }\n",
              "</style>\n",
              "\n",
              "  <script>\n",
              "    async function quickchart(key) {\n",
              "      const quickchartButtonEl =\n",
              "        document.querySelector('#' + key + ' button');\n",
              "      quickchartButtonEl.disabled = true;  // To prevent multiple clicks.\n",
              "      quickchartButtonEl.classList.add('colab-df-spinner');\n",
              "      try {\n",
              "        const charts = await google.colab.kernel.invokeFunction(\n",
              "            'suggestCharts', [key], {});\n",
              "      } catch (error) {\n",
              "        console.error('Error during call to suggestCharts:', error);\n",
              "      }\n",
              "      quickchartButtonEl.classList.remove('colab-df-spinner');\n",
              "      quickchartButtonEl.classList.add('colab-df-quickchart-complete');\n",
              "    }\n",
              "    (() => {\n",
              "      let quickchartButtonEl =\n",
              "        document.querySelector('#df-4679ef40-c9e1-4358-8c73-262fbbc175b5 button');\n",
              "      quickchartButtonEl.style.display =\n",
              "        google.colab.kernel.accessAllowed ? 'block' : 'none';\n",
              "    })();\n",
              "  </script>\n",
              "</div>\n",
              "    </div>\n",
              "  </div>\n"
            ]
          },
          "metadata": {},
          "execution_count": 73
        }
      ],
      "source": [
        "data_df = pd.read_csv(r\"/content/drive/My Drive/data/dataset-metadata-with-lyrics.csv\")\n",
        "data_df = pd.DataFrame(data_df)\n",
        "data_df"
      ],
      "id": "a30f85cc"
    },
    {
      "cell_type": "code",
      "execution_count": 74,
      "metadata": {
        "id": "b1a792a1"
      },
      "outputs": [],
      "source": [
        "def lineBreakReplace(text):\n",
        "    return text.replace(\"\\r\\n\", \" \")"
      ],
      "id": "b1a792a1"
    },
    {
      "cell_type": "code",
      "execution_count": 75,
      "metadata": {
        "id": "19aaf9de"
      },
      "outputs": [],
      "source": [
        "data_df['Lyrics'] =data_df.apply(lambda x: lineBreakReplace(x.Lyrics), axis=1)"
      ],
      "id": "19aaf9de"
    },
    {
      "cell_type": "code",
      "execution_count": 76,
      "metadata": {
        "id": "85c468d6"
      },
      "outputs": [],
      "source": [
        "def removeEscapSequences(text):\n",
        "    return \"\".join(ch for ch in text if unicodedata.category(ch)[0]!=\"C\")"
      ],
      "id": "85c468d6"
    },
    {
      "cell_type": "code",
      "execution_count": 77,
      "metadata": {
        "id": "4e767818"
      },
      "outputs": [],
      "source": [
        "data_df['Lyrics'] =data_df.apply(lambda x: removeEscapSequences(x.Lyrics), axis=1)"
      ],
      "id": "4e767818"
    },
    {
      "cell_type": "code",
      "execution_count": 78,
      "metadata": {
        "id": "ec360e61"
      },
      "outputs": [],
      "source": [
        "\n",
        "def remove_digits(text):\n",
        "    return ''.join([i for i in text if not i.isdigit()])"
      ],
      "id": "ec360e61"
    },
    {
      "cell_type": "code",
      "execution_count": 79,
      "metadata": {
        "id": "0ff52324"
      },
      "outputs": [],
      "source": [
        "data_df['Lyrics'] =data_df.apply(lambda x: removeEscapSequences(x.Lyrics), axis=1)"
      ],
      "id": "0ff52324"
    },
    {
      "cell_type": "code",
      "execution_count": 80,
      "metadata": {
        "id": "7c8b90f3"
      },
      "outputs": [],
      "source": [
        "def removeHtmlTags(text):\n",
        "    p = re.compile(r'<.*?>')\n",
        "    return p.sub('', text)"
      ],
      "id": "7c8b90f3"
    },
    {
      "cell_type": "code",
      "execution_count": 81,
      "metadata": {
        "id": "a19ab1f7"
      },
      "outputs": [],
      "source": [
        "\n",
        "data_df['Lyrics'] = data_df.apply(lambda x: removeHtmlTags(x.Lyrics), axis=1)"
      ],
      "id": "a19ab1f7"
    },
    {
      "cell_type": "code",
      "execution_count": 82,
      "metadata": {
        "colab": {
          "base_uri": "https://localhost:8080/",
          "height": 293
        },
        "id": "6f7710d2",
        "outputId": "7d6f3e6c-ba70-4dc8-e396-f1ba43774abb"
      },
      "outputs": [
        {
          "output_type": "execute_result",
          "data": {
            "text/plain": [
              "  song_id                     song_name                           Artist  \\\n",
              "0    C 01      Kaulu Piyan Path Wahanna                    Kasun Kalhara   \n",
              "1    C 02    Ruk Aththana Mala Mudune\\n                     Nanda Malini   \n",
              "2    C 03               Samanala Mudune  H R Jothipala and Latha Walpola   \n",
              "3    C 04               Niwan Dutu Himi                Victor Rathnayaka   \n",
              "4    C 05  Suwanda Danee Danee Danenawa            Rookantha Gunathilake   \n",
              "\n",
              "                                              Lyrics  Type  \n",
              "0  කවුළු පියන්පත් වහන්න සඳළුතලාවේ ඔබ දුරයි නෙතට ම...  Calm  \n",
              "1  රුක් අත්තන මල මුදුනේ  බඹරු නටන හැන්දෑවේ… සැදෑ ...  Calm  \n",
              "2   සමනළ මුදුනේ සිරිපද සිඹ සිඹ උදා ඉරක් පායයි සැන...  Calm  \n",
              "3  නිවන් දුටු හිමි රැවන් පිළිරැව පමණි මට අද ශේෂ ව...  Calm  \n",
              "4  සුවඳ දැනී දැනී දැනෙනවා... උදා හිරු එළියේ... අළ...  Calm  "
            ],
            "text/html": [
              "\n",
              "  <div id=\"df-af222d4c-9c72-4556-865c-a2278a156eb2\" class=\"colab-df-container\">\n",
              "    <div>\n",
              "<style scoped>\n",
              "    .dataframe tbody tr th:only-of-type {\n",
              "        vertical-align: middle;\n",
              "    }\n",
              "\n",
              "    .dataframe tbody tr th {\n",
              "        vertical-align: top;\n",
              "    }\n",
              "\n",
              "    .dataframe thead th {\n",
              "        text-align: right;\n",
              "    }\n",
              "</style>\n",
              "<table border=\"1\" class=\"dataframe\">\n",
              "  <thead>\n",
              "    <tr style=\"text-align: right;\">\n",
              "      <th></th>\n",
              "      <th>song_id</th>\n",
              "      <th>song_name</th>\n",
              "      <th>Artist</th>\n",
              "      <th>Lyrics</th>\n",
              "      <th>Type</th>\n",
              "    </tr>\n",
              "  </thead>\n",
              "  <tbody>\n",
              "    <tr>\n",
              "      <th>0</th>\n",
              "      <td>C 01</td>\n",
              "      <td>Kaulu Piyan Path Wahanna</td>\n",
              "      <td>Kasun Kalhara</td>\n",
              "      <td>කවුළු පියන්පත් වහන්න සඳළුතලාවේ ඔබ දුරයි නෙතට ම...</td>\n",
              "      <td>Calm</td>\n",
              "    </tr>\n",
              "    <tr>\n",
              "      <th>1</th>\n",
              "      <td>C 02</td>\n",
              "      <td>Ruk Aththana Mala Mudune\\n</td>\n",
              "      <td>Nanda Malini</td>\n",
              "      <td>රුක් අත්තන මල මුදුනේ  බඹරු නටන හැන්දෑවේ… සැදෑ ...</td>\n",
              "      <td>Calm</td>\n",
              "    </tr>\n",
              "    <tr>\n",
              "      <th>2</th>\n",
              "      <td>C 03</td>\n",
              "      <td>Samanala Mudune</td>\n",
              "      <td>H R Jothipala and Latha Walpola</td>\n",
              "      <td>සමනළ මුදුනේ සිරිපද සිඹ සිඹ උදා ඉරක් පායයි සැන...</td>\n",
              "      <td>Calm</td>\n",
              "    </tr>\n",
              "    <tr>\n",
              "      <th>3</th>\n",
              "      <td>C 04</td>\n",
              "      <td>Niwan Dutu Himi</td>\n",
              "      <td>Victor Rathnayaka</td>\n",
              "      <td>නිවන් දුටු හිමි රැවන් පිළිරැව පමණි මට අද ශේෂ ව...</td>\n",
              "      <td>Calm</td>\n",
              "    </tr>\n",
              "    <tr>\n",
              "      <th>4</th>\n",
              "      <td>C 05</td>\n",
              "      <td>Suwanda Danee Danee Danenawa</td>\n",
              "      <td>Rookantha Gunathilake</td>\n",
              "      <td>සුවඳ දැනී දැනී දැනෙනවා... උදා හිරු එළියේ... අළ...</td>\n",
              "      <td>Calm</td>\n",
              "    </tr>\n",
              "  </tbody>\n",
              "</table>\n",
              "</div>\n",
              "    <div class=\"colab-df-buttons\">\n",
              "\n",
              "  <div class=\"colab-df-container\">\n",
              "    <button class=\"colab-df-convert\" onclick=\"convertToInteractive('df-af222d4c-9c72-4556-865c-a2278a156eb2')\"\n",
              "            title=\"Convert this dataframe to an interactive table.\"\n",
              "            style=\"display:none;\">\n",
              "\n",
              "  <svg xmlns=\"http://www.w3.org/2000/svg\" height=\"24px\" viewBox=\"0 -960 960 960\">\n",
              "    <path d=\"M120-120v-720h720v720H120Zm60-500h600v-160H180v160Zm220 220h160v-160H400v160Zm0 220h160v-160H400v160ZM180-400h160v-160H180v160Zm440 0h160v-160H620v160ZM180-180h160v-160H180v160Zm440 0h160v-160H620v160Z\"/>\n",
              "  </svg>\n",
              "    </button>\n",
              "\n",
              "  <style>\n",
              "    .colab-df-container {\n",
              "      display:flex;\n",
              "      gap: 12px;\n",
              "    }\n",
              "\n",
              "    .colab-df-convert {\n",
              "      background-color: #E8F0FE;\n",
              "      border: none;\n",
              "      border-radius: 50%;\n",
              "      cursor: pointer;\n",
              "      display: none;\n",
              "      fill: #1967D2;\n",
              "      height: 32px;\n",
              "      padding: 0 0 0 0;\n",
              "      width: 32px;\n",
              "    }\n",
              "\n",
              "    .colab-df-convert:hover {\n",
              "      background-color: #E2EBFA;\n",
              "      box-shadow: 0px 1px 2px rgba(60, 64, 67, 0.3), 0px 1px 3px 1px rgba(60, 64, 67, 0.15);\n",
              "      fill: #174EA6;\n",
              "    }\n",
              "\n",
              "    .colab-df-buttons div {\n",
              "      margin-bottom: 4px;\n",
              "    }\n",
              "\n",
              "    [theme=dark] .colab-df-convert {\n",
              "      background-color: #3B4455;\n",
              "      fill: #D2E3FC;\n",
              "    }\n",
              "\n",
              "    [theme=dark] .colab-df-convert:hover {\n",
              "      background-color: #434B5C;\n",
              "      box-shadow: 0px 1px 3px 1px rgba(0, 0, 0, 0.15);\n",
              "      filter: drop-shadow(0px 1px 2px rgba(0, 0, 0, 0.3));\n",
              "      fill: #FFFFFF;\n",
              "    }\n",
              "  </style>\n",
              "\n",
              "    <script>\n",
              "      const buttonEl =\n",
              "        document.querySelector('#df-af222d4c-9c72-4556-865c-a2278a156eb2 button.colab-df-convert');\n",
              "      buttonEl.style.display =\n",
              "        google.colab.kernel.accessAllowed ? 'block' : 'none';\n",
              "\n",
              "      async function convertToInteractive(key) {\n",
              "        const element = document.querySelector('#df-af222d4c-9c72-4556-865c-a2278a156eb2');\n",
              "        const dataTable =\n",
              "          await google.colab.kernel.invokeFunction('convertToInteractive',\n",
              "                                                    [key], {});\n",
              "        if (!dataTable) return;\n",
              "\n",
              "        const docLinkHtml = 'Like what you see? Visit the ' +\n",
              "          '<a target=\"_blank\" href=https://colab.research.google.com/notebooks/data_table.ipynb>data table notebook</a>'\n",
              "          + ' to learn more about interactive tables.';\n",
              "        element.innerHTML = '';\n",
              "        dataTable['output_type'] = 'display_data';\n",
              "        await google.colab.output.renderOutput(dataTable, element);\n",
              "        const docLink = document.createElement('div');\n",
              "        docLink.innerHTML = docLinkHtml;\n",
              "        element.appendChild(docLink);\n",
              "      }\n",
              "    </script>\n",
              "  </div>\n",
              "\n",
              "\n",
              "<div id=\"df-bf18ba93-89b7-44ae-b985-b5a36397a13d\">\n",
              "  <button class=\"colab-df-quickchart\" onclick=\"quickchart('df-bf18ba93-89b7-44ae-b985-b5a36397a13d')\"\n",
              "            title=\"Suggest charts\"\n",
              "            style=\"display:none;\">\n",
              "\n",
              "<svg xmlns=\"http://www.w3.org/2000/svg\" height=\"24px\"viewBox=\"0 0 24 24\"\n",
              "     width=\"24px\">\n",
              "    <g>\n",
              "        <path d=\"M19 3H5c-1.1 0-2 .9-2 2v14c0 1.1.9 2 2 2h14c1.1 0 2-.9 2-2V5c0-1.1-.9-2-2-2zM9 17H7v-7h2v7zm4 0h-2V7h2v10zm4 0h-2v-4h2v4z\"/>\n",
              "    </g>\n",
              "</svg>\n",
              "  </button>\n",
              "\n",
              "<style>\n",
              "  .colab-df-quickchart {\n",
              "      --bg-color: #E8F0FE;\n",
              "      --fill-color: #1967D2;\n",
              "      --hover-bg-color: #E2EBFA;\n",
              "      --hover-fill-color: #174EA6;\n",
              "      --disabled-fill-color: #AAA;\n",
              "      --disabled-bg-color: #DDD;\n",
              "  }\n",
              "\n",
              "  [theme=dark] .colab-df-quickchart {\n",
              "      --bg-color: #3B4455;\n",
              "      --fill-color: #D2E3FC;\n",
              "      --hover-bg-color: #434B5C;\n",
              "      --hover-fill-color: #FFFFFF;\n",
              "      --disabled-bg-color: #3B4455;\n",
              "      --disabled-fill-color: #666;\n",
              "  }\n",
              "\n",
              "  .colab-df-quickchart {\n",
              "    background-color: var(--bg-color);\n",
              "    border: none;\n",
              "    border-radius: 50%;\n",
              "    cursor: pointer;\n",
              "    display: none;\n",
              "    fill: var(--fill-color);\n",
              "    height: 32px;\n",
              "    padding: 0;\n",
              "    width: 32px;\n",
              "  }\n",
              "\n",
              "  .colab-df-quickchart:hover {\n",
              "    background-color: var(--hover-bg-color);\n",
              "    box-shadow: 0 1px 2px rgba(60, 64, 67, 0.3), 0 1px 3px 1px rgba(60, 64, 67, 0.15);\n",
              "    fill: var(--button-hover-fill-color);\n",
              "  }\n",
              "\n",
              "  .colab-df-quickchart-complete:disabled,\n",
              "  .colab-df-quickchart-complete:disabled:hover {\n",
              "    background-color: var(--disabled-bg-color);\n",
              "    fill: var(--disabled-fill-color);\n",
              "    box-shadow: none;\n",
              "  }\n",
              "\n",
              "  .colab-df-spinner {\n",
              "    border: 2px solid var(--fill-color);\n",
              "    border-color: transparent;\n",
              "    border-bottom-color: var(--fill-color);\n",
              "    animation:\n",
              "      spin 1s steps(1) infinite;\n",
              "  }\n",
              "\n",
              "  @keyframes spin {\n",
              "    0% {\n",
              "      border-color: transparent;\n",
              "      border-bottom-color: var(--fill-color);\n",
              "      border-left-color: var(--fill-color);\n",
              "    }\n",
              "    20% {\n",
              "      border-color: transparent;\n",
              "      border-left-color: var(--fill-color);\n",
              "      border-top-color: var(--fill-color);\n",
              "    }\n",
              "    30% {\n",
              "      border-color: transparent;\n",
              "      border-left-color: var(--fill-color);\n",
              "      border-top-color: var(--fill-color);\n",
              "      border-right-color: var(--fill-color);\n",
              "    }\n",
              "    40% {\n",
              "      border-color: transparent;\n",
              "      border-right-color: var(--fill-color);\n",
              "      border-top-color: var(--fill-color);\n",
              "    }\n",
              "    60% {\n",
              "      border-color: transparent;\n",
              "      border-right-color: var(--fill-color);\n",
              "    }\n",
              "    80% {\n",
              "      border-color: transparent;\n",
              "      border-right-color: var(--fill-color);\n",
              "      border-bottom-color: var(--fill-color);\n",
              "    }\n",
              "    90% {\n",
              "      border-color: transparent;\n",
              "      border-bottom-color: var(--fill-color);\n",
              "    }\n",
              "  }\n",
              "</style>\n",
              "\n",
              "  <script>\n",
              "    async function quickchart(key) {\n",
              "      const quickchartButtonEl =\n",
              "        document.querySelector('#' + key + ' button');\n",
              "      quickchartButtonEl.disabled = true;  // To prevent multiple clicks.\n",
              "      quickchartButtonEl.classList.add('colab-df-spinner');\n",
              "      try {\n",
              "        const charts = await google.colab.kernel.invokeFunction(\n",
              "            'suggestCharts', [key], {});\n",
              "      } catch (error) {\n",
              "        console.error('Error during call to suggestCharts:', error);\n",
              "      }\n",
              "      quickchartButtonEl.classList.remove('colab-df-spinner');\n",
              "      quickchartButtonEl.classList.add('colab-df-quickchart-complete');\n",
              "    }\n",
              "    (() => {\n",
              "      let quickchartButtonEl =\n",
              "        document.querySelector('#df-bf18ba93-89b7-44ae-b985-b5a36397a13d button');\n",
              "      quickchartButtonEl.style.display =\n",
              "        google.colab.kernel.accessAllowed ? 'block' : 'none';\n",
              "    })();\n",
              "  </script>\n",
              "</div>\n",
              "    </div>\n",
              "  </div>\n"
            ]
          },
          "metadata": {},
          "execution_count": 82
        }
      ],
      "source": [
        "data_df.head()"
      ],
      "id": "6f7710d2"
    },
    {
      "cell_type": "code",
      "execution_count": 83,
      "metadata": {
        "id": "486354e0"
      },
      "outputs": [],
      "source": [
        "def removeSpecialCharacters(sentence,keep_apostrophes=True):\n",
        "    sentence = sentence.strip()\n",
        "    if keep_apostrophes:\n",
        "        PATTERN = r'[?|$|&|*|%|@|(|)|~]'\n",
        "        filtered_sentence = re.sub(PATTERN, r'', sentence)\n",
        "        return filtered_sentence\n",
        "    return sentence"
      ],
      "id": "486354e0"
    },
    {
      "cell_type": "code",
      "execution_count": 84,
      "metadata": {
        "id": "56ae41d0"
      },
      "outputs": [],
      "source": [
        "def replace_full_stops(sentence):\n",
        "    return sentence.replace(\".\",\" \")"
      ],
      "id": "56ae41d0"
    },
    {
      "cell_type": "code",
      "execution_count": 85,
      "metadata": {
        "id": "945365a5"
      },
      "outputs": [],
      "source": [
        "data_df['Lyrics'] = data_df.apply(lambda x: removeSpecialCharacters(x.Lyrics), axis=1)\n",
        "data_df['Lyrics'] = data_df.apply(lambda x: replace_full_stops(x.Lyrics), axis=1)"
      ],
      "id": "945365a5"
    },
    {
      "cell_type": "code",
      "execution_count": 86,
      "metadata": {
        "id": "40490828"
      },
      "outputs": [],
      "source": [
        "def remove_english_letters(sentence):\n",
        "    non_english_sentence = re.sub(r'[a-zA-Z]', '', sentence)\n",
        "    return non_english_sentence"
      ],
      "id": "40490828"
    },
    {
      "cell_type": "code",
      "execution_count": 87,
      "metadata": {
        "id": "59e5fe52"
      },
      "outputs": [],
      "source": [
        "data_df['Lyrics']  = data_df['Lyrics'] .apply(lambda x: remove_english_letters(x))"
      ],
      "id": "59e5fe52"
    },
    {
      "cell_type": "code",
      "execution_count": 88,
      "metadata": {
        "id": "40b69c33"
      },
      "outputs": [],
      "source": [
        "lines = list(open('/content/drive/My Drive/data/stop-words-sinhala.txt',encoding=\"utf8\"))\n",
        "sinhala_stop_words = [re.sub(\"\\n\",\"\",x) for x in lines]"
      ],
      "id": "40b69c33"
    },
    {
      "cell_type": "code",
      "execution_count": 89,
      "metadata": {
        "id": "2651903c"
      },
      "outputs": [],
      "source": [
        "def tokenize_text(text):\n",
        "    tokens = nltk.word_tokenize(text)\n",
        "    tokens = [token.strip() for token in tokens]\n",
        "    return tokens"
      ],
      "id": "2651903c"
    },
    {
      "cell_type": "code",
      "execution_count": 90,
      "metadata": {
        "colab": {
          "base_uri": "https://localhost:8080/"
        },
        "id": "rZuA7ipW37yO",
        "outputId": "106b50da-b730-45b2-9bf3-dcf4ab0b7afa"
      },
      "outputs": [
        {
          "output_type": "stream",
          "name": "stderr",
          "text": [
            "[nltk_data] Downloading package punkt to /root/nltk_data...\n",
            "[nltk_data]   Package punkt is already up-to-date!\n"
          ]
        },
        {
          "output_type": "execute_result",
          "data": {
            "text/plain": [
              "True"
            ]
          },
          "metadata": {},
          "execution_count": 90
        }
      ],
      "source": [
        "import nltk\n",
        "nltk.download('punkt')"
      ],
      "id": "rZuA7ipW37yO"
    },
    {
      "cell_type": "code",
      "execution_count": 91,
      "metadata": {
        "id": "1cf1abf9"
      },
      "outputs": [],
      "source": [
        "data_df['token_list']  = data_df['Lyrics'] .apply(lambda x: tokenize_text(x))"
      ],
      "id": "1cf1abf9"
    },
    {
      "cell_type": "code",
      "execution_count": 92,
      "metadata": {
        "id": "5b38a21b"
      },
      "outputs": [],
      "source": [
        "def remove_sinhala_stop_words(tokens):\n",
        "    filtered_tokens = [token for token in tokens if token not in sinhala_stop_words]\n",
        "    return filtered_tokens"
      ],
      "id": "5b38a21b"
    },
    {
      "cell_type": "code",
      "execution_count": 93,
      "metadata": {
        "id": "7a6d0f65"
      },
      "outputs": [],
      "source": [
        "\n",
        "#data_df['token_list_after_sw'] = data_df.apply(lambda x: remove_sinhala_stop_words(x.token_list), axis=1)"
      ],
      "id": "7a6d0f65"
    },
    {
      "cell_type": "code",
      "execution_count": 94,
      "metadata": {
        "id": "b3aee7d1"
      },
      "outputs": [],
      "source": [
        "def remove_two_letter_words(tokenized_words):\n",
        "    # Use list comprehension to filter out words with length 2\n",
        "    filtered_words = [word for word in tokenized_words if len(word) > 3]\n",
        "    return filtered_words"
      ],
      "id": "b3aee7d1"
    },
    {
      "cell_type": "code",
      "execution_count": 95,
      "metadata": {
        "id": "fcb0a8df"
      },
      "outputs": [],
      "source": [
        "data_df['token_list_after_sw'] = data_df.apply(lambda x: remove_two_letter_words(x.token_list), axis=1)"
      ],
      "id": "fcb0a8df"
    },
    {
      "cell_type": "code",
      "execution_count": 96,
      "metadata": {
        "id": "8a43079e"
      },
      "outputs": [],
      "source": [
        "from nltk.tokenize.treebank import TreebankWordDetokenizer\n",
        "data_df['pre_processed_text'] = data_df.apply(lambda x: TreebankWordDetokenizer().detokenize(x.token_list_after_sw), axis=1)"
      ],
      "id": "8a43079e"
    },
    {
      "cell_type": "code",
      "execution_count": 97,
      "metadata": {
        "id": "dcR3zMPIHgfY"
      },
      "outputs": [],
      "source": [
        "list_of_words = ' '.join(data_df['pre_processed_text']).split()"
      ],
      "id": "dcR3zMPIHgfY"
    },
    {
      "cell_type": "code",
      "execution_count": 98,
      "metadata": {
        "id": "9cbe3d6a"
      },
      "outputs": [],
      "source": [
        "from collections import Counter\n",
        "import numpy as np\n",
        "most_common_words = [word for word, count in Counter(list_of_words).items() if count in np.arange(50,100)]\n",
        "unique_words = [word for word, count in Counter(list_of_words).items() if count in [1,2,3]]\n",
        "all_words_to_remove = most_common_words+unique_words;\n",
        "def remove_most_common_unique_words(tokens):\n",
        "    filtered_tokens = [token for token in tokens if token not in all_words_to_remove]\n",
        "    return filtered_tokens"
      ],
      "id": "9cbe3d6a"
    },
    {
      "cell_type": "code",
      "execution_count": 99,
      "metadata": {
        "id": "b7b0f7d8"
      },
      "outputs": [],
      "source": [
        "data_df['token_list_after_common_words'] = data_df.apply(lambda x: remove_most_common_unique_words(x.token_list_after_sw), axis=1)"
      ],
      "id": "b7b0f7d8"
    },
    {
      "cell_type": "code",
      "execution_count": 100,
      "metadata": {
        "id": "a9cdc18a"
      },
      "outputs": [],
      "source": [
        "data_df['pre_processed_text'] = data_df.apply(lambda x: TreebankWordDetokenizer().detokenize(x.token_list_after_common_words), axis=1)"
      ],
      "id": "a9cdc18a"
    },
    {
      "cell_type": "code",
      "execution_count": 101,
      "metadata": {
        "id": "8aba84e1"
      },
      "outputs": [],
      "source": [
        "# list_of_words = ' '.join(data_df['pre_processed_text']).split()\n",
        "# Counter(list_of_words)"
      ],
      "id": "8aba84e1"
    },
    {
      "cell_type": "code",
      "execution_count": 102,
      "metadata": {
        "id": "a02a54cf"
      },
      "outputs": [],
      "source": [
        "data_df['word_count'] = data_df['pre_processed_text'].str.split().str.len()\n",
        "#data_df.head(40)"
      ],
      "id": "a02a54cf"
    },
    {
      "cell_type": "code",
      "execution_count": 103,
      "metadata": {
        "id": "586c442f"
      },
      "outputs": [],
      "source": [
        "def total_unique_words(words):\n",
        "    return nltk.FreqDist(words)\n",
        "\n",
        "print(\"Total number of unique words\",total_unique_words(list_of_words))"
      ],
      "id": "586c442f"
    },
    {
      "cell_type": "code",
      "execution_count": 104,
      "metadata": {
        "id": "9e6f6592"
      },
      "outputs": [],
      "source": [
        "def total_words(words):\n",
        "    return(len(words))\n",
        "print(\"Total number of words\",total_words(list_of_words))"
      ],
      "id": "9e6f6592"
    },
    {
      "cell_type": "code",
      "execution_count": 105,
      "metadata": {
        "id": "e553b7e7"
      },
      "outputs": [],
      "source": [
        "from sklearn.model_selection import train_test_split\n",
        "from sklearn import preprocessing\n",
        "label_encoder = preprocessing.LabelEncoder()"
      ],
      "id": "e553b7e7"
    },
    {
      "cell_type": "code",
      "execution_count": 106,
      "metadata": {
        "id": "10b0f012"
      },
      "outputs": [],
      "source": [
        "#X= data_df['pre_processed_text']\n",
        "data_df[\"final_data\"] = \"__label__\"+data_df['Type'] + \" \" + data_df[\"pre_processed_text\"]\n",
        "#data_df\n",
        "#y=label_encoder.fit_transform(data_df['Type'])"
      ],
      "id": "10b0f012"
    },
    {
      "cell_type": "code",
      "execution_count": 107,
      "metadata": {
        "id": "Gnu2fX3HMNkr"
      },
      "outputs": [],
      "source": [
        "! pip install -U accelerate\n",
        "! pip install -U transformers"
      ],
      "id": "Gnu2fX3HMNkr"
    },
    {
      "cell_type": "code",
      "execution_count": 108,
      "metadata": {
        "id": "K506hVpNuLba"
      },
      "outputs": [],
      "source": [
        "import pandas as pd\n",
        "import numpy as np\n",
        "from sklearn.model_selection import train_test_split\n",
        "from transformers import XLMRobertaTokenizer, XLMRobertaForSequenceClassification, AdamW, get_linear_schedule_with_warmup\n",
        "from torch.utils.data import DataLoader, TensorDataset\n",
        "import torch\n",
        "from tqdm import tqdm\n",
        "from transformers import AutoTokenizer, AutoModelForMaskedLM"
      ],
      "id": "K506hVpNuLba"
    },
    {
      "cell_type": "code",
      "source": [
        "!pip install datasets"
      ],
      "metadata": {
        "id": "ncepfa3dX3Ik"
      },
      "id": "ncepfa3dX3Ik",
      "execution_count": 109,
      "outputs": []
    },
    {
      "cell_type": "code",
      "source": [
        "from sklearn.preprocessing import LabelEncoder\n",
        "labelencoder = LabelEncoder()"
      ],
      "metadata": {
        "id": "5NT5zdR_0d6n"
      },
      "id": "5NT5zdR_0d6n",
      "execution_count": 110,
      "outputs": []
    },
    {
      "cell_type": "code",
      "source": [
        "data_df['label'] =labelencoder.fit_transform(data_df['Type'])"
      ],
      "metadata": {
        "id": "6ogTvWkw0iW9"
      },
      "id": "6ogTvWkw0iW9",
      "execution_count": 111,
      "outputs": []
    },
    {
      "cell_type": "code",
      "source": [
        "tokenizer = AutoTokenizer.from_pretrained('xlm-roberta-base')\n",
        "def tokenize_function(examples):\n",
        "    return tokenizer(examples[\"pre_processed_text\"], padding='max_length', truncation=True, max_length=180)"
      ],
      "metadata": {
        "id": "mhalRl4AzvWy"
      },
      "id": "mhalRl4AzvWy",
      "execution_count": 112,
      "outputs": []
    },
    {
      "cell_type": "code",
      "source": [
        "from datasets import Dataset\n",
        "h_dataset = Dataset.from_pandas(data_df)"
      ],
      "metadata": {
        "id": "B-X2OCskZSUj"
      },
      "id": "B-X2OCskZSUj",
      "execution_count": 113,
      "outputs": []
    },
    {
      "cell_type": "code",
      "source": [
        "h_dataset"
      ],
      "metadata": {
        "colab": {
          "base_uri": "https://localhost:8080/"
        },
        "id": "rMwfwIBkZYI2",
        "outputId": "6daf4e2e-78b9-4eed-a715-9d489b4ca372"
      },
      "id": "rMwfwIBkZYI2",
      "execution_count": 114,
      "outputs": [
        {
          "output_type": "execute_result",
          "data": {
            "text/plain": [
              "Dataset({\n",
              "    features: ['song_id', 'song_name', 'Artist', 'Lyrics', 'Type', 'token_list', 'token_list_after_sw', 'pre_processed_text', 'token_list_after_common_words', 'word_count', 'final_data', 'label'],\n",
              "    num_rows: 162\n",
              "})"
            ]
          },
          "metadata": {},
          "execution_count": 114
        }
      ]
    },
    {
      "cell_type": "code",
      "source": [
        "tokenized_dataset = h_dataset.map(tokenize_function, batched=True)\n",
        "tokenized_dataset"
      ],
      "metadata": {
        "colab": {
          "base_uri": "https://localhost:8080/",
          "height": 153,
          "referenced_widgets": [
            "fd646816506f4b2d89582f7d8c53e5fe",
            "9e77d8e572c8482c84bc53152d427dea",
            "affd593f9dc14b9cbf1a2b3983de3026",
            "254521ce781940c29a6b1917b888f735",
            "033266d1c47a4c9e82955497d07f1d5a",
            "3ff86f452dae44928b00a399a1548481",
            "2fc5b0d45ffa4b31b1eb322d0c5dfe8e",
            "6567d12325354ebb988d6ff2f341b1b6",
            "e7b86d604b694b798ee182b54b5af061",
            "edc008aa560c45889c4d5158bae426f3",
            "c5a27f9cabd34451b18234ade579ed83"
          ]
        },
        "id": "4PwwY52yZsqD",
        "outputId": "94444384-83b0-4c2e-c487-0651dcd7cec9"
      },
      "id": "4PwwY52yZsqD",
      "execution_count": 115,
      "outputs": [
        {
          "output_type": "display_data",
          "data": {
            "text/plain": [
              "Map:   0%|          | 0/162 [00:00<?, ? examples/s]"
            ],
            "application/vnd.jupyter.widget-view+json": {
              "version_major": 2,
              "version_minor": 0,
              "model_id": "fd646816506f4b2d89582f7d8c53e5fe"
            }
          },
          "metadata": {}
        },
        {
          "output_type": "execute_result",
          "data": {
            "text/plain": [
              "Dataset({\n",
              "    features: ['song_id', 'song_name', 'Artist', 'Lyrics', 'Type', 'token_list', 'token_list_after_sw', 'pre_processed_text', 'token_list_after_common_words', 'word_count', 'final_data', 'label', 'input_ids', 'attention_mask'],\n",
              "    num_rows: 162\n",
              "})"
            ]
          },
          "metadata": {},
          "execution_count": 115
        }
      ]
    },
    {
      "cell_type": "code",
      "source": [
        "label_names = [\"Calm\", \"Happy\", \"Sad\"]\n",
        "id2label = {idx:label for idx, label in enumerate(label_names)}\n",
        "id2label"
      ],
      "metadata": {
        "colab": {
          "base_uri": "https://localhost:8080/"
        },
        "id": "N7vGlbQX0k6m",
        "outputId": "aee09bc1-f2b8-4c47-f317-d6e09f25d261"
      },
      "id": "N7vGlbQX0k6m",
      "execution_count": 116,
      "outputs": [
        {
          "output_type": "execute_result",
          "data": {
            "text/plain": [
              "{0: 'Calm', 1: 'Happy', 2: 'Sad'}"
            ]
          },
          "metadata": {},
          "execution_count": 116
        }
      ]
    },
    {
      "cell_type": "code",
      "source": [
        "label2id = {v:k for k,v in id2label.items()}\n",
        "label2id"
      ],
      "metadata": {
        "colab": {
          "base_uri": "https://localhost:8080/"
        },
        "id": "RTh7B_i00osm",
        "outputId": "a90182e2-0454-4fd5-e113-3fdee6968865"
      },
      "id": "RTh7B_i00osm",
      "execution_count": 117,
      "outputs": [
        {
          "output_type": "execute_result",
          "data": {
            "text/plain": [
              "{'Calm': 0, 'Happy': 1, 'Sad': 2}"
            ]
          },
          "metadata": {},
          "execution_count": 117
        }
      ]
    },
    {
      "cell_type": "code",
      "source": [
        "#train, test = train_test_split(tokenized_dataset ,test_size=0.2, random_state=42)"
      ],
      "metadata": {
        "id": "YGC_JBi20rhx"
      },
      "id": "YGC_JBi20rhx",
      "execution_count": 118,
      "outputs": []
    },
    {
      "cell_type": "code",
      "source": [
        "from transformers import AutoModelForSequenceClassification\n",
        "num_labels = 3\n",
        "model = AutoModelForSequenceClassification.from_pretrained(\"xlm-roberta-base\", num_labels=num_labels, label2id=label2id, id2label=id2label)"
      ],
      "metadata": {
        "colab": {
          "base_uri": "https://localhost:8080/"
        },
        "id": "MyAUbaNV1kVF",
        "outputId": "a647c6d2-2f2b-4394-b462-ec83d5c6e90b"
      },
      "id": "MyAUbaNV1kVF",
      "execution_count": 119,
      "outputs": [
        {
          "output_type": "stream",
          "name": "stderr",
          "text": [
            "Some weights of XLMRobertaForSequenceClassification were not initialized from the model checkpoint at xlm-roberta-base and are newly initialized: ['classifier.dense.weight', 'classifier.dense.bias', 'classifier.out_proj.bias', 'classifier.out_proj.weight']\n",
            "You should probably TRAIN this model on a down-stream task to be able to use it for predictions and inference.\n"
          ]
        }
      ]
    },
    {
      "cell_type": "code",
      "source": [
        "dataset=tokenized_dataset.shuffle().train_test_split(test_size=0.3)"
      ],
      "metadata": {
        "id": "uaa17ZWaa0gS"
      },
      "id": "uaa17ZWaa0gS",
      "execution_count": 120,
      "outputs": []
    },
    {
      "cell_type": "code",
      "source": [
        " model_checkpoint = \"xlm-roberta-base\""
      ],
      "metadata": {
        "id": "zP4XK6AscO6M"
      },
      "id": "zP4XK6AscO6M",
      "execution_count": 121,
      "outputs": []
    },
    {
      "cell_type": "code",
      "source": [
        "import numpy as np\n",
        "from sklearn.metrics import mean_absolute_error\n",
        "from sklearn.metrics import accuracy_score\n",
        "# accuracy = accuracy_score(y_true, y_pred)\n",
        "# print(f\"Accuracy: {accuracy * 100:.2f}%\")\n",
        "\n",
        "def compute_metrics(eval_pred):\n",
        "    predictions, labels = eval_pred\n",
        "   # print(predictions)\n",
        "    predictions = np.argmax(predictions, axis=1)\n",
        "    print(labels)\n",
        "    print(predictions)\n",
        "    print(\"=============================\")\n",
        "    return {\"Accuracy\": accuracy_score(labels, predictions) }"
      ],
      "metadata": {
        "id": "HBvb3eKxh-_v"
      },
      "id": "HBvb3eKxh-_v",
      "execution_count": 122,
      "outputs": []
    },
    {
      "cell_type": "code",
      "source": [
        "from transformers import TrainingArguments\n",
        "\n",
        "model_name = model_checkpoint.split(\"/\")[-1]\n",
        "batch_size = 64\n",
        "num_train_epochs = 40\n",
        "logging_steps = len(dataset[\"train\"]) // (batch_size * num_train_epochs)\n",
        "\n",
        "args = TrainingArguments(\n",
        "    output_dir=f\"{model_name}-sinhala-song-cls\",\n",
        "    evaluation_strategy = \"epoch\",\n",
        "    logging_strategy=\"epoch\",\n",
        "    save_strategy = \"epoch\",\n",
        "    learning_rate=2e-5,\n",
        "    per_device_train_batch_size=batch_size,\n",
        "    per_device_eval_batch_size=batch_size,\n",
        "    num_train_epochs=40,\n",
        "    weight_decay=0.01,\n",
        "    save_total_limit = 2,\n",
        "    load_best_model_at_end=True,\n",
        "    #logging_steps=logging_steps,\n",
        "    push_to_hub=True,\n",
        "  #  load_best_model_at_end= True,\n",
        ")"
      ],
      "metadata": {
        "id": "j3ZRvmNvbwm-"
      },
      "id": "j3ZRvmNvbwm-",
      "execution_count": 123,
      "outputs": []
    },
    {
      "cell_type": "code",
      "source": [
        "from transformers import Trainer\n",
        "\n",
        "trainer = Trainer(\n",
        "    model,\n",
        "    args,\n",
        "    train_dataset=dataset[\"train\"],\n",
        "    eval_dataset=dataset[\"test\"],\n",
        "    tokenizer=tokenizer,\n",
        "    compute_metrics=compute_metrics\n",
        ")"
      ],
      "metadata": {
        "id": "C_BC4Y91b2Rv"
      },
      "id": "C_BC4Y91b2Rv",
      "execution_count": 124,
      "outputs": []
    },
    {
      "cell_type": "code",
      "source": [
        "trainer.train()"
      ],
      "metadata": {
        "colab": {
          "base_uri": "https://localhost:8080/",
          "height": 1000
        },
        "id": "hons9DAtcVLv",
        "outputId": "5070a4e1-0666-452f-b9f7-49e9baf1b4d8"
      },
      "id": "hons9DAtcVLv",
      "execution_count": 125,
      "outputs": [
        {
          "output_type": "stream",
          "name": "stderr",
          "text": [
            "You're using a XLMRobertaTokenizerFast tokenizer. Please note that with a fast tokenizer, using the `__call__` method is faster than using a method to encode the text followed by a call to the `pad` method to get a padded encoding.\n"
          ]
        },
        {
          "output_type": "display_data",
          "data": {
            "text/plain": [
              "<IPython.core.display.HTML object>"
            ],
            "text/html": [
              "\n",
              "    <div>\n",
              "      \n",
              "      <progress value='80' max='80' style='width:300px; height:20px; vertical-align: middle;'></progress>\n",
              "      [80/80 07:42, Epoch 40/40]\n",
              "    </div>\n",
              "    <table border=\"1\" class=\"dataframe\">\n",
              "  <thead>\n",
              " <tr style=\"text-align: left;\">\n",
              "      <th>Epoch</th>\n",
              "      <th>Training Loss</th>\n",
              "      <th>Validation Loss</th>\n",
              "      <th>Accuracy</th>\n",
              "    </tr>\n",
              "  </thead>\n",
              "  <tbody>\n",
              "    <tr>\n",
              "      <td>1</td>\n",
              "      <td>1.105700</td>\n",
              "      <td>1.098286</td>\n",
              "      <td>0.346939</td>\n",
              "    </tr>\n",
              "    <tr>\n",
              "      <td>2</td>\n",
              "      <td>1.092600</td>\n",
              "      <td>1.097962</td>\n",
              "      <td>0.346939</td>\n",
              "    </tr>\n",
              "    <tr>\n",
              "      <td>3</td>\n",
              "      <td>1.095800</td>\n",
              "      <td>1.096779</td>\n",
              "      <td>0.346939</td>\n",
              "    </tr>\n",
              "    <tr>\n",
              "      <td>4</td>\n",
              "      <td>1.098100</td>\n",
              "      <td>1.096107</td>\n",
              "      <td>0.346939</td>\n",
              "    </tr>\n",
              "    <tr>\n",
              "      <td>5</td>\n",
              "      <td>1.089500</td>\n",
              "      <td>1.091203</td>\n",
              "      <td>0.326531</td>\n",
              "    </tr>\n",
              "    <tr>\n",
              "      <td>6</td>\n",
              "      <td>1.051100</td>\n",
              "      <td>1.066476</td>\n",
              "      <td>0.510204</td>\n",
              "    </tr>\n",
              "    <tr>\n",
              "      <td>7</td>\n",
              "      <td>0.982400</td>\n",
              "      <td>1.035697</td>\n",
              "      <td>0.510204</td>\n",
              "    </tr>\n",
              "    <tr>\n",
              "      <td>8</td>\n",
              "      <td>0.960300</td>\n",
              "      <td>1.013716</td>\n",
              "      <td>0.530612</td>\n",
              "    </tr>\n",
              "    <tr>\n",
              "      <td>9</td>\n",
              "      <td>0.952300</td>\n",
              "      <td>1.020724</td>\n",
              "      <td>0.510204</td>\n",
              "    </tr>\n",
              "    <tr>\n",
              "      <td>10</td>\n",
              "      <td>0.931300</td>\n",
              "      <td>1.033561</td>\n",
              "      <td>0.510204</td>\n",
              "    </tr>\n",
              "    <tr>\n",
              "      <td>11</td>\n",
              "      <td>0.855900</td>\n",
              "      <td>1.056182</td>\n",
              "      <td>0.510204</td>\n",
              "    </tr>\n",
              "    <tr>\n",
              "      <td>12</td>\n",
              "      <td>0.857800</td>\n",
              "      <td>1.048908</td>\n",
              "      <td>0.510204</td>\n",
              "    </tr>\n",
              "    <tr>\n",
              "      <td>13</td>\n",
              "      <td>0.803300</td>\n",
              "      <td>1.040831</td>\n",
              "      <td>0.530612</td>\n",
              "    </tr>\n",
              "    <tr>\n",
              "      <td>14</td>\n",
              "      <td>0.768800</td>\n",
              "      <td>1.039295</td>\n",
              "      <td>0.530612</td>\n",
              "    </tr>\n",
              "    <tr>\n",
              "      <td>15</td>\n",
              "      <td>0.713000</td>\n",
              "      <td>1.045515</td>\n",
              "      <td>0.530612</td>\n",
              "    </tr>\n",
              "    <tr>\n",
              "      <td>16</td>\n",
              "      <td>0.703600</td>\n",
              "      <td>1.029973</td>\n",
              "      <td>0.510204</td>\n",
              "    </tr>\n",
              "    <tr>\n",
              "      <td>17</td>\n",
              "      <td>0.623200</td>\n",
              "      <td>1.039322</td>\n",
              "      <td>0.571429</td>\n",
              "    </tr>\n",
              "    <tr>\n",
              "      <td>18</td>\n",
              "      <td>0.607400</td>\n",
              "      <td>1.083798</td>\n",
              "      <td>0.530612</td>\n",
              "    </tr>\n",
              "    <tr>\n",
              "      <td>19</td>\n",
              "      <td>0.530000</td>\n",
              "      <td>1.055959</td>\n",
              "      <td>0.612245</td>\n",
              "    </tr>\n",
              "    <tr>\n",
              "      <td>20</td>\n",
              "      <td>0.526100</td>\n",
              "      <td>1.053219</td>\n",
              "      <td>0.612245</td>\n",
              "    </tr>\n",
              "    <tr>\n",
              "      <td>21</td>\n",
              "      <td>0.516800</td>\n",
              "      <td>1.102903</td>\n",
              "      <td>0.591837</td>\n",
              "    </tr>\n",
              "    <tr>\n",
              "      <td>22</td>\n",
              "      <td>0.483500</td>\n",
              "      <td>1.126873</td>\n",
              "      <td>0.571429</td>\n",
              "    </tr>\n",
              "    <tr>\n",
              "      <td>23</td>\n",
              "      <td>0.459300</td>\n",
              "      <td>1.136911</td>\n",
              "      <td>0.551020</td>\n",
              "    </tr>\n",
              "    <tr>\n",
              "      <td>24</td>\n",
              "      <td>0.402300</td>\n",
              "      <td>1.153651</td>\n",
              "      <td>0.551020</td>\n",
              "    </tr>\n",
              "    <tr>\n",
              "      <td>25</td>\n",
              "      <td>0.391300</td>\n",
              "      <td>1.178333</td>\n",
              "      <td>0.551020</td>\n",
              "    </tr>\n",
              "    <tr>\n",
              "      <td>26</td>\n",
              "      <td>0.370000</td>\n",
              "      <td>1.177413</td>\n",
              "      <td>0.591837</td>\n",
              "    </tr>\n",
              "    <tr>\n",
              "      <td>27</td>\n",
              "      <td>0.373600</td>\n",
              "      <td>1.204906</td>\n",
              "      <td>0.551020</td>\n",
              "    </tr>\n",
              "    <tr>\n",
              "      <td>28</td>\n",
              "      <td>0.340400</td>\n",
              "      <td>1.214886</td>\n",
              "      <td>0.530612</td>\n",
              "    </tr>\n",
              "    <tr>\n",
              "      <td>29</td>\n",
              "      <td>0.299700</td>\n",
              "      <td>1.226046</td>\n",
              "      <td>0.551020</td>\n",
              "    </tr>\n",
              "    <tr>\n",
              "      <td>30</td>\n",
              "      <td>0.301000</td>\n",
              "      <td>1.225331</td>\n",
              "      <td>0.571429</td>\n",
              "    </tr>\n",
              "    <tr>\n",
              "      <td>31</td>\n",
              "      <td>0.309100</td>\n",
              "      <td>1.218323</td>\n",
              "      <td>0.571429</td>\n",
              "    </tr>\n",
              "    <tr>\n",
              "      <td>32</td>\n",
              "      <td>0.262900</td>\n",
              "      <td>1.211362</td>\n",
              "      <td>0.551020</td>\n",
              "    </tr>\n",
              "    <tr>\n",
              "      <td>33</td>\n",
              "      <td>0.229200</td>\n",
              "      <td>1.206625</td>\n",
              "      <td>0.551020</td>\n",
              "    </tr>\n",
              "    <tr>\n",
              "      <td>34</td>\n",
              "      <td>0.234200</td>\n",
              "      <td>1.220742</td>\n",
              "      <td>0.551020</td>\n",
              "    </tr>\n",
              "    <tr>\n",
              "      <td>35</td>\n",
              "      <td>0.224900</td>\n",
              "      <td>1.235144</td>\n",
              "      <td>0.551020</td>\n",
              "    </tr>\n",
              "    <tr>\n",
              "      <td>36</td>\n",
              "      <td>0.203000</td>\n",
              "      <td>1.251283</td>\n",
              "      <td>0.571429</td>\n",
              "    </tr>\n",
              "    <tr>\n",
              "      <td>37</td>\n",
              "      <td>0.233300</td>\n",
              "      <td>1.253710</td>\n",
              "      <td>0.571429</td>\n",
              "    </tr>\n",
              "    <tr>\n",
              "      <td>38</td>\n",
              "      <td>0.204500</td>\n",
              "      <td>1.255717</td>\n",
              "      <td>0.571429</td>\n",
              "    </tr>\n",
              "    <tr>\n",
              "      <td>39</td>\n",
              "      <td>0.234800</td>\n",
              "      <td>1.251872</td>\n",
              "      <td>0.571429</td>\n",
              "    </tr>\n",
              "    <tr>\n",
              "      <td>40</td>\n",
              "      <td>0.205000</td>\n",
              "      <td>1.249621</td>\n",
              "      <td>0.571429</td>\n",
              "    </tr>\n",
              "  </tbody>\n",
              "</table><p>"
            ]
          },
          "metadata": {}
        },
        {
          "output_type": "execute_result",
          "data": {
            "text/plain": [
              "TrainOutput(global_step=80, training_loss=0.5906762175261975, metrics={'train_runtime': 463.2853, 'train_samples_per_second': 9.756, 'train_steps_per_second': 0.173, 'total_flos': 418103665358400.0, 'train_loss': 0.5906762175261975, 'epoch': 40.0})"
            ]
          },
          "metadata": {},
          "execution_count": 125
        }
      ]
    },
    {
      "cell_type": "code",
      "source": [
        "# from google.colab import files\n",
        "# files.download('/content/drive/MyDrive/roberta-base-sinhala-song-cls')"
      ],
      "metadata": {
        "id": "5DnUmdSzRXVz"
      },
      "id": "5DnUmdSzRXVz",
      "execution_count": 126,
      "outputs": []
    },
    {
      "cell_type": "code",
      "source": [
        "model.push_to_hub(\"xlm-roberta-base-sinhala-song-cls\")"
      ],
      "metadata": {
        "colab": {
          "base_uri": "https://localhost:8080/",
          "height": 118,
          "referenced_widgets": [
            "e3958eb9cf8a401a9b2fe77165bc5b52",
            "2c77f15f99274763bfc241f6ecaa0448",
            "2ab40bbdec984e408977ee0231259b98",
            "5703ecfbce404e159e8db944b5be720e",
            "fead4390aaaa48b4bd848b2cb5ca31c2",
            "6d827a37daa748b4a57a358a466e3510",
            "1ea876ab7c414f018a057e2492d9c376",
            "91d39c4143fb4ae09d1323a18a4a7af0",
            "dc0453945d824119b248b01b8459a442",
            "23d27ceb680d49e89ef9326c71f5657a",
            "e8a9f79741bb4d65a57b59913c1b250c"
          ]
        },
        "id": "vpxWsViFPq8N",
        "outputId": "01624f60-3e94-4518-f4af-138b6e0e4123"
      },
      "id": "vpxWsViFPq8N",
      "execution_count": 127,
      "outputs": [
        {
          "output_type": "display_data",
          "data": {
            "text/plain": [
              "model.safetensors:   0%|          | 0.00/1.11G [00:00<?, ?B/s]"
            ],
            "application/vnd.jupyter.widget-view+json": {
              "version_major": 2,
              "version_minor": 0,
              "model_id": "e3958eb9cf8a401a9b2fe77165bc5b52"
            }
          },
          "metadata": {}
        },
        {
          "output_type": "execute_result",
          "data": {
            "text/plain": [
              "CommitInfo(commit_url='https://huggingface.co/malinda135/xlm-roberta-base-sinhala-song-cls/commit/d2949be04ee11256cd2d9028f0ecd20c02f3e90b', commit_message='Upload XLMRobertaForSequenceClassification', commit_description='', oid='d2949be04ee11256cd2d9028f0ecd20c02f3e90b', pr_url=None, pr_revision=None, pr_num=None)"
            ]
          },
          "metadata": {},
          "execution_count": 127
        }
      ]
    },
    {
      "cell_type": "code",
      "source": [],
      "metadata": {
        "id": "y0yOwiONg-gK"
      },
      "id": "y0yOwiONg-gK",
      "execution_count": null,
      "outputs": []
    }
  ],
  "metadata": {
    "colab": {
      "provenance": [],
      "machine_shape": "hm",
      "gpuType": "V100"
    },
    "kernelspec": {
      "display_name": "Python 3",
      "name": "python3"
    },
    "language_info": {
      "codemirror_mode": {
        "name": "ipython",
        "version": 3
      },
      "file_extension": ".py",
      "mimetype": "text/x-python",
      "name": "python",
      "nbconvert_exporter": "python",
      "pygments_lexer": "ipython3",
      "version": "3.9.7"
    },
    "accelerator": "GPU",
    "widgets": {
      "application/vnd.jupyter.widget-state+json": {
        "d4adebe45fd941879ed18bb57057ece4": {
          "model_module": "@jupyter-widgets/controls",
          "model_name": "VBoxModel",
          "model_module_version": "1.5.0",
          "state": {
            "_dom_classes": [],
            "_model_module": "@jupyter-widgets/controls",
            "_model_module_version": "1.5.0",
            "_model_name": "VBoxModel",
            "_view_count": null,
            "_view_module": "@jupyter-widgets/controls",
            "_view_module_version": "1.5.0",
            "_view_name": "VBoxView",
            "box_style": "",
            "children": [
              "IPY_MODEL_ce90019e82e841c89c8e7d0ebf5000bd",
              "IPY_MODEL_3abf333053f347fd892a7e909a1e7129",
              "IPY_MODEL_03cdbf4b272048e5a0f0ddde424d4a21",
              "IPY_MODEL_a1dfd2ac44c74e52900c924ea76570ed"
            ],
            "layout": "IPY_MODEL_9768328ad7a7485b9c2bbf275b2ab6b9"
          }
        },
        "0b3cdddab2bd45dfa35ee7ac3872a594": {
          "model_module": "@jupyter-widgets/controls",
          "model_name": "HTMLModel",
          "model_module_version": "1.5.0",
          "state": {
            "_dom_classes": [],
            "_model_module": "@jupyter-widgets/controls",
            "_model_module_version": "1.5.0",
            "_model_name": "HTMLModel",
            "_view_count": null,
            "_view_module": "@jupyter-widgets/controls",
            "_view_module_version": "1.5.0",
            "_view_name": "HTMLView",
            "description": "",
            "description_tooltip": null,
            "layout": "IPY_MODEL_40aa649d06104468a8252bac67f0e833",
            "placeholder": "​",
            "style": "IPY_MODEL_ed6dbed6273c4134a4e094a1de23bef4",
            "value": "<center> <img\nsrc=https://huggingface.co/front/assets/huggingface_logo-noborder.svg\nalt='Hugging Face'> <br> Copy a token from <a\nhref=\"https://huggingface.co/settings/tokens\" target=\"_blank\">your Hugging Face\ntokens page</a> and paste it below. <br> Immediately click login after copying\nyour token or it might be stored in plain text in this notebook file. </center>"
          }
        },
        "2440059bfbea4774a5d3fa56a817ca93": {
          "model_module": "@jupyter-widgets/controls",
          "model_name": "PasswordModel",
          "model_module_version": "1.5.0",
          "state": {
            "_dom_classes": [],
            "_model_module": "@jupyter-widgets/controls",
            "_model_module_version": "1.5.0",
            "_model_name": "PasswordModel",
            "_view_count": null,
            "_view_module": "@jupyter-widgets/controls",
            "_view_module_version": "1.5.0",
            "_view_name": "PasswordView",
            "continuous_update": true,
            "description": "Token:",
            "description_tooltip": null,
            "disabled": false,
            "layout": "IPY_MODEL_b61a56fb4ebc4b1e90e4a165969f7ead",
            "placeholder": "​",
            "style": "IPY_MODEL_80ca3732c2da4869b3c465f23416a2d7",
            "value": ""
          }
        },
        "b910cd6d773b47b086c875a979e5418b": {
          "model_module": "@jupyter-widgets/controls",
          "model_name": "CheckboxModel",
          "model_module_version": "1.5.0",
          "state": {
            "_dom_classes": [],
            "_model_module": "@jupyter-widgets/controls",
            "_model_module_version": "1.5.0",
            "_model_name": "CheckboxModel",
            "_view_count": null,
            "_view_module": "@jupyter-widgets/controls",
            "_view_module_version": "1.5.0",
            "_view_name": "CheckboxView",
            "description": "Add token as git credential?",
            "description_tooltip": null,
            "disabled": false,
            "indent": true,
            "layout": "IPY_MODEL_4f0a494cac7243e4b6f5a83d98b249a9",
            "style": "IPY_MODEL_e296c712d7394f98bc7bb02fb4769edb",
            "value": true
          }
        },
        "e142de5b05d046aaaa180fa686c764c2": {
          "model_module": "@jupyter-widgets/controls",
          "model_name": "ButtonModel",
          "model_module_version": "1.5.0",
          "state": {
            "_dom_classes": [],
            "_model_module": "@jupyter-widgets/controls",
            "_model_module_version": "1.5.0",
            "_model_name": "ButtonModel",
            "_view_count": null,
            "_view_module": "@jupyter-widgets/controls",
            "_view_module_version": "1.5.0",
            "_view_name": "ButtonView",
            "button_style": "",
            "description": "Login",
            "disabled": false,
            "icon": "",
            "layout": "IPY_MODEL_2591230ca7cc4ff59081b309c238c720",
            "style": "IPY_MODEL_4940628872304e82b23d8e87c7cfe0a2",
            "tooltip": ""
          }
        },
        "b59811dbba9c4fb08e07cf630574ca0b": {
          "model_module": "@jupyter-widgets/controls",
          "model_name": "HTMLModel",
          "model_module_version": "1.5.0",
          "state": {
            "_dom_classes": [],
            "_model_module": "@jupyter-widgets/controls",
            "_model_module_version": "1.5.0",
            "_model_name": "HTMLModel",
            "_view_count": null,
            "_view_module": "@jupyter-widgets/controls",
            "_view_module_version": "1.5.0",
            "_view_name": "HTMLView",
            "description": "",
            "description_tooltip": null,
            "layout": "IPY_MODEL_c5143ab6a8d74f259a1196403fef0de2",
            "placeholder": "​",
            "style": "IPY_MODEL_8013b4782d73456d90a0a9c60c3a0935",
            "value": "\n<b>Pro Tip:</b> If you don't already have one, you can create a dedicated\n'notebooks' token with 'write' access, that you can then easily reuse for all\nnotebooks. </center>"
          }
        },
        "9768328ad7a7485b9c2bbf275b2ab6b9": {
          "model_module": "@jupyter-widgets/base",
          "model_name": "LayoutModel",
          "model_module_version": "1.2.0",
          "state": {
            "_model_module": "@jupyter-widgets/base",
            "_model_module_version": "1.2.0",
            "_model_name": "LayoutModel",
            "_view_count": null,
            "_view_module": "@jupyter-widgets/base",
            "_view_module_version": "1.2.0",
            "_view_name": "LayoutView",
            "align_content": null,
            "align_items": "center",
            "align_self": null,
            "border": null,
            "bottom": null,
            "display": "flex",
            "flex": null,
            "flex_flow": "column",
            "grid_area": null,
            "grid_auto_columns": null,
            "grid_auto_flow": null,
            "grid_auto_rows": null,
            "grid_column": null,
            "grid_gap": null,
            "grid_row": null,
            "grid_template_areas": null,
            "grid_template_columns": null,
            "grid_template_rows": null,
            "height": null,
            "justify_content": null,
            "justify_items": null,
            "left": null,
            "margin": null,
            "max_height": null,
            "max_width": null,
            "min_height": null,
            "min_width": null,
            "object_fit": null,
            "object_position": null,
            "order": null,
            "overflow": null,
            "overflow_x": null,
            "overflow_y": null,
            "padding": null,
            "right": null,
            "top": null,
            "visibility": null,
            "width": "50%"
          }
        },
        "40aa649d06104468a8252bac67f0e833": {
          "model_module": "@jupyter-widgets/base",
          "model_name": "LayoutModel",
          "model_module_version": "1.2.0",
          "state": {
            "_model_module": "@jupyter-widgets/base",
            "_model_module_version": "1.2.0",
            "_model_name": "LayoutModel",
            "_view_count": null,
            "_view_module": "@jupyter-widgets/base",
            "_view_module_version": "1.2.0",
            "_view_name": "LayoutView",
            "align_content": null,
            "align_items": null,
            "align_self": null,
            "border": null,
            "bottom": null,
            "display": null,
            "flex": null,
            "flex_flow": null,
            "grid_area": null,
            "grid_auto_columns": null,
            "grid_auto_flow": null,
            "grid_auto_rows": null,
            "grid_column": null,
            "grid_gap": null,
            "grid_row": null,
            "grid_template_areas": null,
            "grid_template_columns": null,
            "grid_template_rows": null,
            "height": null,
            "justify_content": null,
            "justify_items": null,
            "left": null,
            "margin": null,
            "max_height": null,
            "max_width": null,
            "min_height": null,
            "min_width": null,
            "object_fit": null,
            "object_position": null,
            "order": null,
            "overflow": null,
            "overflow_x": null,
            "overflow_y": null,
            "padding": null,
            "right": null,
            "top": null,
            "visibility": null,
            "width": null
          }
        },
        "ed6dbed6273c4134a4e094a1de23bef4": {
          "model_module": "@jupyter-widgets/controls",
          "model_name": "DescriptionStyleModel",
          "model_module_version": "1.5.0",
          "state": {
            "_model_module": "@jupyter-widgets/controls",
            "_model_module_version": "1.5.0",
            "_model_name": "DescriptionStyleModel",
            "_view_count": null,
            "_view_module": "@jupyter-widgets/base",
            "_view_module_version": "1.2.0",
            "_view_name": "StyleView",
            "description_width": ""
          }
        },
        "b61a56fb4ebc4b1e90e4a165969f7ead": {
          "model_module": "@jupyter-widgets/base",
          "model_name": "LayoutModel",
          "model_module_version": "1.2.0",
          "state": {
            "_model_module": "@jupyter-widgets/base",
            "_model_module_version": "1.2.0",
            "_model_name": "LayoutModel",
            "_view_count": null,
            "_view_module": "@jupyter-widgets/base",
            "_view_module_version": "1.2.0",
            "_view_name": "LayoutView",
            "align_content": null,
            "align_items": null,
            "align_self": null,
            "border": null,
            "bottom": null,
            "display": null,
            "flex": null,
            "flex_flow": null,
            "grid_area": null,
            "grid_auto_columns": null,
            "grid_auto_flow": null,
            "grid_auto_rows": null,
            "grid_column": null,
            "grid_gap": null,
            "grid_row": null,
            "grid_template_areas": null,
            "grid_template_columns": null,
            "grid_template_rows": null,
            "height": null,
            "justify_content": null,
            "justify_items": null,
            "left": null,
            "margin": null,
            "max_height": null,
            "max_width": null,
            "min_height": null,
            "min_width": null,
            "object_fit": null,
            "object_position": null,
            "order": null,
            "overflow": null,
            "overflow_x": null,
            "overflow_y": null,
            "padding": null,
            "right": null,
            "top": null,
            "visibility": null,
            "width": null
          }
        },
        "80ca3732c2da4869b3c465f23416a2d7": {
          "model_module": "@jupyter-widgets/controls",
          "model_name": "DescriptionStyleModel",
          "model_module_version": "1.5.0",
          "state": {
            "_model_module": "@jupyter-widgets/controls",
            "_model_module_version": "1.5.0",
            "_model_name": "DescriptionStyleModel",
            "_view_count": null,
            "_view_module": "@jupyter-widgets/base",
            "_view_module_version": "1.2.0",
            "_view_name": "StyleView",
            "description_width": ""
          }
        },
        "4f0a494cac7243e4b6f5a83d98b249a9": {
          "model_module": "@jupyter-widgets/base",
          "model_name": "LayoutModel",
          "model_module_version": "1.2.0",
          "state": {
            "_model_module": "@jupyter-widgets/base",
            "_model_module_version": "1.2.0",
            "_model_name": "LayoutModel",
            "_view_count": null,
            "_view_module": "@jupyter-widgets/base",
            "_view_module_version": "1.2.0",
            "_view_name": "LayoutView",
            "align_content": null,
            "align_items": null,
            "align_self": null,
            "border": null,
            "bottom": null,
            "display": null,
            "flex": null,
            "flex_flow": null,
            "grid_area": null,
            "grid_auto_columns": null,
            "grid_auto_flow": null,
            "grid_auto_rows": null,
            "grid_column": null,
            "grid_gap": null,
            "grid_row": null,
            "grid_template_areas": null,
            "grid_template_columns": null,
            "grid_template_rows": null,
            "height": null,
            "justify_content": null,
            "justify_items": null,
            "left": null,
            "margin": null,
            "max_height": null,
            "max_width": null,
            "min_height": null,
            "min_width": null,
            "object_fit": null,
            "object_position": null,
            "order": null,
            "overflow": null,
            "overflow_x": null,
            "overflow_y": null,
            "padding": null,
            "right": null,
            "top": null,
            "visibility": null,
            "width": null
          }
        },
        "e296c712d7394f98bc7bb02fb4769edb": {
          "model_module": "@jupyter-widgets/controls",
          "model_name": "DescriptionStyleModel",
          "model_module_version": "1.5.0",
          "state": {
            "_model_module": "@jupyter-widgets/controls",
            "_model_module_version": "1.5.0",
            "_model_name": "DescriptionStyleModel",
            "_view_count": null,
            "_view_module": "@jupyter-widgets/base",
            "_view_module_version": "1.2.0",
            "_view_name": "StyleView",
            "description_width": ""
          }
        },
        "2591230ca7cc4ff59081b309c238c720": {
          "model_module": "@jupyter-widgets/base",
          "model_name": "LayoutModel",
          "model_module_version": "1.2.0",
          "state": {
            "_model_module": "@jupyter-widgets/base",
            "_model_module_version": "1.2.0",
            "_model_name": "LayoutModel",
            "_view_count": null,
            "_view_module": "@jupyter-widgets/base",
            "_view_module_version": "1.2.0",
            "_view_name": "LayoutView",
            "align_content": null,
            "align_items": null,
            "align_self": null,
            "border": null,
            "bottom": null,
            "display": null,
            "flex": null,
            "flex_flow": null,
            "grid_area": null,
            "grid_auto_columns": null,
            "grid_auto_flow": null,
            "grid_auto_rows": null,
            "grid_column": null,
            "grid_gap": null,
            "grid_row": null,
            "grid_template_areas": null,
            "grid_template_columns": null,
            "grid_template_rows": null,
            "height": null,
            "justify_content": null,
            "justify_items": null,
            "left": null,
            "margin": null,
            "max_height": null,
            "max_width": null,
            "min_height": null,
            "min_width": null,
            "object_fit": null,
            "object_position": null,
            "order": null,
            "overflow": null,
            "overflow_x": null,
            "overflow_y": null,
            "padding": null,
            "right": null,
            "top": null,
            "visibility": null,
            "width": null
          }
        },
        "4940628872304e82b23d8e87c7cfe0a2": {
          "model_module": "@jupyter-widgets/controls",
          "model_name": "ButtonStyleModel",
          "model_module_version": "1.5.0",
          "state": {
            "_model_module": "@jupyter-widgets/controls",
            "_model_module_version": "1.5.0",
            "_model_name": "ButtonStyleModel",
            "_view_count": null,
            "_view_module": "@jupyter-widgets/base",
            "_view_module_version": "1.2.0",
            "_view_name": "StyleView",
            "button_color": null,
            "font_weight": ""
          }
        },
        "c5143ab6a8d74f259a1196403fef0de2": {
          "model_module": "@jupyter-widgets/base",
          "model_name": "LayoutModel",
          "model_module_version": "1.2.0",
          "state": {
            "_model_module": "@jupyter-widgets/base",
            "_model_module_version": "1.2.0",
            "_model_name": "LayoutModel",
            "_view_count": null,
            "_view_module": "@jupyter-widgets/base",
            "_view_module_version": "1.2.0",
            "_view_name": "LayoutView",
            "align_content": null,
            "align_items": null,
            "align_self": null,
            "border": null,
            "bottom": null,
            "display": null,
            "flex": null,
            "flex_flow": null,
            "grid_area": null,
            "grid_auto_columns": null,
            "grid_auto_flow": null,
            "grid_auto_rows": null,
            "grid_column": null,
            "grid_gap": null,
            "grid_row": null,
            "grid_template_areas": null,
            "grid_template_columns": null,
            "grid_template_rows": null,
            "height": null,
            "justify_content": null,
            "justify_items": null,
            "left": null,
            "margin": null,
            "max_height": null,
            "max_width": null,
            "min_height": null,
            "min_width": null,
            "object_fit": null,
            "object_position": null,
            "order": null,
            "overflow": null,
            "overflow_x": null,
            "overflow_y": null,
            "padding": null,
            "right": null,
            "top": null,
            "visibility": null,
            "width": null
          }
        },
        "8013b4782d73456d90a0a9c60c3a0935": {
          "model_module": "@jupyter-widgets/controls",
          "model_name": "DescriptionStyleModel",
          "model_module_version": "1.5.0",
          "state": {
            "_model_module": "@jupyter-widgets/controls",
            "_model_module_version": "1.5.0",
            "_model_name": "DescriptionStyleModel",
            "_view_count": null,
            "_view_module": "@jupyter-widgets/base",
            "_view_module_version": "1.2.0",
            "_view_name": "StyleView",
            "description_width": ""
          }
        },
        "2b4170a5671441f5ad730908a09a4647": {
          "model_module": "@jupyter-widgets/controls",
          "model_name": "LabelModel",
          "model_module_version": "1.5.0",
          "state": {
            "_dom_classes": [],
            "_model_module": "@jupyter-widgets/controls",
            "_model_module_version": "1.5.0",
            "_model_name": "LabelModel",
            "_view_count": null,
            "_view_module": "@jupyter-widgets/controls",
            "_view_module_version": "1.5.0",
            "_view_name": "LabelView",
            "description": "",
            "description_tooltip": null,
            "layout": "IPY_MODEL_a9e7a40c673e421ab815e0e7629d54a6",
            "placeholder": "​",
            "style": "IPY_MODEL_c0f7cd30321a44f0ada96c5ba0742360",
            "value": "Connecting..."
          }
        },
        "a9e7a40c673e421ab815e0e7629d54a6": {
          "model_module": "@jupyter-widgets/base",
          "model_name": "LayoutModel",
          "model_module_version": "1.2.0",
          "state": {
            "_model_module": "@jupyter-widgets/base",
            "_model_module_version": "1.2.0",
            "_model_name": "LayoutModel",
            "_view_count": null,
            "_view_module": "@jupyter-widgets/base",
            "_view_module_version": "1.2.0",
            "_view_name": "LayoutView",
            "align_content": null,
            "align_items": null,
            "align_self": null,
            "border": null,
            "bottom": null,
            "display": null,
            "flex": null,
            "flex_flow": null,
            "grid_area": null,
            "grid_auto_columns": null,
            "grid_auto_flow": null,
            "grid_auto_rows": null,
            "grid_column": null,
            "grid_gap": null,
            "grid_row": null,
            "grid_template_areas": null,
            "grid_template_columns": null,
            "grid_template_rows": null,
            "height": null,
            "justify_content": null,
            "justify_items": null,
            "left": null,
            "margin": null,
            "max_height": null,
            "max_width": null,
            "min_height": null,
            "min_width": null,
            "object_fit": null,
            "object_position": null,
            "order": null,
            "overflow": null,
            "overflow_x": null,
            "overflow_y": null,
            "padding": null,
            "right": null,
            "top": null,
            "visibility": null,
            "width": null
          }
        },
        "c0f7cd30321a44f0ada96c5ba0742360": {
          "model_module": "@jupyter-widgets/controls",
          "model_name": "DescriptionStyleModel",
          "model_module_version": "1.5.0",
          "state": {
            "_model_module": "@jupyter-widgets/controls",
            "_model_module_version": "1.5.0",
            "_model_name": "DescriptionStyleModel",
            "_view_count": null,
            "_view_module": "@jupyter-widgets/base",
            "_view_module_version": "1.2.0",
            "_view_name": "StyleView",
            "description_width": ""
          }
        },
        "ce90019e82e841c89c8e7d0ebf5000bd": {
          "model_module": "@jupyter-widgets/controls",
          "model_name": "LabelModel",
          "model_module_version": "1.5.0",
          "state": {
            "_dom_classes": [],
            "_model_module": "@jupyter-widgets/controls",
            "_model_module_version": "1.5.0",
            "_model_name": "LabelModel",
            "_view_count": null,
            "_view_module": "@jupyter-widgets/controls",
            "_view_module_version": "1.5.0",
            "_view_name": "LabelView",
            "description": "",
            "description_tooltip": null,
            "layout": "IPY_MODEL_9aeb5683058a4943b2ab4ea1d64062b5",
            "placeholder": "​",
            "style": "IPY_MODEL_ef92afbcae904884a5f669d032191a77",
            "value": "Token is valid (permission: write)."
          }
        },
        "3abf333053f347fd892a7e909a1e7129": {
          "model_module": "@jupyter-widgets/controls",
          "model_name": "LabelModel",
          "model_module_version": "1.5.0",
          "state": {
            "_dom_classes": [],
            "_model_module": "@jupyter-widgets/controls",
            "_model_module_version": "1.5.0",
            "_model_name": "LabelModel",
            "_view_count": null,
            "_view_module": "@jupyter-widgets/controls",
            "_view_module_version": "1.5.0",
            "_view_name": "LabelView",
            "description": "",
            "description_tooltip": null,
            "layout": "IPY_MODEL_0f9778478e20417e8c36128fecd78537",
            "placeholder": "​",
            "style": "IPY_MODEL_0cef4ef577264c44a1aa3cc79c3a1d2c",
            "value": "Your token has been saved in your configured git credential helpers (store)."
          }
        },
        "03cdbf4b272048e5a0f0ddde424d4a21": {
          "model_module": "@jupyter-widgets/controls",
          "model_name": "LabelModel",
          "model_module_version": "1.5.0",
          "state": {
            "_dom_classes": [],
            "_model_module": "@jupyter-widgets/controls",
            "_model_module_version": "1.5.0",
            "_model_name": "LabelModel",
            "_view_count": null,
            "_view_module": "@jupyter-widgets/controls",
            "_view_module_version": "1.5.0",
            "_view_name": "LabelView",
            "description": "",
            "description_tooltip": null,
            "layout": "IPY_MODEL_c218329b75824f47ac3fa83ca02ef680",
            "placeholder": "​",
            "style": "IPY_MODEL_5e4aac753e4e4945b2fa9aad295548b8",
            "value": "Your token has been saved to /root/.cache/huggingface/token"
          }
        },
        "a1dfd2ac44c74e52900c924ea76570ed": {
          "model_module": "@jupyter-widgets/controls",
          "model_name": "LabelModel",
          "model_module_version": "1.5.0",
          "state": {
            "_dom_classes": [],
            "_model_module": "@jupyter-widgets/controls",
            "_model_module_version": "1.5.0",
            "_model_name": "LabelModel",
            "_view_count": null,
            "_view_module": "@jupyter-widgets/controls",
            "_view_module_version": "1.5.0",
            "_view_name": "LabelView",
            "description": "",
            "description_tooltip": null,
            "layout": "IPY_MODEL_1d61df80544d482aa87a93fcb925a3d8",
            "placeholder": "​",
            "style": "IPY_MODEL_486562353ffb4d04b8c22a9250af6b81",
            "value": "Login successful"
          }
        },
        "9aeb5683058a4943b2ab4ea1d64062b5": {
          "model_module": "@jupyter-widgets/base",
          "model_name": "LayoutModel",
          "model_module_version": "1.2.0",
          "state": {
            "_model_module": "@jupyter-widgets/base",
            "_model_module_version": "1.2.0",
            "_model_name": "LayoutModel",
            "_view_count": null,
            "_view_module": "@jupyter-widgets/base",
            "_view_module_version": "1.2.0",
            "_view_name": "LayoutView",
            "align_content": null,
            "align_items": null,
            "align_self": null,
            "border": null,
            "bottom": null,
            "display": null,
            "flex": null,
            "flex_flow": null,
            "grid_area": null,
            "grid_auto_columns": null,
            "grid_auto_flow": null,
            "grid_auto_rows": null,
            "grid_column": null,
            "grid_gap": null,
            "grid_row": null,
            "grid_template_areas": null,
            "grid_template_columns": null,
            "grid_template_rows": null,
            "height": null,
            "justify_content": null,
            "justify_items": null,
            "left": null,
            "margin": null,
            "max_height": null,
            "max_width": null,
            "min_height": null,
            "min_width": null,
            "object_fit": null,
            "object_position": null,
            "order": null,
            "overflow": null,
            "overflow_x": null,
            "overflow_y": null,
            "padding": null,
            "right": null,
            "top": null,
            "visibility": null,
            "width": null
          }
        },
        "ef92afbcae904884a5f669d032191a77": {
          "model_module": "@jupyter-widgets/controls",
          "model_name": "DescriptionStyleModel",
          "model_module_version": "1.5.0",
          "state": {
            "_model_module": "@jupyter-widgets/controls",
            "_model_module_version": "1.5.0",
            "_model_name": "DescriptionStyleModel",
            "_view_count": null,
            "_view_module": "@jupyter-widgets/base",
            "_view_module_version": "1.2.0",
            "_view_name": "StyleView",
            "description_width": ""
          }
        },
        "0f9778478e20417e8c36128fecd78537": {
          "model_module": "@jupyter-widgets/base",
          "model_name": "LayoutModel",
          "model_module_version": "1.2.0",
          "state": {
            "_model_module": "@jupyter-widgets/base",
            "_model_module_version": "1.2.0",
            "_model_name": "LayoutModel",
            "_view_count": null,
            "_view_module": "@jupyter-widgets/base",
            "_view_module_version": "1.2.0",
            "_view_name": "LayoutView",
            "align_content": null,
            "align_items": null,
            "align_self": null,
            "border": null,
            "bottom": null,
            "display": null,
            "flex": null,
            "flex_flow": null,
            "grid_area": null,
            "grid_auto_columns": null,
            "grid_auto_flow": null,
            "grid_auto_rows": null,
            "grid_column": null,
            "grid_gap": null,
            "grid_row": null,
            "grid_template_areas": null,
            "grid_template_columns": null,
            "grid_template_rows": null,
            "height": null,
            "justify_content": null,
            "justify_items": null,
            "left": null,
            "margin": null,
            "max_height": null,
            "max_width": null,
            "min_height": null,
            "min_width": null,
            "object_fit": null,
            "object_position": null,
            "order": null,
            "overflow": null,
            "overflow_x": null,
            "overflow_y": null,
            "padding": null,
            "right": null,
            "top": null,
            "visibility": null,
            "width": null
          }
        },
        "0cef4ef577264c44a1aa3cc79c3a1d2c": {
          "model_module": "@jupyter-widgets/controls",
          "model_name": "DescriptionStyleModel",
          "model_module_version": "1.5.0",
          "state": {
            "_model_module": "@jupyter-widgets/controls",
            "_model_module_version": "1.5.0",
            "_model_name": "DescriptionStyleModel",
            "_view_count": null,
            "_view_module": "@jupyter-widgets/base",
            "_view_module_version": "1.2.0",
            "_view_name": "StyleView",
            "description_width": ""
          }
        },
        "c218329b75824f47ac3fa83ca02ef680": {
          "model_module": "@jupyter-widgets/base",
          "model_name": "LayoutModel",
          "model_module_version": "1.2.0",
          "state": {
            "_model_module": "@jupyter-widgets/base",
            "_model_module_version": "1.2.0",
            "_model_name": "LayoutModel",
            "_view_count": null,
            "_view_module": "@jupyter-widgets/base",
            "_view_module_version": "1.2.0",
            "_view_name": "LayoutView",
            "align_content": null,
            "align_items": null,
            "align_self": null,
            "border": null,
            "bottom": null,
            "display": null,
            "flex": null,
            "flex_flow": null,
            "grid_area": null,
            "grid_auto_columns": null,
            "grid_auto_flow": null,
            "grid_auto_rows": null,
            "grid_column": null,
            "grid_gap": null,
            "grid_row": null,
            "grid_template_areas": null,
            "grid_template_columns": null,
            "grid_template_rows": null,
            "height": null,
            "justify_content": null,
            "justify_items": null,
            "left": null,
            "margin": null,
            "max_height": null,
            "max_width": null,
            "min_height": null,
            "min_width": null,
            "object_fit": null,
            "object_position": null,
            "order": null,
            "overflow": null,
            "overflow_x": null,
            "overflow_y": null,
            "padding": null,
            "right": null,
            "top": null,
            "visibility": null,
            "width": null
          }
        },
        "5e4aac753e4e4945b2fa9aad295548b8": {
          "model_module": "@jupyter-widgets/controls",
          "model_name": "DescriptionStyleModel",
          "model_module_version": "1.5.0",
          "state": {
            "_model_module": "@jupyter-widgets/controls",
            "_model_module_version": "1.5.0",
            "_model_name": "DescriptionStyleModel",
            "_view_count": null,
            "_view_module": "@jupyter-widgets/base",
            "_view_module_version": "1.2.0",
            "_view_name": "StyleView",
            "description_width": ""
          }
        },
        "1d61df80544d482aa87a93fcb925a3d8": {
          "model_module": "@jupyter-widgets/base",
          "model_name": "LayoutModel",
          "model_module_version": "1.2.0",
          "state": {
            "_model_module": "@jupyter-widgets/base",
            "_model_module_version": "1.2.0",
            "_model_name": "LayoutModel",
            "_view_count": null,
            "_view_module": "@jupyter-widgets/base",
            "_view_module_version": "1.2.0",
            "_view_name": "LayoutView",
            "align_content": null,
            "align_items": null,
            "align_self": null,
            "border": null,
            "bottom": null,
            "display": null,
            "flex": null,
            "flex_flow": null,
            "grid_area": null,
            "grid_auto_columns": null,
            "grid_auto_flow": null,
            "grid_auto_rows": null,
            "grid_column": null,
            "grid_gap": null,
            "grid_row": null,
            "grid_template_areas": null,
            "grid_template_columns": null,
            "grid_template_rows": null,
            "height": null,
            "justify_content": null,
            "justify_items": null,
            "left": null,
            "margin": null,
            "max_height": null,
            "max_width": null,
            "min_height": null,
            "min_width": null,
            "object_fit": null,
            "object_position": null,
            "order": null,
            "overflow": null,
            "overflow_x": null,
            "overflow_y": null,
            "padding": null,
            "right": null,
            "top": null,
            "visibility": null,
            "width": null
          }
        },
        "486562353ffb4d04b8c22a9250af6b81": {
          "model_module": "@jupyter-widgets/controls",
          "model_name": "DescriptionStyleModel",
          "model_module_version": "1.5.0",
          "state": {
            "_model_module": "@jupyter-widgets/controls",
            "_model_module_version": "1.5.0",
            "_model_name": "DescriptionStyleModel",
            "_view_count": null,
            "_view_module": "@jupyter-widgets/base",
            "_view_module_version": "1.2.0",
            "_view_name": "StyleView",
            "description_width": ""
          }
        },
        "fd646816506f4b2d89582f7d8c53e5fe": {
          "model_module": "@jupyter-widgets/controls",
          "model_name": "HBoxModel",
          "model_module_version": "1.5.0",
          "state": {
            "_dom_classes": [],
            "_model_module": "@jupyter-widgets/controls",
            "_model_module_version": "1.5.0",
            "_model_name": "HBoxModel",
            "_view_count": null,
            "_view_module": "@jupyter-widgets/controls",
            "_view_module_version": "1.5.0",
            "_view_name": "HBoxView",
            "box_style": "",
            "children": [
              "IPY_MODEL_9e77d8e572c8482c84bc53152d427dea",
              "IPY_MODEL_affd593f9dc14b9cbf1a2b3983de3026",
              "IPY_MODEL_254521ce781940c29a6b1917b888f735"
            ],
            "layout": "IPY_MODEL_033266d1c47a4c9e82955497d07f1d5a"
          }
        },
        "9e77d8e572c8482c84bc53152d427dea": {
          "model_module": "@jupyter-widgets/controls",
          "model_name": "HTMLModel",
          "model_module_version": "1.5.0",
          "state": {
            "_dom_classes": [],
            "_model_module": "@jupyter-widgets/controls",
            "_model_module_version": "1.5.0",
            "_model_name": "HTMLModel",
            "_view_count": null,
            "_view_module": "@jupyter-widgets/controls",
            "_view_module_version": "1.5.0",
            "_view_name": "HTMLView",
            "description": "",
            "description_tooltip": null,
            "layout": "IPY_MODEL_3ff86f452dae44928b00a399a1548481",
            "placeholder": "​",
            "style": "IPY_MODEL_2fc5b0d45ffa4b31b1eb322d0c5dfe8e",
            "value": "Map: 100%"
          }
        },
        "affd593f9dc14b9cbf1a2b3983de3026": {
          "model_module": "@jupyter-widgets/controls",
          "model_name": "FloatProgressModel",
          "model_module_version": "1.5.0",
          "state": {
            "_dom_classes": [],
            "_model_module": "@jupyter-widgets/controls",
            "_model_module_version": "1.5.0",
            "_model_name": "FloatProgressModel",
            "_view_count": null,
            "_view_module": "@jupyter-widgets/controls",
            "_view_module_version": "1.5.0",
            "_view_name": "ProgressView",
            "bar_style": "success",
            "description": "",
            "description_tooltip": null,
            "layout": "IPY_MODEL_6567d12325354ebb988d6ff2f341b1b6",
            "max": 162,
            "min": 0,
            "orientation": "horizontal",
            "style": "IPY_MODEL_e7b86d604b694b798ee182b54b5af061",
            "value": 162
          }
        },
        "254521ce781940c29a6b1917b888f735": {
          "model_module": "@jupyter-widgets/controls",
          "model_name": "HTMLModel",
          "model_module_version": "1.5.0",
          "state": {
            "_dom_classes": [],
            "_model_module": "@jupyter-widgets/controls",
            "_model_module_version": "1.5.0",
            "_model_name": "HTMLModel",
            "_view_count": null,
            "_view_module": "@jupyter-widgets/controls",
            "_view_module_version": "1.5.0",
            "_view_name": "HTMLView",
            "description": "",
            "description_tooltip": null,
            "layout": "IPY_MODEL_edc008aa560c45889c4d5158bae426f3",
            "placeholder": "​",
            "style": "IPY_MODEL_c5a27f9cabd34451b18234ade579ed83",
            "value": " 162/162 [00:00&lt;00:00, 3742.25 examples/s]"
          }
        },
        "033266d1c47a4c9e82955497d07f1d5a": {
          "model_module": "@jupyter-widgets/base",
          "model_name": "LayoutModel",
          "model_module_version": "1.2.0",
          "state": {
            "_model_module": "@jupyter-widgets/base",
            "_model_module_version": "1.2.0",
            "_model_name": "LayoutModel",
            "_view_count": null,
            "_view_module": "@jupyter-widgets/base",
            "_view_module_version": "1.2.0",
            "_view_name": "LayoutView",
            "align_content": null,
            "align_items": null,
            "align_self": null,
            "border": null,
            "bottom": null,
            "display": null,
            "flex": null,
            "flex_flow": null,
            "grid_area": null,
            "grid_auto_columns": null,
            "grid_auto_flow": null,
            "grid_auto_rows": null,
            "grid_column": null,
            "grid_gap": null,
            "grid_row": null,
            "grid_template_areas": null,
            "grid_template_columns": null,
            "grid_template_rows": null,
            "height": null,
            "justify_content": null,
            "justify_items": null,
            "left": null,
            "margin": null,
            "max_height": null,
            "max_width": null,
            "min_height": null,
            "min_width": null,
            "object_fit": null,
            "object_position": null,
            "order": null,
            "overflow": null,
            "overflow_x": null,
            "overflow_y": null,
            "padding": null,
            "right": null,
            "top": null,
            "visibility": null,
            "width": null
          }
        },
        "3ff86f452dae44928b00a399a1548481": {
          "model_module": "@jupyter-widgets/base",
          "model_name": "LayoutModel",
          "model_module_version": "1.2.0",
          "state": {
            "_model_module": "@jupyter-widgets/base",
            "_model_module_version": "1.2.0",
            "_model_name": "LayoutModel",
            "_view_count": null,
            "_view_module": "@jupyter-widgets/base",
            "_view_module_version": "1.2.0",
            "_view_name": "LayoutView",
            "align_content": null,
            "align_items": null,
            "align_self": null,
            "border": null,
            "bottom": null,
            "display": null,
            "flex": null,
            "flex_flow": null,
            "grid_area": null,
            "grid_auto_columns": null,
            "grid_auto_flow": null,
            "grid_auto_rows": null,
            "grid_column": null,
            "grid_gap": null,
            "grid_row": null,
            "grid_template_areas": null,
            "grid_template_columns": null,
            "grid_template_rows": null,
            "height": null,
            "justify_content": null,
            "justify_items": null,
            "left": null,
            "margin": null,
            "max_height": null,
            "max_width": null,
            "min_height": null,
            "min_width": null,
            "object_fit": null,
            "object_position": null,
            "order": null,
            "overflow": null,
            "overflow_x": null,
            "overflow_y": null,
            "padding": null,
            "right": null,
            "top": null,
            "visibility": null,
            "width": null
          }
        },
        "2fc5b0d45ffa4b31b1eb322d0c5dfe8e": {
          "model_module": "@jupyter-widgets/controls",
          "model_name": "DescriptionStyleModel",
          "model_module_version": "1.5.0",
          "state": {
            "_model_module": "@jupyter-widgets/controls",
            "_model_module_version": "1.5.0",
            "_model_name": "DescriptionStyleModel",
            "_view_count": null,
            "_view_module": "@jupyter-widgets/base",
            "_view_module_version": "1.2.0",
            "_view_name": "StyleView",
            "description_width": ""
          }
        },
        "6567d12325354ebb988d6ff2f341b1b6": {
          "model_module": "@jupyter-widgets/base",
          "model_name": "LayoutModel",
          "model_module_version": "1.2.0",
          "state": {
            "_model_module": "@jupyter-widgets/base",
            "_model_module_version": "1.2.0",
            "_model_name": "LayoutModel",
            "_view_count": null,
            "_view_module": "@jupyter-widgets/base",
            "_view_module_version": "1.2.0",
            "_view_name": "LayoutView",
            "align_content": null,
            "align_items": null,
            "align_self": null,
            "border": null,
            "bottom": null,
            "display": null,
            "flex": null,
            "flex_flow": null,
            "grid_area": null,
            "grid_auto_columns": null,
            "grid_auto_flow": null,
            "grid_auto_rows": null,
            "grid_column": null,
            "grid_gap": null,
            "grid_row": null,
            "grid_template_areas": null,
            "grid_template_columns": null,
            "grid_template_rows": null,
            "height": null,
            "justify_content": null,
            "justify_items": null,
            "left": null,
            "margin": null,
            "max_height": null,
            "max_width": null,
            "min_height": null,
            "min_width": null,
            "object_fit": null,
            "object_position": null,
            "order": null,
            "overflow": null,
            "overflow_x": null,
            "overflow_y": null,
            "padding": null,
            "right": null,
            "top": null,
            "visibility": null,
            "width": null
          }
        },
        "e7b86d604b694b798ee182b54b5af061": {
          "model_module": "@jupyter-widgets/controls",
          "model_name": "ProgressStyleModel",
          "model_module_version": "1.5.0",
          "state": {
            "_model_module": "@jupyter-widgets/controls",
            "_model_module_version": "1.5.0",
            "_model_name": "ProgressStyleModel",
            "_view_count": null,
            "_view_module": "@jupyter-widgets/base",
            "_view_module_version": "1.2.0",
            "_view_name": "StyleView",
            "bar_color": null,
            "description_width": ""
          }
        },
        "edc008aa560c45889c4d5158bae426f3": {
          "model_module": "@jupyter-widgets/base",
          "model_name": "LayoutModel",
          "model_module_version": "1.2.0",
          "state": {
            "_model_module": "@jupyter-widgets/base",
            "_model_module_version": "1.2.0",
            "_model_name": "LayoutModel",
            "_view_count": null,
            "_view_module": "@jupyter-widgets/base",
            "_view_module_version": "1.2.0",
            "_view_name": "LayoutView",
            "align_content": null,
            "align_items": null,
            "align_self": null,
            "border": null,
            "bottom": null,
            "display": null,
            "flex": null,
            "flex_flow": null,
            "grid_area": null,
            "grid_auto_columns": null,
            "grid_auto_flow": null,
            "grid_auto_rows": null,
            "grid_column": null,
            "grid_gap": null,
            "grid_row": null,
            "grid_template_areas": null,
            "grid_template_columns": null,
            "grid_template_rows": null,
            "height": null,
            "justify_content": null,
            "justify_items": null,
            "left": null,
            "margin": null,
            "max_height": null,
            "max_width": null,
            "min_height": null,
            "min_width": null,
            "object_fit": null,
            "object_position": null,
            "order": null,
            "overflow": null,
            "overflow_x": null,
            "overflow_y": null,
            "padding": null,
            "right": null,
            "top": null,
            "visibility": null,
            "width": null
          }
        },
        "c5a27f9cabd34451b18234ade579ed83": {
          "model_module": "@jupyter-widgets/controls",
          "model_name": "DescriptionStyleModel",
          "model_module_version": "1.5.0",
          "state": {
            "_model_module": "@jupyter-widgets/controls",
            "_model_module_version": "1.5.0",
            "_model_name": "DescriptionStyleModel",
            "_view_count": null,
            "_view_module": "@jupyter-widgets/base",
            "_view_module_version": "1.2.0",
            "_view_name": "StyleView",
            "description_width": ""
          }
        },
        "e3958eb9cf8a401a9b2fe77165bc5b52": {
          "model_module": "@jupyter-widgets/controls",
          "model_name": "HBoxModel",
          "model_module_version": "1.5.0",
          "state": {
            "_dom_classes": [],
            "_model_module": "@jupyter-widgets/controls",
            "_model_module_version": "1.5.0",
            "_model_name": "HBoxModel",
            "_view_count": null,
            "_view_module": "@jupyter-widgets/controls",
            "_view_module_version": "1.5.0",
            "_view_name": "HBoxView",
            "box_style": "",
            "children": [
              "IPY_MODEL_2c77f15f99274763bfc241f6ecaa0448",
              "IPY_MODEL_2ab40bbdec984e408977ee0231259b98",
              "IPY_MODEL_5703ecfbce404e159e8db944b5be720e"
            ],
            "layout": "IPY_MODEL_fead4390aaaa48b4bd848b2cb5ca31c2"
          }
        },
        "2c77f15f99274763bfc241f6ecaa0448": {
          "model_module": "@jupyter-widgets/controls",
          "model_name": "HTMLModel",
          "model_module_version": "1.5.0",
          "state": {
            "_dom_classes": [],
            "_model_module": "@jupyter-widgets/controls",
            "_model_module_version": "1.5.0",
            "_model_name": "HTMLModel",
            "_view_count": null,
            "_view_module": "@jupyter-widgets/controls",
            "_view_module_version": "1.5.0",
            "_view_name": "HTMLView",
            "description": "",
            "description_tooltip": null,
            "layout": "IPY_MODEL_6d827a37daa748b4a57a358a466e3510",
            "placeholder": "​",
            "style": "IPY_MODEL_1ea876ab7c414f018a057e2492d9c376",
            "value": "model.safetensors: 100%"
          }
        },
        "2ab40bbdec984e408977ee0231259b98": {
          "model_module": "@jupyter-widgets/controls",
          "model_name": "FloatProgressModel",
          "model_module_version": "1.5.0",
          "state": {
            "_dom_classes": [],
            "_model_module": "@jupyter-widgets/controls",
            "_model_module_version": "1.5.0",
            "_model_name": "FloatProgressModel",
            "_view_count": null,
            "_view_module": "@jupyter-widgets/controls",
            "_view_module_version": "1.5.0",
            "_view_name": "ProgressView",
            "bar_style": "success",
            "description": "",
            "description_tooltip": null,
            "layout": "IPY_MODEL_91d39c4143fb4ae09d1323a18a4a7af0",
            "max": 1112208084,
            "min": 0,
            "orientation": "horizontal",
            "style": "IPY_MODEL_dc0453945d824119b248b01b8459a442",
            "value": 1112208084
          }
        },
        "5703ecfbce404e159e8db944b5be720e": {
          "model_module": "@jupyter-widgets/controls",
          "model_name": "HTMLModel",
          "model_module_version": "1.5.0",
          "state": {
            "_dom_classes": [],
            "_model_module": "@jupyter-widgets/controls",
            "_model_module_version": "1.5.0",
            "_model_name": "HTMLModel",
            "_view_count": null,
            "_view_module": "@jupyter-widgets/controls",
            "_view_module_version": "1.5.0",
            "_view_name": "HTMLView",
            "description": "",
            "description_tooltip": null,
            "layout": "IPY_MODEL_23d27ceb680d49e89ef9326c71f5657a",
            "placeholder": "​",
            "style": "IPY_MODEL_e8a9f79741bb4d65a57b59913c1b250c",
            "value": " 1.11G/1.11G [00:33&lt;00:00, 38.3MB/s]"
          }
        },
        "fead4390aaaa48b4bd848b2cb5ca31c2": {
          "model_module": "@jupyter-widgets/base",
          "model_name": "LayoutModel",
          "model_module_version": "1.2.0",
          "state": {
            "_model_module": "@jupyter-widgets/base",
            "_model_module_version": "1.2.0",
            "_model_name": "LayoutModel",
            "_view_count": null,
            "_view_module": "@jupyter-widgets/base",
            "_view_module_version": "1.2.0",
            "_view_name": "LayoutView",
            "align_content": null,
            "align_items": null,
            "align_self": null,
            "border": null,
            "bottom": null,
            "display": null,
            "flex": null,
            "flex_flow": null,
            "grid_area": null,
            "grid_auto_columns": null,
            "grid_auto_flow": null,
            "grid_auto_rows": null,
            "grid_column": null,
            "grid_gap": null,
            "grid_row": null,
            "grid_template_areas": null,
            "grid_template_columns": null,
            "grid_template_rows": null,
            "height": null,
            "justify_content": null,
            "justify_items": null,
            "left": null,
            "margin": null,
            "max_height": null,
            "max_width": null,
            "min_height": null,
            "min_width": null,
            "object_fit": null,
            "object_position": null,
            "order": null,
            "overflow": null,
            "overflow_x": null,
            "overflow_y": null,
            "padding": null,
            "right": null,
            "top": null,
            "visibility": null,
            "width": null
          }
        },
        "6d827a37daa748b4a57a358a466e3510": {
          "model_module": "@jupyter-widgets/base",
          "model_name": "LayoutModel",
          "model_module_version": "1.2.0",
          "state": {
            "_model_module": "@jupyter-widgets/base",
            "_model_module_version": "1.2.0",
            "_model_name": "LayoutModel",
            "_view_count": null,
            "_view_module": "@jupyter-widgets/base",
            "_view_module_version": "1.2.0",
            "_view_name": "LayoutView",
            "align_content": null,
            "align_items": null,
            "align_self": null,
            "border": null,
            "bottom": null,
            "display": null,
            "flex": null,
            "flex_flow": null,
            "grid_area": null,
            "grid_auto_columns": null,
            "grid_auto_flow": null,
            "grid_auto_rows": null,
            "grid_column": null,
            "grid_gap": null,
            "grid_row": null,
            "grid_template_areas": null,
            "grid_template_columns": null,
            "grid_template_rows": null,
            "height": null,
            "justify_content": null,
            "justify_items": null,
            "left": null,
            "margin": null,
            "max_height": null,
            "max_width": null,
            "min_height": null,
            "min_width": null,
            "object_fit": null,
            "object_position": null,
            "order": null,
            "overflow": null,
            "overflow_x": null,
            "overflow_y": null,
            "padding": null,
            "right": null,
            "top": null,
            "visibility": null,
            "width": null
          }
        },
        "1ea876ab7c414f018a057e2492d9c376": {
          "model_module": "@jupyter-widgets/controls",
          "model_name": "DescriptionStyleModel",
          "model_module_version": "1.5.0",
          "state": {
            "_model_module": "@jupyter-widgets/controls",
            "_model_module_version": "1.5.0",
            "_model_name": "DescriptionStyleModel",
            "_view_count": null,
            "_view_module": "@jupyter-widgets/base",
            "_view_module_version": "1.2.0",
            "_view_name": "StyleView",
            "description_width": ""
          }
        },
        "91d39c4143fb4ae09d1323a18a4a7af0": {
          "model_module": "@jupyter-widgets/base",
          "model_name": "LayoutModel",
          "model_module_version": "1.2.0",
          "state": {
            "_model_module": "@jupyter-widgets/base",
            "_model_module_version": "1.2.0",
            "_model_name": "LayoutModel",
            "_view_count": null,
            "_view_module": "@jupyter-widgets/base",
            "_view_module_version": "1.2.0",
            "_view_name": "LayoutView",
            "align_content": null,
            "align_items": null,
            "align_self": null,
            "border": null,
            "bottom": null,
            "display": null,
            "flex": null,
            "flex_flow": null,
            "grid_area": null,
            "grid_auto_columns": null,
            "grid_auto_flow": null,
            "grid_auto_rows": null,
            "grid_column": null,
            "grid_gap": null,
            "grid_row": null,
            "grid_template_areas": null,
            "grid_template_columns": null,
            "grid_template_rows": null,
            "height": null,
            "justify_content": null,
            "justify_items": null,
            "left": null,
            "margin": null,
            "max_height": null,
            "max_width": null,
            "min_height": null,
            "min_width": null,
            "object_fit": null,
            "object_position": null,
            "order": null,
            "overflow": null,
            "overflow_x": null,
            "overflow_y": null,
            "padding": null,
            "right": null,
            "top": null,
            "visibility": null,
            "width": null
          }
        },
        "dc0453945d824119b248b01b8459a442": {
          "model_module": "@jupyter-widgets/controls",
          "model_name": "ProgressStyleModel",
          "model_module_version": "1.5.0",
          "state": {
            "_model_module": "@jupyter-widgets/controls",
            "_model_module_version": "1.5.0",
            "_model_name": "ProgressStyleModel",
            "_view_count": null,
            "_view_module": "@jupyter-widgets/base",
            "_view_module_version": "1.2.0",
            "_view_name": "StyleView",
            "bar_color": null,
            "description_width": ""
          }
        },
        "23d27ceb680d49e89ef9326c71f5657a": {
          "model_module": "@jupyter-widgets/base",
          "model_name": "LayoutModel",
          "model_module_version": "1.2.0",
          "state": {
            "_model_module": "@jupyter-widgets/base",
            "_model_module_version": "1.2.0",
            "_model_name": "LayoutModel",
            "_view_count": null,
            "_view_module": "@jupyter-widgets/base",
            "_view_module_version": "1.2.0",
            "_view_name": "LayoutView",
            "align_content": null,
            "align_items": null,
            "align_self": null,
            "border": null,
            "bottom": null,
            "display": null,
            "flex": null,
            "flex_flow": null,
            "grid_area": null,
            "grid_auto_columns": null,
            "grid_auto_flow": null,
            "grid_auto_rows": null,
            "grid_column": null,
            "grid_gap": null,
            "grid_row": null,
            "grid_template_areas": null,
            "grid_template_columns": null,
            "grid_template_rows": null,
            "height": null,
            "justify_content": null,
            "justify_items": null,
            "left": null,
            "margin": null,
            "max_height": null,
            "max_width": null,
            "min_height": null,
            "min_width": null,
            "object_fit": null,
            "object_position": null,
            "order": null,
            "overflow": null,
            "overflow_x": null,
            "overflow_y": null,
            "padding": null,
            "right": null,
            "top": null,
            "visibility": null,
            "width": null
          }
        },
        "e8a9f79741bb4d65a57b59913c1b250c": {
          "model_module": "@jupyter-widgets/controls",
          "model_name": "DescriptionStyleModel",
          "model_module_version": "1.5.0",
          "state": {
            "_model_module": "@jupyter-widgets/controls",
            "_model_module_version": "1.5.0",
            "_model_name": "DescriptionStyleModel",
            "_view_count": null,
            "_view_module": "@jupyter-widgets/base",
            "_view_module_version": "1.2.0",
            "_view_name": "StyleView",
            "description_width": ""
          }
        }
      }
    }
  },
  "nbformat": 4,
  "nbformat_minor": 5
}